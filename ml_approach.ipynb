{
 "cells": [
  {
   "cell_type": "code",
   "execution_count": 1,
   "id": "e26d8901",
   "metadata": {},
   "outputs": [],
   "source": [
    "# Imports\n",
    "import pandas as pd \n",
    "import numpy as np \n",
    "import seaborn as sns\n",
    "import matplotlib.pyplot as plt\n",
    "import matplotlib.ticker as mticker\n",
    "import re\n",
    "%matplotlib inline"
   ]
  },
  {
   "cell_type": "markdown",
   "id": "9b503e9a",
   "metadata": {},
   "source": [
    "Data -  https://www.kaggle.com/datasets/bittlingmayer/amazonreviews/code?datasetId=1305&sortBy=voteCount"
   ]
  },
  {
   "cell_type": "code",
   "execution_count": 2,
   "id": "31e7b623",
   "metadata": {},
   "outputs": [],
   "source": [
    "# Read data\n",
    "def parse_data(file_path):\n",
    "    data = []\n",
    "    with open(file_path, 'r', encoding='utf-8') as f:\n",
    "        for line in f:\n",
    "            label, text = line.split(\" \", 1)\n",
    "            data.append((label, text.strip()))\n",
    "    return data\n",
    "\n",
    "train_data = parse_data('Data/train.ft.txt')\n",
    "test_data = parse_data('Data/test.ft.txt')\n"
   ]
  },
  {
   "cell_type": "code",
   "execution_count": 3,
   "id": "604c2b8b",
   "metadata": {},
   "outputs": [],
   "source": [
    "# convert data into dataframe using pandas\n",
    "train_df = pd.DataFrame(train_data, columns = ['Target', 'Text'])\n",
    "test_df = pd.DataFrame(test_data, columns = ['Target', 'Text'])"
   ]
  },
  {
   "cell_type": "code",
   "execution_count": 4,
   "id": "420e0ca6",
   "metadata": {},
   "outputs": [
    {
     "data": {
      "text/html": [
       "<div>\n",
       "<style scoped>\n",
       "    .dataframe tbody tr th:only-of-type {\n",
       "        vertical-align: middle;\n",
       "    }\n",
       "\n",
       "    .dataframe tbody tr th {\n",
       "        vertical-align: top;\n",
       "    }\n",
       "\n",
       "    .dataframe thead th {\n",
       "        text-align: right;\n",
       "    }\n",
       "</style>\n",
       "<table border=\"1\" class=\"dataframe\">\n",
       "  <thead>\n",
       "    <tr style=\"text-align: right;\">\n",
       "      <th></th>\n",
       "      <th>Target</th>\n",
       "      <th>Text</th>\n",
       "    </tr>\n",
       "  </thead>\n",
       "  <tbody>\n",
       "    <tr>\n",
       "      <th>0</th>\n",
       "      <td>__label__2</td>\n",
       "      <td>Stuning even for the non-gamer: This sound tra...</td>\n",
       "    </tr>\n",
       "    <tr>\n",
       "      <th>1</th>\n",
       "      <td>__label__2</td>\n",
       "      <td>The best soundtrack ever to anything.: I'm rea...</td>\n",
       "    </tr>\n",
       "    <tr>\n",
       "      <th>2</th>\n",
       "      <td>__label__2</td>\n",
       "      <td>Amazing!: This soundtrack is my favorite music...</td>\n",
       "    </tr>\n",
       "    <tr>\n",
       "      <th>3</th>\n",
       "      <td>__label__2</td>\n",
       "      <td>Excellent Soundtrack: I truly like this soundt...</td>\n",
       "    </tr>\n",
       "    <tr>\n",
       "      <th>4</th>\n",
       "      <td>__label__2</td>\n",
       "      <td>Remember, Pull Your Jaw Off The Floor After He...</td>\n",
       "    </tr>\n",
       "  </tbody>\n",
       "</table>\n",
       "</div>"
      ],
      "text/plain": [
       "       Target                                               Text\n",
       "0  __label__2  Stuning even for the non-gamer: This sound tra...\n",
       "1  __label__2  The best soundtrack ever to anything.: I'm rea...\n",
       "2  __label__2  Amazing!: This soundtrack is my favorite music...\n",
       "3  __label__2  Excellent Soundtrack: I truly like this soundt...\n",
       "4  __label__2  Remember, Pull Your Jaw Off The Floor After He..."
      ]
     },
     "execution_count": 4,
     "metadata": {},
     "output_type": "execute_result"
    }
   ],
   "source": [
    "train_df.head()"
   ]
  },
  {
   "cell_type": "code",
   "execution_count": 5,
   "id": "5ee1b954",
   "metadata": {},
   "outputs": [
    {
     "data": {
      "text/html": [
       "<div>\n",
       "<style scoped>\n",
       "    .dataframe tbody tr th:only-of-type {\n",
       "        vertical-align: middle;\n",
       "    }\n",
       "\n",
       "    .dataframe tbody tr th {\n",
       "        vertical-align: top;\n",
       "    }\n",
       "\n",
       "    .dataframe thead th {\n",
       "        text-align: right;\n",
       "    }\n",
       "</style>\n",
       "<table border=\"1\" class=\"dataframe\">\n",
       "  <thead>\n",
       "    <tr style=\"text-align: right;\">\n",
       "      <th></th>\n",
       "      <th>Target</th>\n",
       "      <th>Text</th>\n",
       "    </tr>\n",
       "  </thead>\n",
       "  <tbody>\n",
       "    <tr>\n",
       "      <th>0</th>\n",
       "      <td>__label__2</td>\n",
       "      <td>Great CD: My lovely Pat has one of the GREAT v...</td>\n",
       "    </tr>\n",
       "    <tr>\n",
       "      <th>1</th>\n",
       "      <td>__label__2</td>\n",
       "      <td>One of the best game music soundtracks - for a...</td>\n",
       "    </tr>\n",
       "    <tr>\n",
       "      <th>2</th>\n",
       "      <td>__label__1</td>\n",
       "      <td>Batteries died within a year ...: I bought thi...</td>\n",
       "    </tr>\n",
       "    <tr>\n",
       "      <th>3</th>\n",
       "      <td>__label__2</td>\n",
       "      <td>works fine, but Maha Energy is better: Check o...</td>\n",
       "    </tr>\n",
       "    <tr>\n",
       "      <th>4</th>\n",
       "      <td>__label__2</td>\n",
       "      <td>Great for the non-audiophile: Reviewed quite a...</td>\n",
       "    </tr>\n",
       "  </tbody>\n",
       "</table>\n",
       "</div>"
      ],
      "text/plain": [
       "       Target                                               Text\n",
       "0  __label__2  Great CD: My lovely Pat has one of the GREAT v...\n",
       "1  __label__2  One of the best game music soundtracks - for a...\n",
       "2  __label__1  Batteries died within a year ...: I bought thi...\n",
       "3  __label__2  works fine, but Maha Energy is better: Check o...\n",
       "4  __label__2  Great for the non-audiophile: Reviewed quite a..."
      ]
     },
     "execution_count": 5,
     "metadata": {},
     "output_type": "execute_result"
    }
   ],
   "source": [
    "test_df.head()"
   ]
  },
  {
   "cell_type": "code",
   "execution_count": null,
   "id": "5cb7715b",
   "metadata": {},
   "outputs": [],
   "source": [
    "# Change the target values\n",
    "train_df['Target'] = train_df['Target'].map({'__label__1': 0, '__label__2': 1})\n",
    "# test_df['Target'] = test_df['Target'].map({'__label__1': 0, '__label__2': 0})"
   ]
  },
  {
   "cell_type": "code",
   "execution_count": 7,
   "id": "d8f662ca",
   "metadata": {},
   "outputs": [
    {
     "data": {
      "text/html": [
       "<div>\n",
       "<style scoped>\n",
       "    .dataframe tbody tr th:only-of-type {\n",
       "        vertical-align: middle;\n",
       "    }\n",
       "\n",
       "    .dataframe tbody tr th {\n",
       "        vertical-align: top;\n",
       "    }\n",
       "\n",
       "    .dataframe thead th {\n",
       "        text-align: right;\n",
       "    }\n",
       "</style>\n",
       "<table border=\"1\" class=\"dataframe\">\n",
       "  <thead>\n",
       "    <tr style=\"text-align: right;\">\n",
       "      <th></th>\n",
       "      <th>Target</th>\n",
       "      <th>Text</th>\n",
       "    </tr>\n",
       "  </thead>\n",
       "  <tbody>\n",
       "    <tr>\n",
       "      <th>0</th>\n",
       "      <td>2</td>\n",
       "      <td>Stuning even for the non-gamer: This sound tra...</td>\n",
       "    </tr>\n",
       "    <tr>\n",
       "      <th>1</th>\n",
       "      <td>2</td>\n",
       "      <td>The best soundtrack ever to anything.: I'm rea...</td>\n",
       "    </tr>\n",
       "  </tbody>\n",
       "</table>\n",
       "</div>"
      ],
      "text/plain": [
       "   Target                                               Text\n",
       "0       2  Stuning even for the non-gamer: This sound tra...\n",
       "1       2  The best soundtrack ever to anything.: I'm rea..."
      ]
     },
     "execution_count": 7,
     "metadata": {},
     "output_type": "execute_result"
    }
   ],
   "source": [
    "train_df.head(2)"
   ]
  },
  {
   "cell_type": "code",
   "execution_count": null,
   "id": "cea906d3",
   "metadata": {},
   "outputs": [
    {
     "data": {
      "text/html": [
       "<div>\n",
       "<style scoped>\n",
       "    .dataframe tbody tr th:only-of-type {\n",
       "        vertical-align: middle;\n",
       "    }\n",
       "\n",
       "    .dataframe tbody tr th {\n",
       "        vertical-align: top;\n",
       "    }\n",
       "\n",
       "    .dataframe thead th {\n",
       "        text-align: right;\n",
       "    }\n",
       "</style>\n",
       "<table border=\"1\" class=\"dataframe\">\n",
       "  <thead>\n",
       "    <tr style=\"text-align: right;\">\n",
       "      <th></th>\n",
       "      <th>Target</th>\n",
       "      <th>Text</th>\n",
       "    </tr>\n",
       "  </thead>\n",
       "  <tbody>\n",
       "    <tr>\n",
       "      <th>0</th>\n",
       "      <td>2</td>\n",
       "      <td>Great CD: My lovely Pat has one of the GREAT v...</td>\n",
       "    </tr>\n",
       "    <tr>\n",
       "      <th>1</th>\n",
       "      <td>2</td>\n",
       "      <td>One of the best game music soundtracks - for a...</td>\n",
       "    </tr>\n",
       "  </tbody>\n",
       "</table>\n",
       "</div>"
      ],
      "text/plain": [
       "   Target                                               Text\n",
       "0       2  Great CD: My lovely Pat has one of the GREAT v...\n",
       "1       2  One of the best game music soundtracks - for a..."
      ]
     },
     "execution_count": 8,
     "metadata": {},
     "output_type": "execute_result"
    }
   ],
   "source": [
    "# test_df.head(2)"
   ]
  },
  {
   "cell_type": "markdown",
   "id": "b5f0f410",
   "metadata": {},
   "source": [
    "From the kaggle page:\n",
    "- 1: Negative sentiment\n",
    "- 2: Positive sentiment\n",
    "\n",
    "Common terms:\n",
    "- Corpus: Paragraph\n",
    "- Documents: Lines\n",
    "- Vocabulary: all unique words present in the dataset. This could either be a list, dictionary where keys would be the word in vocabulary and the value will be the frequency of the word in vocabulary. It can also be of type Counter from collections package."
   ]
  },
  {
   "cell_type": "code",
   "execution_count": 9,
   "id": "7abbcb45",
   "metadata": {},
   "outputs": [
    {
     "data": {
      "text/plain": [
       "(3600000, 2)"
      ]
     },
     "execution_count": 9,
     "metadata": {},
     "output_type": "execute_result"
    }
   ],
   "source": [
    "# Get the shape of train dataset\n",
    "train_df.shape"
   ]
  },
  {
   "cell_type": "markdown",
   "id": "63c88370",
   "metadata": {},
   "source": [
    "We have 3600000 documents and two columns - one for target and other for the text related to target."
   ]
  },
  {
   "cell_type": "code",
   "execution_count": 10,
   "id": "695f0925",
   "metadata": {},
   "outputs": [
    {
     "data": {
      "text/plain": [
       "Target\n",
       "2    1800000\n",
       "1    1800000\n",
       "Name: count, dtype: int64"
      ]
     },
     "execution_count": 10,
     "metadata": {},
     "output_type": "execute_result"
    }
   ],
   "source": [
    "# Count the frequency of each label\n",
    "train_df['Target'].value_counts()"
   ]
  },
  {
   "cell_type": "code",
   "execution_count": 11,
   "id": "e2629ca0",
   "metadata": {},
   "outputs": [
    {
     "data": {
      "image/png": "[encoded data removed]",
      "text/plain": [
       "<Figure size 500x400 with 1 Axes>"
      ]
     },
     "metadata": {},
     "output_type": "display_data"
    }
   ],
   "source": [
    "plt.figure(figsize=(5, 4), facecolor='black')\n",
    "plt.suptitle(\"Plot the frequency of target variable\", fontsize = 20, fontweight = 'bold')\n",
    "\n",
    "\n",
    "ax = plt.subplot(1, 1, 1)\n",
    "sns.countplot(data = train_df, x = 'Target', color = 'magenta')\n",
    "plt.xlabel('Count of target variable')\n",
    "ax.set_facecolor('black')\n",
    "\n",
    "# Change the color of the labels an tickmarks to white\n",
    "\n",
    "ax.ticklabel_format(style='plain', axis='y', useOffset=False)\n",
    "ax.yaxis.set_major_formatter(mticker.FuncFormatter(lambda x, _: f'{int(x)}'))\n",
    "\n",
    "ax.xaxis.label.set_color('white')\n",
    "ax.yaxis.label.set_color('white')\n",
    "ax.tick_params(axis = 'x', colors = 'white')\n",
    "ax.tick_params(axis = 'y', colors = 'white')\n",
    "\n",
    "for p in ax.patches:\n",
    "    ax.annotate(\n",
    "        format(int(p.get_height())),\n",
    "        (p.get_x() + p.get_width()/2, p.get_height()),\n",
    "        ha = 'center', va='center',\n",
    "        xytext=(0, 5),\n",
    "        textcoords='offset points',\n",
    "        fontsize = 12, color = 'white', weight='bold'\n",
    "    )"
   ]
  },
  {
   "cell_type": "markdown",
   "id": "446cb025",
   "metadata": {},
   "source": [
    "As the both the negative and positive sentiment are exactly in same quantity therefore we have a balanced dataset. Although this happens seldomly in real life."
   ]
  },
  {
   "cell_type": "code",
   "execution_count": 12,
   "id": "6dcb9277",
   "metadata": {},
   "outputs": [
    {
     "data": {
      "text/plain": [
       "Target    0\n",
       "Text      0\n",
       "dtype: int64"
      ]
     },
     "execution_count": 12,
     "metadata": {},
     "output_type": "execute_result"
    }
   ],
   "source": [
    "# Check for null values\n",
    "train_df.isnull().sum()"
   ]
  },
  {
   "cell_type": "markdown",
   "id": "574ccced",
   "metadata": {},
   "source": [
    "There are no null values present in the dataset"
   ]
  },
  {
   "cell_type": "code",
   "execution_count": 13,
   "id": "96e65cf8",
   "metadata": {},
   "outputs": [
    {
     "data": {
      "text/plain": [
       "np.int64(0)"
      ]
     },
     "execution_count": 13,
     "metadata": {},
     "output_type": "execute_result"
    }
   ],
   "source": [
    "# Check for duplicates\n",
    "train_df.duplicated().sum()"
   ]
  },
  {
   "cell_type": "markdown",
   "id": "b952d973",
   "metadata": {},
   "source": [
    "There are no duplicates present"
   ]
  },
  {
   "cell_type": "code",
   "execution_count": 14,
   "id": "cd5330ea",
   "metadata": {},
   "outputs": [],
   "source": [
    "# Count the total number of words in each comment\n",
    "train_df['total_words_before_cleanup'] = train_df['Text'].apply(lambda x: len(x.split())) "
   ]
  },
  {
   "cell_type": "code",
   "execution_count": 15,
   "id": "1509f1f5",
   "metadata": {},
   "outputs": [
    {
     "data": {
      "text/html": [
       "<div>\n",
       "<style scoped>\n",
       "    .dataframe tbody tr th:only-of-type {\n",
       "        vertical-align: middle;\n",
       "    }\n",
       "\n",
       "    .dataframe tbody tr th {\n",
       "        vertical-align: top;\n",
       "    }\n",
       "\n",
       "    .dataframe thead th {\n",
       "        text-align: right;\n",
       "    }\n",
       "</style>\n",
       "<table border=\"1\" class=\"dataframe\">\n",
       "  <thead>\n",
       "    <tr style=\"text-align: right;\">\n",
       "      <th></th>\n",
       "      <th>Target</th>\n",
       "      <th>Text</th>\n",
       "      <th>total_words_before_cleanup</th>\n",
       "    </tr>\n",
       "  </thead>\n",
       "  <tbody>\n",
       "    <tr>\n",
       "      <th>0</th>\n",
       "      <td>2</td>\n",
       "      <td>Stuning even for the non-gamer: This sound tra...</td>\n",
       "      <td>80</td>\n",
       "    </tr>\n",
       "    <tr>\n",
       "      <th>1</th>\n",
       "      <td>2</td>\n",
       "      <td>The best soundtrack ever to anything.: I'm rea...</td>\n",
       "      <td>97</td>\n",
       "    </tr>\n",
       "    <tr>\n",
       "      <th>2</th>\n",
       "      <td>2</td>\n",
       "      <td>Amazing!: This soundtrack is my favorite music...</td>\n",
       "      <td>129</td>\n",
       "    </tr>\n",
       "    <tr>\n",
       "      <th>3</th>\n",
       "      <td>2</td>\n",
       "      <td>Excellent Soundtrack: I truly like this soundt...</td>\n",
       "      <td>118</td>\n",
       "    </tr>\n",
       "    <tr>\n",
       "      <th>4</th>\n",
       "      <td>2</td>\n",
       "      <td>Remember, Pull Your Jaw Off The Floor After He...</td>\n",
       "      <td>87</td>\n",
       "    </tr>\n",
       "  </tbody>\n",
       "</table>\n",
       "</div>"
      ],
      "text/plain": [
       "   Target                                               Text  \\\n",
       "0       2  Stuning even for the non-gamer: This sound tra...   \n",
       "1       2  The best soundtrack ever to anything.: I'm rea...   \n",
       "2       2  Amazing!: This soundtrack is my favorite music...   \n",
       "3       2  Excellent Soundtrack: I truly like this soundt...   \n",
       "4       2  Remember, Pull Your Jaw Off The Floor After He...   \n",
       "\n",
       "   total_words_before_cleanup  \n",
       "0                          80  \n",
       "1                          97  \n",
       "2                         129  \n",
       "3                         118  \n",
       "4                          87  "
      ]
     },
     "execution_count": 15,
     "metadata": {},
     "output_type": "execute_result"
    }
   ],
   "source": [
    "train_df.head()"
   ]
  },
  {
   "cell_type": "markdown",
   "id": "31df67bc",
   "metadata": {},
   "source": [
    "# Data cleaning"
   ]
  },
  {
   "cell_type": "code",
   "execution_count": 16,
   "id": "789b3d71",
   "metadata": {},
   "outputs": [],
   "source": [
    "text = train_df['Text'][2]"
   ]
  },
  {
   "cell_type": "code",
   "execution_count": 17,
   "id": "4367096f",
   "metadata": {},
   "outputs": [
    {
     "data": {
      "text/plain": [
       "'Amazing!: This soundtrack is my favorite music of all time, hands down. The intense sadness of \"Prisoners of Fate\" (which means all the more if you\\'ve played the game) and the hope in \"A Distant Promise\" and \"Girl who Stole the Star\" have been an important inspiration to me personally throughout my teen years. The higher energy tracks like \"Chrono Cross ~ Time\\'s Scar~\", \"Time of the Dreamwatch\", and \"Chronomantique\" (indefinably remeniscent of Chrono Trigger) are all absolutely superb as well.This soundtrack is amazing music, probably the best of this composer\\'s work (I haven\\'t heard the Xenogears soundtrack, so I can\\'t say for sure), and even if you\\'ve never played the game, it would be worth twice the price to buy it.I wish I could give it 6 stars.'"
      ]
     },
     "execution_count": 17,
     "metadata": {},
     "output_type": "execute_result"
    }
   ],
   "source": [
    "text"
   ]
  },
  {
   "cell_type": "code",
   "execution_count": 18,
   "id": "fb7622b0",
   "metadata": {},
   "outputs": [
    {
     "data": {
      "text/plain": [
       "'amazing!: this soundtrack is my favorite music of all time, hands down. the intense sadness of \"prisoners of fate\" (which means all the more if you\\'ve played the game) and the hope in \"a distant promise\" and \"girl who stole the star\" have been an important inspiration to me personally throughout my teen years. the higher energy tracks like \"chrono cross ~ time\\'s scar~\", \"time of the dreamwatch\", and \"chronomantique\" (indefinably remeniscent of chrono trigger) are all absolutely superb as well.this soundtrack is amazing music, probably the best of this composer\\'s work (i haven\\'t heard the xenogears soundtrack, so i can\\'t say for sure), and even if you\\'ve never played the game, it would be worth twice the price to buy it.i wish i could give it 6 stars.'"
      ]
     },
     "execution_count": 18,
     "metadata": {},
     "output_type": "execute_result"
    }
   ],
   "source": [
    "# 1. Convert all words into lower case\n",
    "clean_text = text.lower()\n",
    "clean_text"
   ]
  },
  {
   "cell_type": "code",
   "execution_count": 19,
   "id": "38e7eecb",
   "metadata": {},
   "outputs": [
    {
     "data": {
      "text/plain": [
       "'amazing this soundtrack is my favorite music of all time hands down the intense sadness of prisoners of fate which means all the more if youve played the game and the hope in a distant promise and girl who stole the star have been an important inspiration to me personally throughout my teen years the higher energy tracks like chrono cross  times scar time of the dreamwatch and chronomantique indefinably remeniscent of chrono trigger are all absolutely superb as wellthis soundtrack is amazing music probably the best of this composers work i havent heard the xenogears soundtrack so i cant say for sure and even if youve never played the game it would be worth twice the price to buy iti wish i could give it 6 stars'"
      ]
     },
     "execution_count": 19,
     "metadata": {},
     "output_type": "execute_result"
    }
   ],
   "source": [
    "# 2. Remove punctuations \n",
    "# The pattern r'[^\\w\\s]' matches any character that is not (^) a word character (\\w) or a whitespace (\\s).\n",
    "# It replaces those punctuation characters with an empty string ''\n",
    "clean_text = re.sub(r'[^\\w\\s]', '', clean_text)\n",
    "clean_text"
   ]
  },
  {
   "cell_type": "code",
   "execution_count": 20,
   "id": "d4773f44",
   "metadata": {},
   "outputs": [
    {
     "data": {
      "text/plain": [
       "'amazing this soundtrack is my favorite music of all time hands down the intense sadness of prisoners of fate which means all the more if youve played the game and the hope in a distant promise and girl who stole the star have been an important inspiration to me personally throughout my teen years the higher energy tracks like chrono cross  times scar time of the dreamwatch and chronomantique indefinably remeniscent of chrono trigger are all absolutely superb as wellthis soundtrack is amazing music probably the best of this composers work i havent heard the xenogears soundtrack so i cant say for sure and even if youve never played the game it would be worth twice the price to buy iti wish i could give it 6 stars'"
      ]
     },
     "execution_count": 20,
     "metadata": {},
     "output_type": "execute_result"
    }
   ],
   "source": [
    "# 3. Clean up all the special characters or letters with accents\n",
    "clean_text = re.sub(\"@[A-Za-z0-9]+\", \"\", clean_text)\n",
    "clean_text"
   ]
  },
  {
   "cell_type": "code",
   "execution_count": 21,
   "id": "c2b40247",
   "metadata": {},
   "outputs": [
    {
     "data": {
      "text/plain": [
       "'See my article \"Jean Hill - The Lady in Red\" online: Since writing my review of JFK: THE LAST DISSENTING WITNESS in 1998, I have been able to have my 35-page article - \"Jean Hill -The Lady in Red\" - included in Clint Bradford\\'s JFK Assassination website. The address is: http://www.jfk-info.com/sitemap1.htm (scroll down for title).'"
      ]
     },
     "execution_count": 21,
     "metadata": {},
     "output_type": "execute_result"
    }
   ],
   "source": [
    "# 4. Clean up all the links\n",
    "text = train_df['Text'][436]\n",
    "text"
   ]
  },
  {
   "cell_type": "code",
   "execution_count": 22,
   "id": "74b5b2e7",
   "metadata": {},
   "outputs": [
    {
     "data": {
      "text/plain": [
       "'See my article \"Jean Hill - The Lady in Red\" online: Since writing my review of JFK: THE LAST DISSENTING WITNESS in 1998, I have been able to have my 35-page article - \"Jean Hill -The Lady in Red\" - included in Clint Bradford\\'s JFK Assassination website. The address is:  (scroll down for title).'"
      ]
     },
     "execution_count": 22,
     "metadata": {},
     "output_type": "execute_result"
    }
   ],
   "source": [
    "clean_text = re.sub(r'https?://\\S+|www\\.\\S+', '', text)\n",
    "clean_text"
   ]
  },
  {
   "cell_type": "code",
   "execution_count": 23,
   "id": "597f5af2",
   "metadata": {},
   "outputs": [
    {
     "data": {
      "text/plain": [
       "'It AIN\\'T all that!: I bought this book based on the reviews I read here, but if I could do it over, I would <b>NOT</b> buy this book.Issue #1This book has A LOT of errors. The author\\'s website dismisses all the mistakes by saying, \"All printed material has mistakes.\" First, I doubt that \"all\" have mistakes. Second, this book has A LOT of mistakes. I have many books and this one has the most errors. I went to their site to get the errata and found a mistake in their corrections!Issue #2The CD that comes with the book is quirky and it\\'s not easy to find all stuff that\\'s supposed to be on it.Issue #3Now that LearnKey is defunct, you cannot get a code to unlock the rest of the info on the CD. Instead, the autor\\'s site charges for a new, unlocked CD.Go for another, more reliable book! Unless you enjoy wasting money for misinformation.'"
      ]
     },
     "execution_count": 23,
     "metadata": {},
     "output_type": "execute_result"
    }
   ],
   "source": [
    "# 5. Remove html tags\n",
    "text = train_df['Text'][44318]\n",
    "text"
   ]
  },
  {
   "cell_type": "code",
   "execution_count": 24,
   "id": "a5233847",
   "metadata": {},
   "outputs": [
    {
     "data": {
      "text/plain": [
       "'It AIN\\'T all that!: I bought this book based on the reviews I read here, but if I could do it over, I would NOT buy this book.Issue #1This book has A LOT of errors. The author\\'s website dismisses all the mistakes by saying, \"All printed material has mistakes.\" First, I doubt that \"all\" have mistakes. Second, this book has A LOT of mistakes. I have many books and this one has the most errors. I went to their site to get the errata and found a mistake in their corrections!Issue #2The CD that comes with the book is quirky and it\\'s not easy to find all stuff that\\'s supposed to be on it.Issue #3Now that LearnKey is defunct, you cannot get a code to unlock the rest of the info on the CD. Instead, the autor\\'s site charges for a new, unlocked CD.Go for another, more reliable book! Unless you enjoy wasting money for misinformation.'"
      ]
     },
     "execution_count": 24,
     "metadata": {},
     "output_type": "execute_result"
    }
   ],
   "source": [
    "cleaned_text = re.sub(r'<.*?>', '', text)\n",
    "cleaned_text"
   ]
  },
  {
   "cell_type": "code",
   "execution_count": 25,
   "id": "9672593e",
   "metadata": {},
   "outputs": [
    {
     "data": {
      "text/plain": [
       "'I feel ya \"Ghenry187@aol\"...this CD rocks. No Limit can\\'t...: I feel ya \"Ghenry187@aol.com\"...this CD rocks. No Limit can\\'t touch Cash $ Money Records. I don\\'t know why that new Tru CD sold one million in the first place. Who cares, \\'cause I just checked the billboard charts and discovered that Juvenile sold more that two million. So they can\\'t be faded. Anyway, back to this CD. Every song on this CD rocks. My favorite song is \"Help\" by B.G. I love this CD.'"
      ]
     },
     "execution_count": 25,
     "metadata": {},
     "output_type": "execute_result"
    }
   ],
   "source": [
    "# 6. Remove any email address\n",
    "text = train_df['Text'][291]\n",
    "text"
   ]
  },
  {
   "cell_type": "code",
   "execution_count": 26,
   "id": "5d40af44",
   "metadata": {},
   "outputs": [
    {
     "data": {
      "text/plain": [
       "'I feel ya  CD rocks. No Limit can\\'t...: I feel ya  CD rocks. No Limit can\\'t touch Cash $ Money Records. I don\\'t know why that new Tru CD sold one million in the first place. Who cares, \\'cause I just checked the billboard charts and discovered that Juvenile sold more that two million. So they can\\'t be faded. Anyway, back to this CD. Every song on this CD rocks. My favorite song is \"Help\" by B.G. I love this CD.'"
      ]
     },
     "execution_count": 26,
     "metadata": {},
     "output_type": "execute_result"
    }
   ],
   "source": [
    "clean_text = re.sub(r'\\S+@\\S+', '', text)\n",
    "clean_text"
   ]
  },
  {
   "cell_type": "code",
   "execution_count": 27,
   "id": "9b7a9926",
   "metadata": {},
   "outputs": [
    {
     "data": {
      "text/plain": [
       "'The Ultimate Movie Review! - [...] - @tss5078: ...except it\\'s not! This film is supposed to be an uplifting comedy, however I found it painfully predictable and a bit sad. Keir Gilchrist was great, playing Craig, a young mental patient who wants to kill himself. Gilchrist and the flashes of his thoughts, that we get to see, are the best part of this film and the only thing really worth seeing. Zach Galifianakis, who is one of my favorites, isn\\'t at all funny, he\\'s actually kind of pathetic in this film. Despite Gilchrist performance, the movie is actually quite stupid, I mean what kind of mental hospital lets the patients have access to the roof of the hospital? It looked good, has some really good actors in it, but nothing happens, the story is predictable as hell, and it\\'s a \"comedy\" in which no one really says or does anything funny. I was hugely disappointed with it.'"
      ]
     },
     "execution_count": 27,
     "metadata": {},
     "output_type": "execute_result"
    }
   ],
   "source": [
    "# 7. Remove any mentions\n",
    "text = train_df['Text'][18367]\n",
    "text"
   ]
  },
  {
   "cell_type": "code",
   "execution_count": 28,
   "id": "a39b7f3d",
   "metadata": {},
   "outputs": [
    {
     "data": {
      "text/plain": [
       "'The Ultimate Movie Review! - [...] - : ...except it\\'s not! This film is supposed to be an uplifting comedy, however I found it painfully predictable and a bit sad. Keir Gilchrist was great, playing Craig, a young mental patient who wants to kill himself. Gilchrist and the flashes of his thoughts, that we get to see, are the best part of this film and the only thing really worth seeing. Zach Galifianakis, who is one of my favorites, isn\\'t at all funny, he\\'s actually kind of pathetic in this film. Despite Gilchrist performance, the movie is actually quite stupid, I mean what kind of mental hospital lets the patients have access to the roof of the hospital? It looked good, has some really good actors in it, but nothing happens, the story is predictable as hell, and it\\'s a \"comedy\" in which no one really says or does anything funny. I was hugely disappointed with it.'"
      ]
     },
     "execution_count": 28,
     "metadata": {},
     "output_type": "execute_result"
    }
   ],
   "source": [
    "clean_text = re.sub(r'@\\w+', '', text)\n",
    "clean_text"
   ]
  },
  {
   "cell_type": "code",
   "execution_count": null,
   "id": "4bcbc9db",
   "metadata": {},
   "outputs": [],
   "source": [
    "# Let us put this all in a single function that can be applied to the full text column in the dataframe\n",
    "\n",
    "def data_cleaning(text):\n",
    "    clean_text = text.lower()\n",
    "    clean_text = re.sub(r'[^\\w\\s]', '', clean_text)\n",
    "    clean_text = re.sub(r'https?://\\S+|www\\.\\S+', '', clean_text)\n",
    "    clean_text = re.sub(r'<.*?>', '', clean_text)\n",
    "    clean_text = re.sub(r'\\S+@\\S+', '', clean_text)\n",
    "    clean_text = re.sub(r'@\\w+', '', clean_text)\n",
    "    clean_text = re.sub(\"@[A-Za-z]+\", \"\", clean_text)\n",
    "    return clean_text    "
   ]
  },
  {
   "cell_type": "code",
   "execution_count": 30,
   "id": "e60a5f33",
   "metadata": {},
   "outputs": [],
   "source": [
    "# Clean the dataframe by applying this function\n",
    "train_df['clean_text'] = train_df['Text'].apply(data_cleaning) "
   ]
  },
  {
   "cell_type": "code",
   "execution_count": 31,
   "id": "ab8c51e9",
   "metadata": {},
   "outputs": [
    {
     "data": {
      "text/html": [
       "<div>\n",
       "<style scoped>\n",
       "    .dataframe tbody tr th:only-of-type {\n",
       "        vertical-align: middle;\n",
       "    }\n",
       "\n",
       "    .dataframe tbody tr th {\n",
       "        vertical-align: top;\n",
       "    }\n",
       "\n",
       "    .dataframe thead th {\n",
       "        text-align: right;\n",
       "    }\n",
       "</style>\n",
       "<table border=\"1\" class=\"dataframe\">\n",
       "  <thead>\n",
       "    <tr style=\"text-align: right;\">\n",
       "      <th></th>\n",
       "      <th>Target</th>\n",
       "      <th>Text</th>\n",
       "      <th>total_words_before_cleanup</th>\n",
       "      <th>clean_text</th>\n",
       "    </tr>\n",
       "  </thead>\n",
       "  <tbody>\n",
       "    <tr>\n",
       "      <th>0</th>\n",
       "      <td>2</td>\n",
       "      <td>Stuning even for the non-gamer: This sound tra...</td>\n",
       "      <td>80</td>\n",
       "      <td>stuning even for the nongamer this sound track...</td>\n",
       "    </tr>\n",
       "    <tr>\n",
       "      <th>1</th>\n",
       "      <td>2</td>\n",
       "      <td>The best soundtrack ever to anything.: I'm rea...</td>\n",
       "      <td>97</td>\n",
       "      <td>the best soundtrack ever to anything im readin...</td>\n",
       "    </tr>\n",
       "    <tr>\n",
       "      <th>2</th>\n",
       "      <td>2</td>\n",
       "      <td>Amazing!: This soundtrack is my favorite music...</td>\n",
       "      <td>129</td>\n",
       "      <td>amazing this soundtrack is my favorite music o...</td>\n",
       "    </tr>\n",
       "    <tr>\n",
       "      <th>3</th>\n",
       "      <td>2</td>\n",
       "      <td>Excellent Soundtrack: I truly like this soundt...</td>\n",
       "      <td>118</td>\n",
       "      <td>excellent soundtrack i truly like this soundtr...</td>\n",
       "    </tr>\n",
       "    <tr>\n",
       "      <th>4</th>\n",
       "      <td>2</td>\n",
       "      <td>Remember, Pull Your Jaw Off The Floor After He...</td>\n",
       "      <td>87</td>\n",
       "      <td>remember pull your jaw off the floor after hea...</td>\n",
       "    </tr>\n",
       "  </tbody>\n",
       "</table>\n",
       "</div>"
      ],
      "text/plain": [
       "   Target                                               Text  \\\n",
       "0       2  Stuning even for the non-gamer: This sound tra...   \n",
       "1       2  The best soundtrack ever to anything.: I'm rea...   \n",
       "2       2  Amazing!: This soundtrack is my favorite music...   \n",
       "3       2  Excellent Soundtrack: I truly like this soundt...   \n",
       "4       2  Remember, Pull Your Jaw Off The Floor After He...   \n",
       "\n",
       "   total_words_before_cleanup  \\\n",
       "0                          80   \n",
       "1                          97   \n",
       "2                         129   \n",
       "3                         118   \n",
       "4                          87   \n",
       "\n",
       "                                          clean_text  \n",
       "0  stuning even for the nongamer this sound track...  \n",
       "1  the best soundtrack ever to anything im readin...  \n",
       "2  amazing this soundtrack is my favorite music o...  \n",
       "3  excellent soundtrack i truly like this soundtr...  \n",
       "4  remember pull your jaw off the floor after hea...  "
      ]
     },
     "execution_count": 31,
     "metadata": {},
     "output_type": "execute_result"
    }
   ],
   "source": [
    "train_df.head(5)"
   ]
  },
  {
   "cell_type": "markdown",
   "id": "618209f9",
   "metadata": {},
   "source": [
    "# NLTK"
   ]
  },
  {
   "cell_type": "code",
   "execution_count": 32,
   "id": "7e2e7663",
   "metadata": {},
   "outputs": [
    {
     "name": "stdout",
     "output_type": "stream",
     "text": [
      "{'once', 'just', 'whom', 'couldn', 'didn', \"you've\", \"aren't\", 'no', 'down', \"wasn't\", 'with', 'having', 'only', 'than', 'this', \"isn't\", 'do', 'few', 'yours', \"couldn't\", \"weren't\", 'where', \"hasn't\", 'mightn', 'itself', \"shan't\", 'is', 'being', 'don', 'mustn', 'won', 'their', 'most', 'yourselves', 'am', \"mightn't\", \"hadn't\", \"that'll\", 'ourselves', 'over', 'or', 'such', 'his', 'each', 'ma', 'her', 'hers', 'when', 'which', 'doing', \"you'll\", 'he', 'she', 'did', 'out', 'its', 'so', 'why', 'wouldn', 'the', 'more', 'needn', \"should've\", 'while', 'yourself', 'other', 'not', 'through', 'again', 'was', 'it', \"wouldn't\", 'myself', 'him', 'you', 'are', 'as', 'further', 'before', 'ain', 'what', 'they', \"won't\", 'were', 'then', 'hadn', 'had', 'who', \"mustn't\", 'very', 'of', 'against', 'm', 'by', 'below', 'now', 'some', 'doesn', 'that', 'those', \"she's\", \"needn't\", 'all', \"don't\", 'd', 'has', 'because', 've', 'nor', 'shan', 'under', 'weren', 'there', 'll', 'these', 'between', 'hasn', 'should', 'we', \"you're\", 'themselves', 'up', 't', 'your', 'wasn', 'have', 'and', 'during', 'if', 'me', 'himself', 'at', \"didn't\", \"shouldn't\", \"doesn't\", 'i', 'into', 'here', 'from', 'aren', 'o', 'but', 'how', 's', 'theirs', 'after', 'in', 'about', 'until', 'them', 'both', 'haven', 'any', 'to', 'herself', 'same', 'isn', 'shouldn', 'been', \"it's\", 'on', 'y', 'own', 'for', 'an', 'off', 'can', 're', \"haven't\", 'above', \"you'd\", 'ours', 'will', 'does', 'a', 'be', 'our', 'my', 'too'}\n"
     ]
    }
   ],
   "source": [
    "import nltk\n",
    "from nltk.corpus import stopwords\n",
    "nltk_stopwords = set(stopwords.words('english'))\n",
    "\n",
    "# Let us print the stopwords from nltk library\n",
    "print(nltk_stopwords)"
   ]
  },
  {
   "cell_type": "code",
   "execution_count": 33,
   "id": "c0c0e6d3",
   "metadata": {},
   "outputs": [
    {
     "data": {
      "text/plain": [
       "179"
      ]
     },
     "execution_count": 33,
     "metadata": {},
     "output_type": "execute_result"
    }
   ],
   "source": [
    "len(nltk_stopwords)"
   ]
  },
  {
   "cell_type": "code",
   "execution_count": 34,
   "id": "0e65d132",
   "metadata": {},
   "outputs": [],
   "source": [
    "# Some of the words like not, too, never express the sentiment and we do not want to loose it. So I have created this updated\n",
    "# stop words list and we will only remove these stop words. \n",
    "cleaned_stopwords = {\n",
    "    'most', 'now', 'were', 'itself', 'more', 'doing', 'again', 're', 'before', 'whom', 'has', \n",
    "    \"you're\", 'he', 'hers', 'her', 'who', \"you'll\", 've', 'all', 'did', 'herself', 'are', \n",
    "    'that', 'off', 'for', 'this', 'o', 'then', 'your', 'into', 'we', 'as', \"it's\", 'from', \n",
    "    'been', 'yours', 'm', 'below', 'y', 'the', 'these', 'than', 'down', 'himself', 'themselves', \n",
    "    'at', 'our', 'under', 'is', 'against', 's', 'few', 'other', 'theirs', 'me', 'there', 'you', \n",
    "    'ourselves', 'i', 'own', 'during', 'd', 'myself', 'further', 'had', 'while', 'out', \"she's\", \n",
    "    'over', \"that'll\", 'with', 'if', 'do', 'yourself', 'ma', 'my', 'between', 'any', 'on', \n",
    "    \"should've\", \"you'd\", 'their', 'an', 'ours', 'him', 'here', 'through', 'such', 'above', \n",
    "    'but', 'or', 'same', 'which', 'a', 'of', 'having', 'about', 'its', 'does', 'to', 'being', \n",
    "    \"you've\", 'those', 't', 'be', 'in', 'nor', 'hadn', 'she', 'have', 'll', 'once', 'them', \n",
    "    'after', 'by', 'until', 'and', 'it', 'each', 'yourselves', \"hadn't\"\n",
    "}"
   ]
  },
  {
   "cell_type": "code",
   "execution_count": 35,
   "id": "e774e278",
   "metadata": {},
   "outputs": [
    {
     "data": {
      "text/plain": [
       "121"
      ]
     },
     "execution_count": 35,
     "metadata": {},
     "output_type": "execute_result"
    }
   ],
   "source": [
    "len(cleaned_stopwords)"
   ]
  },
  {
   "cell_type": "code",
   "execution_count": 36,
   "id": "86e2e10c",
   "metadata": {},
   "outputs": [],
   "source": [
    "# Now we can do either stemming or lemmatization. \n",
    "# Stemming is not so great as sometimes meaning of words get changed. \n",
    "# Therefore we will use lemmatisation\n",
    "\n",
    "from nltk.stem import WordNetLemmatizer\n",
    "lemmatizer = WordNetLemmatizer()"
   ]
  },
  {
   "cell_type": "code",
   "execution_count": 37,
   "id": "0917bdb5",
   "metadata": {},
   "outputs": [
    {
     "data": {
      "text/plain": [
       "\"The best soundtrack ever to anything.: I'm reading a lot of review saying that this is the best 'game soundtrack' and I figured that I'd write a review to disagree a bit. This in my opinino is Yasunori Mitsuda's ultimate masterpiece. The music is timeless and I'm been listening to it for year now and it beauty simply refuse to fade.The price tag on this is pretty staggering I must say, but if you are going to buy any cd for this much money, this is the only one that I feel would be worth every penny. \""
      ]
     },
     "execution_count": 37,
     "metadata": {},
     "output_type": "execute_result"
    }
   ],
   "source": [
    "text = train_df['Text'][1]\n",
    "new_sentence = ''\n",
    "for token in text.split():\n",
    "    new_sentence = new_sentence + lemmatizer.lemmatize(token) + ' '\n",
    "\n",
    "new_sentence"
   ]
  },
  {
   "cell_type": "code",
   "execution_count": null,
   "id": "14afc7a6",
   "metadata": {},
   "outputs": [],
   "source": [
    "def lemmatize_clean_data(text):\n",
    "    new_sentence = ''\n",
    "    for token in text.split():\n",
    "        new_sentence = new_sentence + lemmatizer.lemmatize(token) + ' '\n",
    "    return new_sentence\n",
    "\n",
    "def remove_stop_words(text):\n",
    "    new_sentence = ''\n",
    "    for token in text.split(): \n",
    "        if token not in cleaned_stopwords:\n",
    "            new_sentence = new_sentence + token + ' '\n",
    "    return new_sentence\n",
    "\n"
   ]
  },
  {
   "cell_type": "code",
   "execution_count": 39,
   "id": "e09c8a2e",
   "metadata": {},
   "outputs": [],
   "source": [
    "train_df['clean_text'] = train_df['clean_text'].apply(lemmatize_clean_data)"
   ]
  },
  {
   "cell_type": "code",
   "execution_count": 40,
   "id": "65173d53",
   "metadata": {},
   "outputs": [],
   "source": [
    "train_df['clean_text_without_stopwords'] = train_df['clean_text'].apply(remove_stop_words)"
   ]
  },
  {
   "cell_type": "code",
   "execution_count": 41,
   "id": "d1287c91",
   "metadata": {},
   "outputs": [],
   "source": [
    "train_df['total_words_clean_text'] = train_df['clean_text'].apply(lambda x: len(x.split())) \n",
    "train_df['total_words_clean_text_without_stopwords'] = train_df['clean_text_without_stopwords'].apply(lambda x: len(x.split())) "
   ]
  },
  {
   "cell_type": "code",
   "execution_count": 42,
   "id": "097b35d7",
   "metadata": {},
   "outputs": [
    {
     "data": {
      "text/html": [
       "<div>\n",
       "<style scoped>\n",
       "    .dataframe tbody tr th:only-of-type {\n",
       "        vertical-align: middle;\n",
       "    }\n",
       "\n",
       "    .dataframe tbody tr th {\n",
       "        vertical-align: top;\n",
       "    }\n",
       "\n",
       "    .dataframe thead th {\n",
       "        text-align: right;\n",
       "    }\n",
       "</style>\n",
       "<table border=\"1\" class=\"dataframe\">\n",
       "  <thead>\n",
       "    <tr style=\"text-align: right;\">\n",
       "      <th></th>\n",
       "      <th>Target</th>\n",
       "      <th>Text</th>\n",
       "      <th>total_words_before_cleanup</th>\n",
       "      <th>clean_text</th>\n",
       "      <th>clean_text_without_stopwords</th>\n",
       "      <th>total_words_clean_text</th>\n",
       "      <th>total_words_clean_text_without_stopwords</th>\n",
       "    </tr>\n",
       "  </thead>\n",
       "  <tbody>\n",
       "    <tr>\n",
       "      <th>0</th>\n",
       "      <td>2</td>\n",
       "      <td>Stuning even for the non-gamer: This sound tra...</td>\n",
       "      <td>80</td>\n",
       "      <td>stuning even for the nongamer this sound track...</td>\n",
       "      <td>stuning even nongamer sound track wa beautiful...</td>\n",
       "      <td>80</td>\n",
       "      <td>47</td>\n",
       "    </tr>\n",
       "    <tr>\n",
       "      <th>1</th>\n",
       "      <td>2</td>\n",
       "      <td>The best soundtrack ever to anything.: I'm rea...</td>\n",
       "      <td>97</td>\n",
       "      <td>the best soundtrack ever to anything im readin...</td>\n",
       "      <td>best soundtrack ever anything im reading lot r...</td>\n",
       "      <td>97</td>\n",
       "      <td>50</td>\n",
       "    </tr>\n",
       "    <tr>\n",
       "      <th>2</th>\n",
       "      <td>2</td>\n",
       "      <td>Amazing!: This soundtrack is my favorite music...</td>\n",
       "      <td>129</td>\n",
       "      <td>amazing this soundtrack is my favorite music o...</td>\n",
       "      <td>amazing soundtrack favorite music time hand in...</td>\n",
       "      <td>128</td>\n",
       "      <td>75</td>\n",
       "    </tr>\n",
       "    <tr>\n",
       "      <th>3</th>\n",
       "      <td>2</td>\n",
       "      <td>Excellent Soundtrack: I truly like this soundt...</td>\n",
       "      <td>118</td>\n",
       "      <td>excellent soundtrack i truly like this soundtr...</td>\n",
       "      <td>excellent soundtrack truly like soundtrack enj...</td>\n",
       "      <td>116</td>\n",
       "      <td>73</td>\n",
       "    </tr>\n",
       "    <tr>\n",
       "      <th>4</th>\n",
       "      <td>2</td>\n",
       "      <td>Remember, Pull Your Jaw Off The Floor After He...</td>\n",
       "      <td>87</td>\n",
       "      <td>remember pull your jaw off the floor after hea...</td>\n",
       "      <td>remember pull jaw floor hearing youve played g...</td>\n",
       "      <td>87</td>\n",
       "      <td>51</td>\n",
       "    </tr>\n",
       "  </tbody>\n",
       "</table>\n",
       "</div>"
      ],
      "text/plain": [
       "   Target                                               Text  \\\n",
       "0       2  Stuning even for the non-gamer: This sound tra...   \n",
       "1       2  The best soundtrack ever to anything.: I'm rea...   \n",
       "2       2  Amazing!: This soundtrack is my favorite music...   \n",
       "3       2  Excellent Soundtrack: I truly like this soundt...   \n",
       "4       2  Remember, Pull Your Jaw Off The Floor After He...   \n",
       "\n",
       "   total_words_before_cleanup  \\\n",
       "0                          80   \n",
       "1                          97   \n",
       "2                         129   \n",
       "3                         118   \n",
       "4                          87   \n",
       "\n",
       "                                          clean_text  \\\n",
       "0  stuning even for the nongamer this sound track...   \n",
       "1  the best soundtrack ever to anything im readin...   \n",
       "2  amazing this soundtrack is my favorite music o...   \n",
       "3  excellent soundtrack i truly like this soundtr...   \n",
       "4  remember pull your jaw off the floor after hea...   \n",
       "\n",
       "                        clean_text_without_stopwords  total_words_clean_text  \\\n",
       "0  stuning even nongamer sound track wa beautiful...                      80   \n",
       "1  best soundtrack ever anything im reading lot r...                      97   \n",
       "2  amazing soundtrack favorite music time hand in...                     128   \n",
       "3  excellent soundtrack truly like soundtrack enj...                     116   \n",
       "4  remember pull jaw floor hearing youve played g...                      87   \n",
       "\n",
       "   total_words_clean_text_without_stopwords  \n",
       "0                                        47  \n",
       "1                                        50  \n",
       "2                                        75  \n",
       "3                                        73  \n",
       "4                                        51  "
      ]
     },
     "execution_count": 42,
     "metadata": {},
     "output_type": "execute_result"
    }
   ],
   "source": [
    "train_df.head()"
   ]
  },
  {
   "cell_type": "code",
   "execution_count": 43,
   "id": "70ea870b",
   "metadata": {},
   "outputs": [
    {
     "data": {
      "text/plain": [
       "count    3.600000e+06\n",
       "mean     7.818634e+01\n",
       "std      4.269052e+01\n",
       "min      0.000000e+00\n",
       "25%      4.200000e+01\n",
       "50%      7.000000e+01\n",
       "75%      1.080000e+02\n",
       "max      2.570000e+02\n",
       "Name: total_words_clean_text, dtype: float64"
      ]
     },
     "execution_count": 43,
     "metadata": {},
     "output_type": "execute_result"
    }
   ],
   "source": [
    "train_df['total_words_clean_text'].describe()"
   ]
  },
  {
   "cell_type": "code",
   "execution_count": 44,
   "id": "ce9bd70b",
   "metadata": {},
   "outputs": [
    {
     "data": {
      "image/png": "[encoded data removed]",
      "text/plain": [
       "<Figure size 1000x600 with 2 Axes>"
      ]
     },
     "metadata": {},
     "output_type": "display_data"
    }
   ],
   "source": [
    "# Let us try to plot a kde to understand the distribution of words\n",
    "plt.figure(figsize=(10, 6), facecolor='black')\n",
    "plt.suptitle(\"Plot the frequency of words\", fontsize = 20, fontweight = 'bold')\n",
    "col = ['total_words_clean_text', 'total_words_clean_text_without_stopwords']\n",
    "\n",
    "for i in range(len(col)):\n",
    "    ax = plt.subplot(1, 2, i+1)\n",
    "    sns.kdeplot(train_df[train_df['Target'] == 1][col[i]], label = 'Negative', fill = True)\n",
    "    sns.kdeplot(train_df[train_df['Target'] == 2][col[i]], label = 'Positive', fill = True)\n",
    "    plt.legend()\n",
    "    ax.set_facecolor('black')\n",
    "    ax.xaxis.label.set_color('white')\n",
    "    ax.yaxis.label.set_color('white')\n",
    "    ax.tick_params(axis = 'x', colors = 'white')\n",
    "    ax.tick_params(axis = 'y', colors = 'white')"
   ]
  },
  {
   "cell_type": "markdown",
   "id": "928062ef",
   "metadata": {},
   "source": [
    "Observations from above kde\n",
    "1. When the stop words were not removed then our distribution was wider. This makes sense as well as there are lots of words. Peak is also not as high.\n",
    "2. when the stop words are removed then our distribution became narrower. This clearly shows that our stop words were removed. Peak also went higher for same reason as now we have more concentration of comments with word count between 30-80 words approximately. \n",
    "3. A word count of 50 is more characteristic of positive comments than of negative ones. "
   ]
  },
  {
   "cell_type": "code",
   "execution_count": 45,
   "id": "925de674",
   "metadata": {},
   "outputs": [
    {
     "data": {
      "image/png": "[encoded data removed]",
      "text/plain": [
       "<Figure size 1000x400 with 2 Axes>"
      ]
     },
     "metadata": {},
     "output_type": "display_data"
    }
   ],
   "source": [
    "# Let us plot blox plot to understand if word count can help decipher if the comment is negative or positive?\n",
    "\n",
    "plt.figure(figsize =(10, 4), facecolor='black')\n",
    "col = ['total_words_clean_text', 'total_words_clean_text_without_stopwords']\n",
    "plt.suptitle(\"Word count by target\", fontsize = 20, fontweight = 'bold')\n",
    "color = ['magenta', 'cyan']\n",
    "\n",
    "for i in range(len(col)):\n",
    "    ax = plt.subplot(1, 2, i+1)\n",
    "    sns.boxplot(data = train_df, x = 'Target', y = col[i], color = color[i])\n",
    "    plt.xlabel('Target')\n",
    "    plt.ylabel(f'Word count in {col[i]}')\n",
    "    ax.set_facecolor('black')\n",
    "    ax.xaxis.label.set_color('white')\n",
    "    ax.yaxis.label.set_color('white')\n",
    "    ax.tick_params(axis = 'x', colors = 'white')\n",
    "    ax.tick_params(axis = 'y', colors = 'white')"
   ]
  },
  {
   "cell_type": "markdown",
   "id": "4b9ad615",
   "metadata": {},
   "source": [
    "Observations of the box plot\n",
    "1. Lower rating has more outliers than higher rating. This can mean that if there are higher than ordinary number of words in a review then chances are that the review is with a lower rating.\n",
    "2. Both the word count with stop words and word count without stop words behave in a similar mannner with respect to the target variable. \n",
    "3. Both the word counts have median very close to one another. "
   ]
  },
  {
   "cell_type": "code",
   "execution_count": 47,
   "id": "8eba9fdd",
   "metadata": {},
   "outputs": [],
   "source": [
    "# Create a frequency distribution of words with respect to both the word counts\n",
    "from collections import Counter\n",
    "\n",
    "# for clean_text column\n",
    "total_words_clean_text_list = [word for comment in train_df['clean_text'] for word in comment.split()]\n",
    "most_common_words_clean_text = Counter(total_words_clean_text_list).most_common(25)\n",
    "top_25_total_words_clean_text_df = pd.DataFrame(most_common_words_clean_text, columns = ['word', 'count'])\n",
    "\n",
    "# for clean_text_without_stopwords column\n",
    "total_words_clean_text_without_stopwords_list = [word for comment in train_df['clean_text_without_stopwords'] for word in comment.split()]\n",
    "most_common_words_clean_text_without_stopwords = Counter(total_words_clean_text_without_stopwords_list).most_common(25)\n",
    "top_25_total_words_total_words_clean_text_without_stopwords_df = pd.DataFrame(most_common_words_clean_text_without_stopwords, columns = ['word', 'count'])"
   ]
  },
  {
   "cell_type": "code",
   "execution_count": 48,
   "id": "cabee813",
   "metadata": {},
   "outputs": [
    {
     "name": "stderr",
     "output_type": "stream",
     "text": [
      "C:\\Users\\RadhikaMaheshwari\\AppData\\Local\\Temp\\ipykernel_17276\\3236935491.py:7: FutureWarning: \n",
      "\n",
      "Passing `palette` without assigning `hue` is deprecated and will be removed in v0.14.0. Assign the `y` variable to `hue` and set `legend=False` for the same effect.\n",
      "\n",
      "  sns.barplot(data = top_25_total_words_clean_text_df,\n"
     ]
    },
    {
     "ename": "NameError",
     "evalue": "name 'y' is not defined",
     "output_type": "error",
     "traceback": [
      "\u001b[31m---------------------------------------------------------------------------\u001b[39m",
      "\u001b[31mNameError\u001b[39m                                 Traceback (most recent call last)",
      "\u001b[36mCell\u001b[39m\u001b[36m \u001b[39m\u001b[32mIn[48]\u001b[39m\u001b[32m, line 23\u001b[39m\n\u001b[32m     17\u001b[39m ax.tick_params(axis = \u001b[33m'\u001b[39m\u001b[33my\u001b[39m\u001b[33m'\u001b[39m, colors = \u001b[33m'\u001b[39m\u001b[33mwhite\u001b[39m\u001b[33m'\u001b[39m)\n\u001b[32m     19\u001b[39m ax = plt.subplot(\u001b[32m1\u001b[39m, \u001b[32m2\u001b[39m, \u001b[32m2\u001b[39m)\n\u001b[32m     20\u001b[39m sns.barplot(data = top_25_total_words_total_words_clean_text_without_stopwords_df, \n\u001b[32m     21\u001b[39m             x = top_25_total_words_total_words_clean_text_without_stopwords_df[\u001b[33m'\u001b[39m\u001b[33mcount\u001b[39m\u001b[33m'\u001b[39m], \n\u001b[32m     22\u001b[39m             y = top_25_total_words_total_words_clean_text_without_stopwords_df[\u001b[33m'\u001b[39m\u001b[33mword\u001b[39m\u001b[33m'\u001b[39m],\n\u001b[32m---> \u001b[39m\u001b[32m23\u001b[39m             hue=\u001b[43my\u001b[49m, legend=\u001b[38;5;28;01mFalse\u001b[39;00m)\n\u001b[32m     24\u001b[39m plt.xlabel(\u001b[33m'\u001b[39m\u001b[33mTarget\u001b[39m\u001b[33m'\u001b[39m)\n\u001b[32m     25\u001b[39m plt.ylabel(\u001b[33mf\u001b[39m\u001b[33m'\u001b[39m\u001b[33mWord count in top_25_total_words_total_words_clean_text_without_stopwords_df\u001b[39m\u001b[33m'\u001b[39m)\n",
      "\u001b[31mNameError\u001b[39m: name 'y' is not defined"
     ]
    },
    {
     "data": {
      "image/png": "[encoded data removed]",
      "text/plain": [
       "<Figure size 1200x800 with 2 Axes>"
      ]
     },
     "metadata": {},
     "output_type": "display_data"
    }
   ],
   "source": [
    "# Let us plot these top 25 words\n",
    "col = [top_25_total_words_clean_text_df, top_25_total_words_total_words_clean_text_without_stopwords_df]\n",
    "\n",
    "plt.figure(figsize = (12, 8), facecolor='black')\n",
    "\n",
    "ax = plt.subplot(1, 2, 1)\n",
    "sns.barplot(data = top_25_total_words_clean_text_df, \n",
    "            x = top_25_total_words_clean_text_df['count'], \n",
    "            y = top_25_total_words_clean_text_df['word'],\n",
    "            palette='husl')\n",
    "plt.xlabel('Target')\n",
    "plt.ylabel(f'Word count in top_25_total_words_clean_text_df')\n",
    "ax.set_facecolor('black')\n",
    "ax.xaxis.label.set_color('white')\n",
    "ax.yaxis.label.set_color('white')\n",
    "ax.tick_params(axis = 'x', colors = 'white')\n",
    "ax.tick_params(axis = 'y', colors = 'white')\n",
    "\n",
    "ax = plt.subplot(1, 2, 2)\n",
    "sns.barplot(data = top_25_total_words_total_words_clean_text_without_stopwords_df, \n",
    "            x = top_25_total_words_total_words_clean_text_without_stopwords_df['count'], \n",
    "            y = top_25_total_words_total_words_clean_text_without_stopwords_df['word'],\n",
    "            hue=y, legend=False)\n",
    "plt.xlabel('Target')\n",
    "plt.ylabel(f'Word count in top_25_total_words_total_words_clean_text_without_stopwords_df')\n",
    "ax.set_facecolor('black')\n",
    "ax.xaxis.label.set_color('white')\n",
    "ax.yaxis.label.set_color('white')\n",
    "ax.tick_params(axis = 'x', colors = 'white')\n",
    "ax.tick_params(axis = 'y', colors = 'white')"
   ]
  },
  {
   "cell_type": "markdown",
   "id": "ab1c0f29",
   "metadata": {},
   "source": [
    "Observations from the above Bar plots\n",
    "WRITE THEM\n"
   ]
  },
  {
   "cell_type": "markdown",
   "id": "2ed32599",
   "metadata": {},
   "source": [
    "# Train test split"
   ]
  },
  {
   "cell_type": "code",
   "execution_count": 70,
   "id": "83b2cd98",
   "metadata": {},
   "outputs": [
    {
     "data": {
      "text/html": [
       "<div>\n",
       "<style scoped>\n",
       "    .dataframe tbody tr th:only-of-type {\n",
       "        vertical-align: middle;\n",
       "    }\n",
       "\n",
       "    .dataframe tbody tr th {\n",
       "        vertical-align: top;\n",
       "    }\n",
       "\n",
       "    .dataframe thead th {\n",
       "        text-align: right;\n",
       "    }\n",
       "</style>\n",
       "<table border=\"1\" class=\"dataframe\">\n",
       "  <thead>\n",
       "    <tr style=\"text-align: right;\">\n",
       "      <th></th>\n",
       "      <th>Target</th>\n",
       "      <th>Text</th>\n",
       "      <th>total_words_before_cleanup</th>\n",
       "      <th>clean_text</th>\n",
       "      <th>clean_text_without_stopwords</th>\n",
       "      <th>total_words_clean_text</th>\n",
       "      <th>total_words_clean_text_without_stopwords</th>\n",
       "    </tr>\n",
       "  </thead>\n",
       "  <tbody>\n",
       "    <tr>\n",
       "      <th>0</th>\n",
       "      <td>2</td>\n",
       "      <td>Stuning even for the non-gamer: This sound tra...</td>\n",
       "      <td>80</td>\n",
       "      <td>stuning even for the nongamer this sound track...</td>\n",
       "      <td>stuning even nongamer sound track wa beautiful...</td>\n",
       "      <td>80</td>\n",
       "      <td>47</td>\n",
       "    </tr>\n",
       "  </tbody>\n",
       "</table>\n",
       "</div>"
      ],
      "text/plain": [
       "   Target                                               Text  \\\n",
       "0       2  Stuning even for the non-gamer: This sound tra...   \n",
       "\n",
       "   total_words_before_cleanup  \\\n",
       "0                          80   \n",
       "\n",
       "                                          clean_text  \\\n",
       "0  stuning even for the nongamer this sound track...   \n",
       "\n",
       "                        clean_text_without_stopwords  total_words_clean_text  \\\n",
       "0  stuning even nongamer sound track wa beautiful...                      80   \n",
       "\n",
       "   total_words_clean_text_without_stopwords  \n",
       "0                                        47  "
      ]
     },
     "execution_count": 70,
     "metadata": {},
     "output_type": "execute_result"
    }
   ],
   "source": [
    "train_df.head(1)"
   ]
  },
  {
   "cell_type": "code",
   "execution_count": 71,
   "id": "adcc56f1",
   "metadata": {},
   "outputs": [],
   "source": [
    "# Let us first separate our dependent and independent features for clean_text\n",
    "train_df_clean_text_X = train_df[['clean_text', 'total_words_clean_text']]\n",
    "train_df_clean_text_y = train_df[['Target']]"
   ]
  },
  {
   "cell_type": "code",
   "execution_count": 72,
   "id": "db76e29d",
   "metadata": {},
   "outputs": [
    {
     "data": {
      "text/html": [
       "<div>\n",
       "<style scoped>\n",
       "    .dataframe tbody tr th:only-of-type {\n",
       "        vertical-align: middle;\n",
       "    }\n",
       "\n",
       "    .dataframe tbody tr th {\n",
       "        vertical-align: top;\n",
       "    }\n",
       "\n",
       "    .dataframe thead th {\n",
       "        text-align: right;\n",
       "    }\n",
       "</style>\n",
       "<table border=\"1\" class=\"dataframe\">\n",
       "  <thead>\n",
       "    <tr style=\"text-align: right;\">\n",
       "      <th></th>\n",
       "      <th>clean_text</th>\n",
       "      <th>total_words_clean_text</th>\n",
       "    </tr>\n",
       "  </thead>\n",
       "  <tbody>\n",
       "    <tr>\n",
       "      <th>0</th>\n",
       "      <td>stuning even for the nongamer this sound track...</td>\n",
       "      <td>80</td>\n",
       "    </tr>\n",
       "  </tbody>\n",
       "</table>\n",
       "</div>"
      ],
      "text/plain": [
       "                                          clean_text  total_words_clean_text\n",
       "0  stuning even for the nongamer this sound track...                      80"
      ]
     },
     "execution_count": 72,
     "metadata": {},
     "output_type": "execute_result"
    }
   ],
   "source": [
    "train_df_clean_text_X.head(1)"
   ]
  },
  {
   "cell_type": "code",
   "execution_count": 74,
   "id": "733f9eb6",
   "metadata": {},
   "outputs": [
    {
     "data": {
      "text/html": [
       "<div>\n",
       "<style scoped>\n",
       "    .dataframe tbody tr th:only-of-type {\n",
       "        vertical-align: middle;\n",
       "    }\n",
       "\n",
       "    .dataframe tbody tr th {\n",
       "        vertical-align: top;\n",
       "    }\n",
       "\n",
       "    .dataframe thead th {\n",
       "        text-align: right;\n",
       "    }\n",
       "</style>\n",
       "<table border=\"1\" class=\"dataframe\">\n",
       "  <thead>\n",
       "    <tr style=\"text-align: right;\">\n",
       "      <th></th>\n",
       "      <th>Target</th>\n",
       "    </tr>\n",
       "  </thead>\n",
       "  <tbody>\n",
       "    <tr>\n",
       "      <th>0</th>\n",
       "      <td>2</td>\n",
       "    </tr>\n",
       "  </tbody>\n",
       "</table>\n",
       "</div>"
      ],
      "text/plain": [
       "   Target\n",
       "0       2"
      ]
     },
     "execution_count": 74,
     "metadata": {},
     "output_type": "execute_result"
    }
   ],
   "source": [
    "train_df_clean_text_y.head(1)"
   ]
  },
  {
   "cell_type": "code",
   "execution_count": 75,
   "id": "6e32839f",
   "metadata": {},
   "outputs": [],
   "source": [
    "# Let us first separate our dependent and independent features for clean_text_without_stopwords\n",
    "train_df_clean_text_without_stopwords_X = train_df[['clean_text_without_stopwords', 'total_words_clean_text_without_stopwords']]\n",
    "train_df_clean_text_without_stopwords_y = train_df[['Target']]"
   ]
  },
  {
   "cell_type": "code",
   "execution_count": 76,
   "id": "f140c90f",
   "metadata": {},
   "outputs": [
    {
     "data": {
      "text/html": [
       "<div>\n",
       "<style scoped>\n",
       "    .dataframe tbody tr th:only-of-type {\n",
       "        vertical-align: middle;\n",
       "    }\n",
       "\n",
       "    .dataframe tbody tr th {\n",
       "        vertical-align: top;\n",
       "    }\n",
       "\n",
       "    .dataframe thead th {\n",
       "        text-align: right;\n",
       "    }\n",
       "</style>\n",
       "<table border=\"1\" class=\"dataframe\">\n",
       "  <thead>\n",
       "    <tr style=\"text-align: right;\">\n",
       "      <th></th>\n",
       "      <th>clean_text_without_stopwords</th>\n",
       "      <th>total_words_clean_text_without_stopwords</th>\n",
       "    </tr>\n",
       "  </thead>\n",
       "  <tbody>\n",
       "    <tr>\n",
       "      <th>0</th>\n",
       "      <td>stuning even nongamer sound track wa beautiful...</td>\n",
       "      <td>47</td>\n",
       "    </tr>\n",
       "  </tbody>\n",
       "</table>\n",
       "</div>"
      ],
      "text/plain": [
       "                        clean_text_without_stopwords  \\\n",
       "0  stuning even nongamer sound track wa beautiful...   \n",
       "\n",
       "   total_words_clean_text_without_stopwords  \n",
       "0                                        47  "
      ]
     },
     "execution_count": 76,
     "metadata": {},
     "output_type": "execute_result"
    }
   ],
   "source": [
    "train_df_clean_text_without_stopwords_X.head(1)"
   ]
  },
  {
   "cell_type": "code",
   "execution_count": 78,
   "id": "6922b362",
   "metadata": {},
   "outputs": [
    {
     "data": {
      "text/html": [
       "<div>\n",
       "<style scoped>\n",
       "    .dataframe tbody tr th:only-of-type {\n",
       "        vertical-align: middle;\n",
       "    }\n",
       "\n",
       "    .dataframe tbody tr th {\n",
       "        vertical-align: top;\n",
       "    }\n",
       "\n",
       "    .dataframe thead th {\n",
       "        text-align: right;\n",
       "    }\n",
       "</style>\n",
       "<table border=\"1\" class=\"dataframe\">\n",
       "  <thead>\n",
       "    <tr style=\"text-align: right;\">\n",
       "      <th></th>\n",
       "      <th>Target</th>\n",
       "    </tr>\n",
       "  </thead>\n",
       "  <tbody>\n",
       "    <tr>\n",
       "      <th>0</th>\n",
       "      <td>2</td>\n",
       "    </tr>\n",
       "  </tbody>\n",
       "</table>\n",
       "</div>"
      ],
      "text/plain": [
       "   Target\n",
       "0       2"
      ]
     },
     "execution_count": 78,
     "metadata": {},
     "output_type": "execute_result"
    }
   ],
   "source": [
    "train_df_clean_text_without_stopwords_y.head(1)"
   ]
  },
  {
   "cell_type": "code",
   "execution_count": 69,
   "id": "07641581",
   "metadata": {},
   "outputs": [
    {
     "ename": "ValueError",
     "evalue": "not enough values to unpack (expected 4, got 2)",
     "output_type": "error",
     "traceback": [
      "\u001b[31m---------------------------------------------------------------------------\u001b[39m",
      "\u001b[31mValueError\u001b[39m                                Traceback (most recent call last)",
      "\u001b[36mCell\u001b[39m\u001b[36m \u001b[39m\u001b[32mIn[69]\u001b[39m\u001b[32m, line 3\u001b[39m\n\u001b[32m      1\u001b[39m \u001b[38;5;66;03m# Splitting the train dataset into training and validation datasets\u001b[39;00m\n\u001b[32m      2\u001b[39m \u001b[38;5;28;01mfrom\u001b[39;00m\u001b[38;5;250m \u001b[39m\u001b[34;01msklearn\u001b[39;00m\u001b[34;01m.\u001b[39;00m\u001b[34;01mmodel_selection\u001b[39;00m\u001b[38;5;250m \u001b[39m\u001b[38;5;28;01mimport\u001b[39;00m train_test_split\n\u001b[32m----> \u001b[39m\u001b[32m3\u001b[39m X_train, X_val, y_train, y_val = train_test_split(train_df, test_size=\u001b[32m0.30\u001b[39m, random_state=\u001b[32m42\u001b[39m)\n",
      "\u001b[31mValueError\u001b[39m: not enough values to unpack (expected 4, got 2)"
     ]
    }
   ],
   "source": [
    "# Splitting the train dataset into training and validation datasets\n",
    "from sklearn.model_selection import train_test_split\n",
    "X_train, X_val, y_train, y_val = train_test_split(train_df, test_size=0.30, random_state=42)"
   ]
  },
  {
   "cell_type": "markdown",
   "id": "93ec4ce6",
   "metadata": {},
   "source": [
    "# Bag of Words"
   ]
  },
  {
   "cell_type": "code",
   "execution_count": 55,
   "id": "64c841df",
   "metadata": {},
   "outputs": [],
   "source": [
    "# Let us use Bag of Words to understand if we can predict the sentiment\n",
    "from sklearn.feature_extraction.text import CountVectorizer\n",
    "cv_default = CountVectorizer()\n",
    "cv_default_clean_text = cv_default.fit_transform(train_df['clean_text'])"
   ]
  },
  {
   "cell_type": "code",
   "execution_count": 56,
   "id": "6d62ff75",
   "metadata": {},
   "outputs": [
    {
     "data": {
      "text/plain": [
       "(3600000, 2309337)"
      ]
     },
     "execution_count": 56,
     "metadata": {},
     "output_type": "execute_result"
    }
   ],
   "source": [
    "# Let us check the shape of the cv_default_clean_text\n",
    "cv_default_clean_text.shape"
   ]
  },
  {
   "cell_type": "code",
   "execution_count": 61,
   "id": "a894dac1",
   "metadata": {},
   "outputs": [
    {
     "data": {
      "text/plain": [
       "array(['00', '000', '0000', '00000', '000000', '0000000', '00000000',\n",
       "       '000000000', '0000000000', '00000000000', '000000000000',\n",
       "       '0000000000000', '000000000000000000000000000000000000000000000',\n",
       "       '000000000000000000000000000000000000001',\n",
       "       '0000000000000000000000000000015rares',\n",
       "       '0000000000000000000000000008', '00000000000000000001got',\n",
       "       '000000000000000001', '000000000000000009', '00000000000001',\n",
       "       '00000000000001mike', '0000000000001', '000000000001',\n",
       "       '0000000000066700', '00000000001', '0000000001', '000000001',\n",
       "       '00000000933333333333333', '00000000h', '00000001',\n",
       "       '0000000184489957000', '0000000266666666666667', '00000009',\n",
       "       '0000001', '0000001difficulty', '0000005worst', '000000i',\n",
       "       '000001', '00000137', '000005', '000007', '00001', '00001324wow',\n",
       "       '00002', '00003', '000041', '00005', '00005in', '00006', '00007'],\n",
       "      dtype=object)"
      ]
     },
     "execution_count": 61,
     "metadata": {},
     "output_type": "execute_result"
    }
   ],
   "source": [
    "# Get the names of the features\n",
    "cv_default.get_feature_names_out()[:50]"
   ]
  },
  {
   "cell_type": "code",
   "execution_count": 63,
   "id": "fad59757",
   "metadata": {},
   "outputs": [
    {
     "data": {
      "text/plain": [
       "scipy.sparse._csr.csr_matrix"
      ]
     },
     "execution_count": 63,
     "metadata": {},
     "output_type": "execute_result"
    }
   ],
   "source": [
    "# Let us check the type of each row\n",
    "type(cv_default_clean_text[0])"
   ]
  },
  {
   "cell_type": "code",
   "execution_count": 68,
   "id": "4319654b",
   "metadata": {},
   "outputs": [
    {
     "data": {
      "text/plain": [
       "'great read i thought this book wa brilliant but yet realistic it showed me that to error is human i loved the fact that this writer showed the loving side of god and not the revengeful side of him i loved how it twisted and turned and i could not put it down i also loved the glass castle '"
      ]
     },
     "execution_count": 68,
     "metadata": {},
     "output_type": "execute_result"
    }
   ],
   "source": [
    "train_df['clean_text'][12]"
   ]
  },
  {
   "cell_type": "code",
   "execution_count": null,
   "id": "9737f08b",
   "metadata": {},
   "outputs": [
    {
     "data": {
      "text/plain": [
       "[array(['also', 'and', 'book', 'brilliant', 'but', 'castle', 'could',\n",
       "        'down', 'error', 'fact', 'glass', 'god', 'great', 'him', 'how',\n",
       "        'human', 'is', 'it', 'loved', 'loving', 'me', 'not', 'of', 'put',\n",
       "        'read', 'realistic', 'revengeful', 'showed', 'side', 'that', 'the',\n",
       "        'this', 'thought', 'to', 'turned', 'twisted', 'wa', 'writer',\n",
       "        'yet'], dtype='<U570')]"
      ]
     },
     "execution_count": 67,
     "metadata": {},
     "output_type": "execute_result"
    }
   ],
   "source": [
    "# We vocab words back from the Count Vectorizer\n",
    "cv_default.inverse_transform(np.asarray(cv_default_clean_text[12].todense()))\n"
   ]
  },
  {
   "cell_type": "markdown",
   "id": "4dc27aee",
   "metadata": {},
   "source": [
    "Let us build the model with \n",
    "- Only clean words but which contain stop words\n",
    "- Default configuration of Count Vectorizer"
   ]
  },
  {
   "cell_type": "markdown",
   "id": "f1463521",
   "metadata": {},
   "source": [
    "Important: We already have a train and test datasets separately. \n",
    "I am going to still do train test split to split the train dataset into train and validation datasets. This ensures that we have a mechanism to understand how our model will perform with new data. Once we are satisfied with the training and validation performance metrics then we will use the test dataset to do our predictions and keep evaluating the performance. "
   ]
  },
  {
   "cell_type": "code",
   "execution_count": null,
   "id": "4ef0efdf",
   "metadata": {},
   "outputs": [],
   "source": [
    "\n"
   ]
  }
 ],
 "metadata": {
  "kernelspec": {
   "display_name": "Python 3",
   "language": "python",
   "name": "python3"
  },
  "language_info": {
   "codemirror_mode": {
    "name": "ipython",
    "version": 3
   },
   "file_extension": ".py",
   "mimetype": "text/x-python",
   "name": "python",
   "nbconvert_exporter": "python",
   "pygments_lexer": "ipython3",
   "version": "3.13.2"
  }
 },
 "nbformat": 4,
 "nbformat_minor": 5
}
