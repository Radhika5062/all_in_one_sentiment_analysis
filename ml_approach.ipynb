{
 "cells": [
  {
   "cell_type": "code",
   "execution_count": null,
   "id": "e26d8901",
   "metadata": {},
   "outputs": [],
   "source": [
    "# Imports\n",
    "import pandas as pd \n",
    "import numpy as np \n",
    "import seaborn as sns\n",
    "import matplotlib.pyplot as plt\n",
    "import matplotlib.ticker as mticker\n",
    "import re\n",
    "import dagshub\n",
    "%matplotlib inline"
   ]
  },
  {
   "cell_type": "markdown",
   "id": "9b503e9a",
   "metadata": {},
   "source": [
    "Data -  https://www.kaggle.com/datasets/bittlingmayer/amazonreviews/code?datasetId=1305&sortBy=voteCount"
   ]
  },
  {
   "cell_type": "code",
   "execution_count": 2,
   "id": "31e7b623",
   "metadata": {},
   "outputs": [],
   "source": [
    "# Read data\n",
    "def parse_data(file_path):\n",
    "    data = []\n",
    "    with open(file_path, 'r', encoding='utf-8') as f:\n",
    "        for line in f:\n",
    "            label, text = line.split(\" \", 1)\n",
    "            data.append((label, text.strip()))\n",
    "    return data\n",
    "\n",
    "train_data = parse_data('Data/train.ft.txt')\n",
    "test_data = parse_data('Data/test.ft.txt')\n"
   ]
  },
  {
   "cell_type": "code",
   "execution_count": 3,
   "id": "604c2b8b",
   "metadata": {},
   "outputs": [],
   "source": [
    "# convert data into dataframe using pandas\n",
    "train_df = pd.DataFrame(train_data, columns = ['Target', 'Text'])\n",
    "test_df = pd.DataFrame(test_data, columns = ['Target', 'Text'])"
   ]
  },
  {
   "cell_type": "code",
   "execution_count": 4,
   "id": "68182dbb",
   "metadata": {},
   "outputs": [],
   "source": [
    "train_df = train_df[:100000]"
   ]
  },
  {
   "cell_type": "code",
   "execution_count": 5,
   "id": "0158632d",
   "metadata": {},
   "outputs": [
    {
     "data": {
      "text/plain": [
       "(100000, 2)"
      ]
     },
     "execution_count": 5,
     "metadata": {},
     "output_type": "execute_result"
    }
   ],
   "source": [
    "train_df.shape"
   ]
  },
  {
   "cell_type": "code",
   "execution_count": 6,
   "id": "420e0ca6",
   "metadata": {},
   "outputs": [
    {
     "data": {
      "text/html": [
       "<div>\n",
       "<style scoped>\n",
       "    .dataframe tbody tr th:only-of-type {\n",
       "        vertical-align: middle;\n",
       "    }\n",
       "\n",
       "    .dataframe tbody tr th {\n",
       "        vertical-align: top;\n",
       "    }\n",
       "\n",
       "    .dataframe thead th {\n",
       "        text-align: right;\n",
       "    }\n",
       "</style>\n",
       "<table border=\"1\" class=\"dataframe\">\n",
       "  <thead>\n",
       "    <tr style=\"text-align: right;\">\n",
       "      <th></th>\n",
       "      <th>Target</th>\n",
       "      <th>Text</th>\n",
       "    </tr>\n",
       "  </thead>\n",
       "  <tbody>\n",
       "    <tr>\n",
       "      <th>0</th>\n",
       "      <td>__label__2</td>\n",
       "      <td>Stuning even for the non-gamer: This sound tra...</td>\n",
       "    </tr>\n",
       "    <tr>\n",
       "      <th>1</th>\n",
       "      <td>__label__2</td>\n",
       "      <td>The best soundtrack ever to anything.: I'm rea...</td>\n",
       "    </tr>\n",
       "    <tr>\n",
       "      <th>2</th>\n",
       "      <td>__label__2</td>\n",
       "      <td>Amazing!: This soundtrack is my favorite music...</td>\n",
       "    </tr>\n",
       "    <tr>\n",
       "      <th>3</th>\n",
       "      <td>__label__2</td>\n",
       "      <td>Excellent Soundtrack: I truly like this soundt...</td>\n",
       "    </tr>\n",
       "    <tr>\n",
       "      <th>4</th>\n",
       "      <td>__label__2</td>\n",
       "      <td>Remember, Pull Your Jaw Off The Floor After He...</td>\n",
       "    </tr>\n",
       "  </tbody>\n",
       "</table>\n",
       "</div>"
      ],
      "text/plain": [
       "       Target                                               Text\n",
       "0  __label__2  Stuning even for the non-gamer: This sound tra...\n",
       "1  __label__2  The best soundtrack ever to anything.: I'm rea...\n",
       "2  __label__2  Amazing!: This soundtrack is my favorite music...\n",
       "3  __label__2  Excellent Soundtrack: I truly like this soundt...\n",
       "4  __label__2  Remember, Pull Your Jaw Off The Floor After He..."
      ]
     },
     "execution_count": 6,
     "metadata": {},
     "output_type": "execute_result"
    }
   ],
   "source": [
    "train_df.head()"
   ]
  },
  {
   "cell_type": "code",
   "execution_count": 7,
   "id": "5ee1b954",
   "metadata": {},
   "outputs": [
    {
     "data": {
      "text/html": [
       "<div>\n",
       "<style scoped>\n",
       "    .dataframe tbody tr th:only-of-type {\n",
       "        vertical-align: middle;\n",
       "    }\n",
       "\n",
       "    .dataframe tbody tr th {\n",
       "        vertical-align: top;\n",
       "    }\n",
       "\n",
       "    .dataframe thead th {\n",
       "        text-align: right;\n",
       "    }\n",
       "</style>\n",
       "<table border=\"1\" class=\"dataframe\">\n",
       "  <thead>\n",
       "    <tr style=\"text-align: right;\">\n",
       "      <th></th>\n",
       "      <th>Target</th>\n",
       "      <th>Text</th>\n",
       "    </tr>\n",
       "  </thead>\n",
       "  <tbody>\n",
       "    <tr>\n",
       "      <th>0</th>\n",
       "      <td>__label__2</td>\n",
       "      <td>Great CD: My lovely Pat has one of the GREAT v...</td>\n",
       "    </tr>\n",
       "    <tr>\n",
       "      <th>1</th>\n",
       "      <td>__label__2</td>\n",
       "      <td>One of the best game music soundtracks - for a...</td>\n",
       "    </tr>\n",
       "    <tr>\n",
       "      <th>2</th>\n",
       "      <td>__label__1</td>\n",
       "      <td>Batteries died within a year ...: I bought thi...</td>\n",
       "    </tr>\n",
       "    <tr>\n",
       "      <th>3</th>\n",
       "      <td>__label__2</td>\n",
       "      <td>works fine, but Maha Energy is better: Check o...</td>\n",
       "    </tr>\n",
       "    <tr>\n",
       "      <th>4</th>\n",
       "      <td>__label__2</td>\n",
       "      <td>Great for the non-audiophile: Reviewed quite a...</td>\n",
       "    </tr>\n",
       "  </tbody>\n",
       "</table>\n",
       "</div>"
      ],
      "text/plain": [
       "       Target                                               Text\n",
       "0  __label__2  Great CD: My lovely Pat has one of the GREAT v...\n",
       "1  __label__2  One of the best game music soundtracks - for a...\n",
       "2  __label__1  Batteries died within a year ...: I bought thi...\n",
       "3  __label__2  works fine, but Maha Energy is better: Check o...\n",
       "4  __label__2  Great for the non-audiophile: Reviewed quite a..."
      ]
     },
     "execution_count": 7,
     "metadata": {},
     "output_type": "execute_result"
    }
   ],
   "source": [
    "test_df.head()"
   ]
  },
  {
   "cell_type": "code",
   "execution_count": 8,
   "id": "5cb7715b",
   "metadata": {},
   "outputs": [],
   "source": [
    "# Change the target values\n",
    "train_df['Target'] = train_df['Target'].map({'__label__1': 0, '__label__2': 1})\n",
    "# test_df['Target'] = test_df['Target'].map({'__label__1': 0, '__label__2': 0})"
   ]
  },
  {
   "cell_type": "code",
   "execution_count": 9,
   "id": "d8f662ca",
   "metadata": {},
   "outputs": [
    {
     "data": {
      "text/html": [
       "<div>\n",
       "<style scoped>\n",
       "    .dataframe tbody tr th:only-of-type {\n",
       "        vertical-align: middle;\n",
       "    }\n",
       "\n",
       "    .dataframe tbody tr th {\n",
       "        vertical-align: top;\n",
       "    }\n",
       "\n",
       "    .dataframe thead th {\n",
       "        text-align: right;\n",
       "    }\n",
       "</style>\n",
       "<table border=\"1\" class=\"dataframe\">\n",
       "  <thead>\n",
       "    <tr style=\"text-align: right;\">\n",
       "      <th></th>\n",
       "      <th>Target</th>\n",
       "      <th>Text</th>\n",
       "    </tr>\n",
       "  </thead>\n",
       "  <tbody>\n",
       "    <tr>\n",
       "      <th>0</th>\n",
       "      <td>1</td>\n",
       "      <td>Stuning even for the non-gamer: This sound tra...</td>\n",
       "    </tr>\n",
       "    <tr>\n",
       "      <th>1</th>\n",
       "      <td>1</td>\n",
       "      <td>The best soundtrack ever to anything.: I'm rea...</td>\n",
       "    </tr>\n",
       "  </tbody>\n",
       "</table>\n",
       "</div>"
      ],
      "text/plain": [
       "   Target                                               Text\n",
       "0       1  Stuning even for the non-gamer: This sound tra...\n",
       "1       1  The best soundtrack ever to anything.: I'm rea..."
      ]
     },
     "execution_count": 9,
     "metadata": {},
     "output_type": "execute_result"
    }
   ],
   "source": [
    "train_df.head(2)"
   ]
  },
  {
   "cell_type": "code",
   "execution_count": 10,
   "id": "cea906d3",
   "metadata": {},
   "outputs": [],
   "source": [
    "# test_df.head(2)"
   ]
  },
  {
   "cell_type": "markdown",
   "id": "b5f0f410",
   "metadata": {},
   "source": [
    "From the kaggle page:\n",
    "- 1: Negative sentiment\n",
    "- 2: Positive sentiment\n",
    "\n",
    "Common terms:\n",
    "- Corpus: Paragraph\n",
    "- Documents: Lines\n",
    "- Vocabulary: all unique words present in the dataset. This could either be a list, dictionary where keys would be the word in vocabulary and the value will be the frequency of the word in vocabulary. It can also be of type Counter from collections package."
   ]
  },
  {
   "cell_type": "code",
   "execution_count": 11,
   "id": "7abbcb45",
   "metadata": {},
   "outputs": [
    {
     "data": {
      "text/plain": [
       "(100000, 2)"
      ]
     },
     "execution_count": 11,
     "metadata": {},
     "output_type": "execute_result"
    }
   ],
   "source": [
    "# Get the shape of train dataset\n",
    "train_df.shape"
   ]
  },
  {
   "cell_type": "markdown",
   "id": "63c88370",
   "metadata": {},
   "source": [
    "We have 3600000 documents and two columns - one for target and other for the text related to target."
   ]
  },
  {
   "cell_type": "code",
   "execution_count": 12,
   "id": "695f0925",
   "metadata": {},
   "outputs": [
    {
     "data": {
      "text/plain": [
       "Target\n",
       "1    51267\n",
       "0    48733\n",
       "Name: count, dtype: int64"
      ]
     },
     "execution_count": 12,
     "metadata": {},
     "output_type": "execute_result"
    }
   ],
   "source": [
    "# Count the frequency of each label\n",
    "train_df['Target'].value_counts()"
   ]
  },
  {
   "cell_type": "code",
   "execution_count": 13,
   "id": "e2629ca0",
   "metadata": {},
   "outputs": [
    {
     "data": {
      "image/png": "[encoded data removed]",
      "text/plain": [
       "<Figure size 500x400 with 1 Axes>"
      ]
     },
     "metadata": {},
     "output_type": "display_data"
    }
   ],
   "source": [
    "plt.figure(figsize=(5, 4), facecolor='black')\n",
    "plt.suptitle(\"Plot the frequency of target variable\", fontsize = 20, fontweight = 'bold')\n",
    "\n",
    "\n",
    "ax = plt.subplot(1, 1, 1)\n",
    "sns.countplot(data = train_df, x = 'Target', color = 'magenta')\n",
    "plt.xlabel('Count of target variable')\n",
    "ax.set_facecolor('black')\n",
    "\n",
    "# Change the color of the labels an tickmarks to white\n",
    "\n",
    "ax.ticklabel_format(style='plain', axis='y', useOffset=False)\n",
    "ax.yaxis.set_major_formatter(mticker.FuncFormatter(lambda x, _: f'{int(x)}'))\n",
    "\n",
    "ax.xaxis.label.set_color('white')\n",
    "ax.yaxis.label.set_color('white')\n",
    "ax.tick_params(axis = 'x', colors = 'white')\n",
    "ax.tick_params(axis = 'y', colors = 'white')\n",
    "\n",
    "for p in ax.patches:\n",
    "    ax.annotate(\n",
    "        format(int(p.get_height())),\n",
    "        (p.get_x() + p.get_width()/2, p.get_height()),\n",
    "        ha = 'center', va='center',\n",
    "        xytext=(0, 5),\n",
    "        textcoords='offset points',\n",
    "        fontsize = 12, color = 'white', weight='bold'\n",
    "    )"
   ]
  },
  {
   "cell_type": "markdown",
   "id": "446cb025",
   "metadata": {},
   "source": [
    "As the both the negative and positive sentiment are exactly in same quantity therefore we have a balanced dataset. Although this happens seldomly in real life."
   ]
  },
  {
   "cell_type": "code",
   "execution_count": 14,
   "id": "6dcb9277",
   "metadata": {},
   "outputs": [
    {
     "data": {
      "text/plain": [
       "Target    0\n",
       "Text      0\n",
       "dtype: int64"
      ]
     },
     "execution_count": 14,
     "metadata": {},
     "output_type": "execute_result"
    }
   ],
   "source": [
    "# Check for null values\n",
    "train_df.isnull().sum()"
   ]
  },
  {
   "cell_type": "markdown",
   "id": "574ccced",
   "metadata": {},
   "source": [
    "There are no null values present in the dataset"
   ]
  },
  {
   "cell_type": "code",
   "execution_count": 15,
   "id": "96e65cf8",
   "metadata": {},
   "outputs": [
    {
     "data": {
      "text/plain": [
       "np.int64(0)"
      ]
     },
     "execution_count": 15,
     "metadata": {},
     "output_type": "execute_result"
    }
   ],
   "source": [
    "# Check for duplicates\n",
    "train_df.duplicated().sum()"
   ]
  },
  {
   "cell_type": "markdown",
   "id": "b952d973",
   "metadata": {},
   "source": [
    "There are no duplicates present"
   ]
  },
  {
   "cell_type": "code",
   "execution_count": 16,
   "id": "cd5330ea",
   "metadata": {},
   "outputs": [],
   "source": [
    "# Count the total number of words in each comment\n",
    "train_df['total_words_before_cleanup'] = train_df['Text'].apply(lambda x: len(x.split())) "
   ]
  },
  {
   "cell_type": "code",
   "execution_count": 17,
   "id": "1509f1f5",
   "metadata": {},
   "outputs": [
    {
     "data": {
      "text/html": [
       "<div>\n",
       "<style scoped>\n",
       "    .dataframe tbody tr th:only-of-type {\n",
       "        vertical-align: middle;\n",
       "    }\n",
       "\n",
       "    .dataframe tbody tr th {\n",
       "        vertical-align: top;\n",
       "    }\n",
       "\n",
       "    .dataframe thead th {\n",
       "        text-align: right;\n",
       "    }\n",
       "</style>\n",
       "<table border=\"1\" class=\"dataframe\">\n",
       "  <thead>\n",
       "    <tr style=\"text-align: right;\">\n",
       "      <th></th>\n",
       "      <th>Target</th>\n",
       "      <th>Text</th>\n",
       "      <th>total_words_before_cleanup</th>\n",
       "    </tr>\n",
       "  </thead>\n",
       "  <tbody>\n",
       "    <tr>\n",
       "      <th>0</th>\n",
       "      <td>1</td>\n",
       "      <td>Stuning even for the non-gamer: This sound tra...</td>\n",
       "      <td>80</td>\n",
       "    </tr>\n",
       "    <tr>\n",
       "      <th>1</th>\n",
       "      <td>1</td>\n",
       "      <td>The best soundtrack ever to anything.: I'm rea...</td>\n",
       "      <td>97</td>\n",
       "    </tr>\n",
       "    <tr>\n",
       "      <th>2</th>\n",
       "      <td>1</td>\n",
       "      <td>Amazing!: This soundtrack is my favorite music...</td>\n",
       "      <td>129</td>\n",
       "    </tr>\n",
       "    <tr>\n",
       "      <th>3</th>\n",
       "      <td>1</td>\n",
       "      <td>Excellent Soundtrack: I truly like this soundt...</td>\n",
       "      <td>118</td>\n",
       "    </tr>\n",
       "    <tr>\n",
       "      <th>4</th>\n",
       "      <td>1</td>\n",
       "      <td>Remember, Pull Your Jaw Off The Floor After He...</td>\n",
       "      <td>87</td>\n",
       "    </tr>\n",
       "  </tbody>\n",
       "</table>\n",
       "</div>"
      ],
      "text/plain": [
       "   Target                                               Text  \\\n",
       "0       1  Stuning even for the non-gamer: This sound tra...   \n",
       "1       1  The best soundtrack ever to anything.: I'm rea...   \n",
       "2       1  Amazing!: This soundtrack is my favorite music...   \n",
       "3       1  Excellent Soundtrack: I truly like this soundt...   \n",
       "4       1  Remember, Pull Your Jaw Off The Floor After He...   \n",
       "\n",
       "   total_words_before_cleanup  \n",
       "0                          80  \n",
       "1                          97  \n",
       "2                         129  \n",
       "3                         118  \n",
       "4                          87  "
      ]
     },
     "execution_count": 17,
     "metadata": {},
     "output_type": "execute_result"
    }
   ],
   "source": [
    "train_df.head()"
   ]
  },
  {
   "cell_type": "markdown",
   "id": "31df67bc",
   "metadata": {},
   "source": [
    "# Data cleaning"
   ]
  },
  {
   "cell_type": "code",
   "execution_count": 18,
   "id": "789b3d71",
   "metadata": {},
   "outputs": [],
   "source": [
    "text = train_df['Text'][2]"
   ]
  },
  {
   "cell_type": "code",
   "execution_count": 19,
   "id": "4367096f",
   "metadata": {},
   "outputs": [
    {
     "data": {
      "text/plain": [
       "'Amazing!: This soundtrack is my favorite music of all time, hands down. The intense sadness of \"Prisoners of Fate\" (which means all the more if you\\'ve played the game) and the hope in \"A Distant Promise\" and \"Girl who Stole the Star\" have been an important inspiration to me personally throughout my teen years. The higher energy tracks like \"Chrono Cross ~ Time\\'s Scar~\", \"Time of the Dreamwatch\", and \"Chronomantique\" (indefinably remeniscent of Chrono Trigger) are all absolutely superb as well.This soundtrack is amazing music, probably the best of this composer\\'s work (I haven\\'t heard the Xenogears soundtrack, so I can\\'t say for sure), and even if you\\'ve never played the game, it would be worth twice the price to buy it.I wish I could give it 6 stars.'"
      ]
     },
     "execution_count": 19,
     "metadata": {},
     "output_type": "execute_result"
    }
   ],
   "source": [
    "text"
   ]
  },
  {
   "cell_type": "code",
   "execution_count": 20,
   "id": "fb7622b0",
   "metadata": {},
   "outputs": [
    {
     "data": {
      "text/plain": [
       "'amazing!: this soundtrack is my favorite music of all time, hands down. the intense sadness of \"prisoners of fate\" (which means all the more if you\\'ve played the game) and the hope in \"a distant promise\" and \"girl who stole the star\" have been an important inspiration to me personally throughout my teen years. the higher energy tracks like \"chrono cross ~ time\\'s scar~\", \"time of the dreamwatch\", and \"chronomantique\" (indefinably remeniscent of chrono trigger) are all absolutely superb as well.this soundtrack is amazing music, probably the best of this composer\\'s work (i haven\\'t heard the xenogears soundtrack, so i can\\'t say for sure), and even if you\\'ve never played the game, it would be worth twice the price to buy it.i wish i could give it 6 stars.'"
      ]
     },
     "execution_count": 20,
     "metadata": {},
     "output_type": "execute_result"
    }
   ],
   "source": [
    "# 1. Convert all words into lower case\n",
    "clean_text = text.lower()\n",
    "clean_text"
   ]
  },
  {
   "cell_type": "code",
   "execution_count": 21,
   "id": "38e7eecb",
   "metadata": {},
   "outputs": [
    {
     "data": {
      "text/plain": [
       "'amazing this soundtrack is my favorite music of all time hands down the intense sadness of prisoners of fate which means all the more if youve played the game and the hope in a distant promise and girl who stole the star have been an important inspiration to me personally throughout my teen years the higher energy tracks like chrono cross  times scar time of the dreamwatch and chronomantique indefinably remeniscent of chrono trigger are all absolutely superb as wellthis soundtrack is amazing music probably the best of this composers work i havent heard the xenogears soundtrack so i cant say for sure and even if youve never played the game it would be worth twice the price to buy iti wish i could give it 6 stars'"
      ]
     },
     "execution_count": 21,
     "metadata": {},
     "output_type": "execute_result"
    }
   ],
   "source": [
    "# 2. Remove punctuations \n",
    "# The pattern r'[^\\w\\s]' matches any character that is not (^) a word character (\\w) or a whitespace (\\s).\n",
    "# It replaces those punctuation characters with an empty string ''\n",
    "clean_text = re.sub(r'[^\\w\\s]', '', clean_text)\n",
    "clean_text"
   ]
  },
  {
   "cell_type": "code",
   "execution_count": 22,
   "id": "d4773f44",
   "metadata": {},
   "outputs": [
    {
     "data": {
      "text/plain": [
       "'amazing this soundtrack is my favorite music of all time hands down the intense sadness of prisoners of fate which means all the more if youve played the game and the hope in a distant promise and girl who stole the star have been an important inspiration to me personally throughout my teen years the higher energy tracks like chrono cross  times scar time of the dreamwatch and chronomantique indefinably remeniscent of chrono trigger are all absolutely superb as wellthis soundtrack is amazing music probably the best of this composers work i havent heard the xenogears soundtrack so i cant say for sure and even if youve never played the game it would be worth twice the price to buy iti wish i could give it 6 stars'"
      ]
     },
     "execution_count": 22,
     "metadata": {},
     "output_type": "execute_result"
    }
   ],
   "source": [
    "# 3. Clean up all the special characters or letters with accents\n",
    "clean_text = re.sub(\"@[A-Za-z0-9]+\", \"\", clean_text)\n",
    "clean_text"
   ]
  },
  {
   "cell_type": "code",
   "execution_count": 23,
   "id": "c2b40247",
   "metadata": {},
   "outputs": [
    {
     "data": {
      "text/plain": [
       "'See my article \"Jean Hill - The Lady in Red\" online: Since writing my review of JFK: THE LAST DISSENTING WITNESS in 1998, I have been able to have my 35-page article - \"Jean Hill -The Lady in Red\" - included in Clint Bradford\\'s JFK Assassination website. The address is: http://www.jfk-info.com/sitemap1.htm (scroll down for title).'"
      ]
     },
     "execution_count": 23,
     "metadata": {},
     "output_type": "execute_result"
    }
   ],
   "source": [
    "# 4. Clean up all the links\n",
    "text = train_df['Text'][436]\n",
    "text"
   ]
  },
  {
   "cell_type": "code",
   "execution_count": 24,
   "id": "74b5b2e7",
   "metadata": {},
   "outputs": [
    {
     "data": {
      "text/plain": [
       "'See my article \"Jean Hill - The Lady in Red\" online: Since writing my review of JFK: THE LAST DISSENTING WITNESS in 1998, I have been able to have my 35-page article - \"Jean Hill -The Lady in Red\" - included in Clint Bradford\\'s JFK Assassination website. The address is:  (scroll down for title).'"
      ]
     },
     "execution_count": 24,
     "metadata": {},
     "output_type": "execute_result"
    }
   ],
   "source": [
    "clean_text = re.sub(r'https?://\\S+|www\\.\\S+', '', text)\n",
    "clean_text"
   ]
  },
  {
   "cell_type": "code",
   "execution_count": 25,
   "id": "597f5af2",
   "metadata": {},
   "outputs": [
    {
     "data": {
      "text/plain": [
       "'It AIN\\'T all that!: I bought this book based on the reviews I read here, but if I could do it over, I would <b>NOT</b> buy this book.Issue #1This book has A LOT of errors. The author\\'s website dismisses all the mistakes by saying, \"All printed material has mistakes.\" First, I doubt that \"all\" have mistakes. Second, this book has A LOT of mistakes. I have many books and this one has the most errors. I went to their site to get the errata and found a mistake in their corrections!Issue #2The CD that comes with the book is quirky and it\\'s not easy to find all stuff that\\'s supposed to be on it.Issue #3Now that LearnKey is defunct, you cannot get a code to unlock the rest of the info on the CD. Instead, the autor\\'s site charges for a new, unlocked CD.Go for another, more reliable book! Unless you enjoy wasting money for misinformation.'"
      ]
     },
     "execution_count": 25,
     "metadata": {},
     "output_type": "execute_result"
    }
   ],
   "source": [
    "# 5. Remove html tags\n",
    "text = train_df['Text'][44318]\n",
    "text"
   ]
  },
  {
   "cell_type": "code",
   "execution_count": 26,
   "id": "a5233847",
   "metadata": {},
   "outputs": [
    {
     "data": {
      "text/plain": [
       "'It AIN\\'T all that!: I bought this book based on the reviews I read here, but if I could do it over, I would NOT buy this book.Issue #1This book has A LOT of errors. The author\\'s website dismisses all the mistakes by saying, \"All printed material has mistakes.\" First, I doubt that \"all\" have mistakes. Second, this book has A LOT of mistakes. I have many books and this one has the most errors. I went to their site to get the errata and found a mistake in their corrections!Issue #2The CD that comes with the book is quirky and it\\'s not easy to find all stuff that\\'s supposed to be on it.Issue #3Now that LearnKey is defunct, you cannot get a code to unlock the rest of the info on the CD. Instead, the autor\\'s site charges for a new, unlocked CD.Go for another, more reliable book! Unless you enjoy wasting money for misinformation.'"
      ]
     },
     "execution_count": 26,
     "metadata": {},
     "output_type": "execute_result"
    }
   ],
   "source": [
    "cleaned_text = re.sub(r'<.*?>', '', text)\n",
    "cleaned_text"
   ]
  },
  {
   "cell_type": "code",
   "execution_count": 27,
   "id": "9672593e",
   "metadata": {},
   "outputs": [
    {
     "data": {
      "text/plain": [
       "'I feel ya \"Ghenry187@aol\"...this CD rocks. No Limit can\\'t...: I feel ya \"Ghenry187@aol.com\"...this CD rocks. No Limit can\\'t touch Cash $ Money Records. I don\\'t know why that new Tru CD sold one million in the first place. Who cares, \\'cause I just checked the billboard charts and discovered that Juvenile sold more that two million. So they can\\'t be faded. Anyway, back to this CD. Every song on this CD rocks. My favorite song is \"Help\" by B.G. I love this CD.'"
      ]
     },
     "execution_count": 27,
     "metadata": {},
     "output_type": "execute_result"
    }
   ],
   "source": [
    "# 6. Remove any email address\n",
    "text = train_df['Text'][291]\n",
    "text"
   ]
  },
  {
   "cell_type": "code",
   "execution_count": 28,
   "id": "5d40af44",
   "metadata": {},
   "outputs": [
    {
     "data": {
      "text/plain": [
       "'I feel ya  CD rocks. No Limit can\\'t...: I feel ya  CD rocks. No Limit can\\'t touch Cash $ Money Records. I don\\'t know why that new Tru CD sold one million in the first place. Who cares, \\'cause I just checked the billboard charts and discovered that Juvenile sold more that two million. So they can\\'t be faded. Anyway, back to this CD. Every song on this CD rocks. My favorite song is \"Help\" by B.G. I love this CD.'"
      ]
     },
     "execution_count": 28,
     "metadata": {},
     "output_type": "execute_result"
    }
   ],
   "source": [
    "clean_text = re.sub(r'\\S+@\\S+', '', text)\n",
    "clean_text"
   ]
  },
  {
   "cell_type": "code",
   "execution_count": 29,
   "id": "9b7a9926",
   "metadata": {},
   "outputs": [
    {
     "data": {
      "text/plain": [
       "'The Ultimate Movie Review! - [...] - @tss5078: ...except it\\'s not! This film is supposed to be an uplifting comedy, however I found it painfully predictable and a bit sad. Keir Gilchrist was great, playing Craig, a young mental patient who wants to kill himself. Gilchrist and the flashes of his thoughts, that we get to see, are the best part of this film and the only thing really worth seeing. Zach Galifianakis, who is one of my favorites, isn\\'t at all funny, he\\'s actually kind of pathetic in this film. Despite Gilchrist performance, the movie is actually quite stupid, I mean what kind of mental hospital lets the patients have access to the roof of the hospital? It looked good, has some really good actors in it, but nothing happens, the story is predictable as hell, and it\\'s a \"comedy\" in which no one really says or does anything funny. I was hugely disappointed with it.'"
      ]
     },
     "execution_count": 29,
     "metadata": {},
     "output_type": "execute_result"
    }
   ],
   "source": [
    "# 7. Remove any mentions\n",
    "text = train_df['Text'][18367]\n",
    "text"
   ]
  },
  {
   "cell_type": "code",
   "execution_count": 30,
   "id": "a39b7f3d",
   "metadata": {},
   "outputs": [
    {
     "data": {
      "text/plain": [
       "'The Ultimate Movie Review! - [...] - : ...except it\\'s not! This film is supposed to be an uplifting comedy, however I found it painfully predictable and a bit sad. Keir Gilchrist was great, playing Craig, a young mental patient who wants to kill himself. Gilchrist and the flashes of his thoughts, that we get to see, are the best part of this film and the only thing really worth seeing. Zach Galifianakis, who is one of my favorites, isn\\'t at all funny, he\\'s actually kind of pathetic in this film. Despite Gilchrist performance, the movie is actually quite stupid, I mean what kind of mental hospital lets the patients have access to the roof of the hospital? It looked good, has some really good actors in it, but nothing happens, the story is predictable as hell, and it\\'s a \"comedy\" in which no one really says or does anything funny. I was hugely disappointed with it.'"
      ]
     },
     "execution_count": 30,
     "metadata": {},
     "output_type": "execute_result"
    }
   ],
   "source": [
    "clean_text = re.sub(r'@\\w+', '', text)\n",
    "clean_text"
   ]
  },
  {
   "cell_type": "code",
   "execution_count": 31,
   "id": "4bcbc9db",
   "metadata": {},
   "outputs": [],
   "source": [
    "# Let us put this all in a single function that can be applied to the full text column in the dataframe\n",
    "\n",
    "def data_cleaning(text):\n",
    "    clean_text = text.lower()\n",
    "    clean_text = re.sub(r'[^\\w\\s]', '', clean_text)\n",
    "    clean_text = re.sub(r'https?://\\S+|www\\.\\S+', '', clean_text)\n",
    "    clean_text = re.sub(r'<.*?>', '', clean_text)\n",
    "    clean_text = re.sub(r'\\S+@\\S+', '', clean_text)\n",
    "    clean_text = re.sub(r'@\\w+', '', clean_text)\n",
    "    clean_text = re.sub(\"@[A-Za-z]+\", \"\", clean_text)\n",
    "    return clean_text    "
   ]
  },
  {
   "cell_type": "code",
   "execution_count": 32,
   "id": "e60a5f33",
   "metadata": {},
   "outputs": [],
   "source": [
    "# Clean the dataframe by applying this function\n",
    "train_df['clean_text'] = train_df['Text'].apply(data_cleaning) "
   ]
  },
  {
   "cell_type": "code",
   "execution_count": 33,
   "id": "ab8c51e9",
   "metadata": {},
   "outputs": [
    {
     "data": {
      "text/html": [
       "<div>\n",
       "<style scoped>\n",
       "    .dataframe tbody tr th:only-of-type {\n",
       "        vertical-align: middle;\n",
       "    }\n",
       "\n",
       "    .dataframe tbody tr th {\n",
       "        vertical-align: top;\n",
       "    }\n",
       "\n",
       "    .dataframe thead th {\n",
       "        text-align: right;\n",
       "    }\n",
       "</style>\n",
       "<table border=\"1\" class=\"dataframe\">\n",
       "  <thead>\n",
       "    <tr style=\"text-align: right;\">\n",
       "      <th></th>\n",
       "      <th>Target</th>\n",
       "      <th>Text</th>\n",
       "      <th>total_words_before_cleanup</th>\n",
       "      <th>clean_text</th>\n",
       "    </tr>\n",
       "  </thead>\n",
       "  <tbody>\n",
       "    <tr>\n",
       "      <th>0</th>\n",
       "      <td>1</td>\n",
       "      <td>Stuning even for the non-gamer: This sound tra...</td>\n",
       "      <td>80</td>\n",
       "      <td>stuning even for the nongamer this sound track...</td>\n",
       "    </tr>\n",
       "    <tr>\n",
       "      <th>1</th>\n",
       "      <td>1</td>\n",
       "      <td>The best soundtrack ever to anything.: I'm rea...</td>\n",
       "      <td>97</td>\n",
       "      <td>the best soundtrack ever to anything im readin...</td>\n",
       "    </tr>\n",
       "    <tr>\n",
       "      <th>2</th>\n",
       "      <td>1</td>\n",
       "      <td>Amazing!: This soundtrack is my favorite music...</td>\n",
       "      <td>129</td>\n",
       "      <td>amazing this soundtrack is my favorite music o...</td>\n",
       "    </tr>\n",
       "    <tr>\n",
       "      <th>3</th>\n",
       "      <td>1</td>\n",
       "      <td>Excellent Soundtrack: I truly like this soundt...</td>\n",
       "      <td>118</td>\n",
       "      <td>excellent soundtrack i truly like this soundtr...</td>\n",
       "    </tr>\n",
       "    <tr>\n",
       "      <th>4</th>\n",
       "      <td>1</td>\n",
       "      <td>Remember, Pull Your Jaw Off The Floor After He...</td>\n",
       "      <td>87</td>\n",
       "      <td>remember pull your jaw off the floor after hea...</td>\n",
       "    </tr>\n",
       "  </tbody>\n",
       "</table>\n",
       "</div>"
      ],
      "text/plain": [
       "   Target                                               Text  \\\n",
       "0       1  Stuning even for the non-gamer: This sound tra...   \n",
       "1       1  The best soundtrack ever to anything.: I'm rea...   \n",
       "2       1  Amazing!: This soundtrack is my favorite music...   \n",
       "3       1  Excellent Soundtrack: I truly like this soundt...   \n",
       "4       1  Remember, Pull Your Jaw Off The Floor After He...   \n",
       "\n",
       "   total_words_before_cleanup  \\\n",
       "0                          80   \n",
       "1                          97   \n",
       "2                         129   \n",
       "3                         118   \n",
       "4                          87   \n",
       "\n",
       "                                          clean_text  \n",
       "0  stuning even for the nongamer this sound track...  \n",
       "1  the best soundtrack ever to anything im readin...  \n",
       "2  amazing this soundtrack is my favorite music o...  \n",
       "3  excellent soundtrack i truly like this soundtr...  \n",
       "4  remember pull your jaw off the floor after hea...  "
      ]
     },
     "execution_count": 33,
     "metadata": {},
     "output_type": "execute_result"
    }
   ],
   "source": [
    "train_df.head(5)"
   ]
  },
  {
   "cell_type": "markdown",
   "id": "618209f9",
   "metadata": {},
   "source": [
    "# NLTK"
   ]
  },
  {
   "cell_type": "code",
   "execution_count": 34,
   "id": "7e2e7663",
   "metadata": {},
   "outputs": [
    {
     "name": "stdout",
     "output_type": "stream",
     "text": [
      "{'him', 'doesn', \"you'd\", 'was', 'll', 'hadn', 'are', 'hers', 'by', 'shan', \"you've\", 'both', 'once', 'myself', 've', 'couldn', \"doesn't\", 'again', 'yourselves', 'a', \"won't\", 'our', 'these', 're', 'theirs', 'between', 'won', 'over', \"should've\", 'mustn', 'haven', 'how', 'very', 'ain', 'here', 'where', 'only', \"wasn't\", \"she's\", \"couldn't\", \"don't\", 'i', 'when', 'have', 'such', 'd', 'themselves', 'your', 'off', 'above', 'from', 'out', 'should', 'needn', 'can', 'more', 'y', 'and', 'me', 'up', 'her', 'whom', 'isn', 'she', 'until', 'ma', 'the', 'each', 'of', 'yours', 'into', 'which', 'or', \"you're\", \"you'll\", 'he', 'most', 'other', 'will', 't', \"shouldn't\", 'this', 'that', 'no', 's', 'before', 'his', 'herself', 'their', 'not', 'weren', 'further', 'am', 'them', \"it's\", 'an', 'is', \"needn't\", 'under', 'do', \"hasn't\", 'wasn', 'you', 'because', 'has', 'does', 'be', \"mightn't\", 'it', 'itself', \"hadn't\", 'shouldn', 'during', 'they', 'having', 'o', 'then', 'just', 'himself', \"aren't\", 'we', 'didn', 'doing', 'down', 'all', 'below', \"didn't\", 'few', 'those', 'did', \"haven't\", 'ourselves', 'while', 'if', 'any', 'on', \"isn't\", 'with', 'there', 'own', 'mightn', 'its', 'but', 'who', 'what', 'for', 'as', 'aren', 'my', 'against', 'through', 'don', 'being', \"shan't\", 'nor', 'ours', 'been', 'were', \"wouldn't\", 'now', \"that'll\", 'm', 'some', \"mustn't\", 'after', 'same', 'to', 'had', 'wouldn', \"weren't\", 'about', 'too', 'hasn', 'at', 'why', 'so', 'yourself', 'in', 'than'}\n"
     ]
    }
   ],
   "source": [
    "import nltk\n",
    "from nltk.corpus import stopwords\n",
    "nltk_stopwords = set(stopwords.words('english'))\n",
    "\n",
    "# Let us print the stopwords from nltk library\n",
    "print(nltk_stopwords)"
   ]
  },
  {
   "cell_type": "code",
   "execution_count": 35,
   "id": "c0c0e6d3",
   "metadata": {},
   "outputs": [
    {
     "data": {
      "text/plain": [
       "179"
      ]
     },
     "execution_count": 35,
     "metadata": {},
     "output_type": "execute_result"
    }
   ],
   "source": [
    "len(nltk_stopwords)"
   ]
  },
  {
   "cell_type": "code",
   "execution_count": 36,
   "id": "0e65d132",
   "metadata": {},
   "outputs": [],
   "source": [
    "# Some of the words like not, too, never express the sentiment and we do not want to loose it. So I have created this updated\n",
    "# stop words list and we will only remove these stop words. \n",
    "cleaned_stopwords = {\n",
    "    'most', 'now', 'were', 'itself', 'doing', 'again', 're', 'before', 'whom', 'has', \n",
    "    \"you're\", 'he', 'hers', 'her', 'who', \"you'll\", 've', 'all', 'did', 'herself', 'are', \n",
    "    'that', 'off', 'for', 'this', 'o', 'then', 'your', 'into', 'we', 'as', \"it's\", 'from', \n",
    "    'been', 'yours', 'm', 'below', 'y', 'the', 'these', 'than', 'down', 'himself', 'themselves', \n",
    "    'at', 'our', 'under', 'is', 'against', 's', 'few', 'other', 'theirs', 'me', 'there', 'you', \n",
    "    'ourselves', 'i', 'own', 'during', 'd', 'myself', 'further', 'had', 'while', 'out', \"she's\", \n",
    "    'over', \"that'll\", 'with', 'if', 'do', 'yourself', 'ma', 'my', 'between', 'any', 'on', \n",
    "    \"should've\", \"you'd\", 'their', 'an', 'ours', 'him', 'here', 'through', 'such', 'above', \n",
    "    'but', 'or', 'same', 'which', 'a', 'of', 'having', 'about', 'its', 'does', 'to', 'being', \n",
    "    \"you've\", 'those', 't', 'be', 'in', 'nor', 'hadn', 'she', 'have', 'll', 'once', 'them', \n",
    "    'after', 'by', 'until', 'and', 'it', 'each', 'yourselves', \"hadn't\"\n",
    "}"
   ]
  },
  {
   "cell_type": "code",
   "execution_count": 37,
   "id": "e774e278",
   "metadata": {},
   "outputs": [
    {
     "data": {
      "text/plain": [
       "120"
      ]
     },
     "execution_count": 37,
     "metadata": {},
     "output_type": "execute_result"
    }
   ],
   "source": [
    "len(cleaned_stopwords)"
   ]
  },
  {
   "cell_type": "code",
   "execution_count": 38,
   "id": "86e2e10c",
   "metadata": {},
   "outputs": [],
   "source": [
    "# Now we can do either stemming or lemmatization. \n",
    "# Stemming is not so great as sometimes meaning of words get changed. \n",
    "# Therefore we will use lemmatisation\n",
    "\n",
    "from nltk.stem import WordNetLemmatizer\n",
    "lemmatizer = WordNetLemmatizer()"
   ]
  },
  {
   "cell_type": "code",
   "execution_count": 39,
   "id": "0917bdb5",
   "metadata": {},
   "outputs": [
    {
     "data": {
      "text/plain": [
       "\"The best soundtrack ever to anything.: I'm reading a lot of review saying that this is the best 'game soundtrack' and I figured that I'd write a review to disagree a bit. This in my opinino is Yasunori Mitsuda's ultimate masterpiece. The music is timeless and I'm been listening to it for year now and it beauty simply refuse to fade.The price tag on this is pretty staggering I must say, but if you are going to buy any cd for this much money, this is the only one that I feel would be worth every penny. \""
      ]
     },
     "execution_count": 39,
     "metadata": {},
     "output_type": "execute_result"
    }
   ],
   "source": [
    "text = train_df['Text'][1]\n",
    "new_sentence = ''\n",
    "for token in text.split():\n",
    "    new_sentence = new_sentence + lemmatizer.lemmatize(token) + ' '\n",
    "\n",
    "new_sentence"
   ]
  },
  {
   "cell_type": "code",
   "execution_count": 40,
   "id": "14afc7a6",
   "metadata": {},
   "outputs": [],
   "source": [
    "def lemmatize_clean_data(text):\n",
    "    new_sentence = ''\n",
    "    for token in text.split():\n",
    "        new_sentence = new_sentence + lemmatizer.lemmatize(token) + ' '\n",
    "    return new_sentence\n",
    "\n",
    "def remove_stop_words(text):\n",
    "    new_sentence = ''\n",
    "    for token in text.split(): \n",
    "        if token not in cleaned_stopwords:\n",
    "            new_sentence = new_sentence + token + ' '\n",
    "    return new_sentence\n",
    "\n"
   ]
  },
  {
   "cell_type": "code",
   "execution_count": 41,
   "id": "e09c8a2e",
   "metadata": {},
   "outputs": [],
   "source": [
    "train_df['clean_text'] = train_df['clean_text'].apply(lemmatize_clean_data)"
   ]
  },
  {
   "cell_type": "code",
   "execution_count": 42,
   "id": "65173d53",
   "metadata": {},
   "outputs": [],
   "source": [
    "train_df['clean_text_without_stopwords'] = train_df['clean_text'].apply(remove_stop_words)"
   ]
  },
  {
   "cell_type": "code",
   "execution_count": 43,
   "id": "d1287c91",
   "metadata": {},
   "outputs": [],
   "source": [
    "train_df['total_words_clean_text'] = train_df['clean_text'].apply(lambda x: len(x.split())) \n",
    "train_df['total_words_clean_text_without_stopwords'] = train_df['clean_text_without_stopwords'].apply(lambda x: len(x.split())) "
   ]
  },
  {
   "cell_type": "code",
   "execution_count": 44,
   "id": "097b35d7",
   "metadata": {},
   "outputs": [
    {
     "data": {
      "text/html": [
       "<div>\n",
       "<style scoped>\n",
       "    .dataframe tbody tr th:only-of-type {\n",
       "        vertical-align: middle;\n",
       "    }\n",
       "\n",
       "    .dataframe tbody tr th {\n",
       "        vertical-align: top;\n",
       "    }\n",
       "\n",
       "    .dataframe thead th {\n",
       "        text-align: right;\n",
       "    }\n",
       "</style>\n",
       "<table border=\"1\" class=\"dataframe\">\n",
       "  <thead>\n",
       "    <tr style=\"text-align: right;\">\n",
       "      <th></th>\n",
       "      <th>Target</th>\n",
       "      <th>Text</th>\n",
       "      <th>total_words_before_cleanup</th>\n",
       "      <th>clean_text</th>\n",
       "      <th>clean_text_without_stopwords</th>\n",
       "      <th>total_words_clean_text</th>\n",
       "      <th>total_words_clean_text_without_stopwords</th>\n",
       "    </tr>\n",
       "  </thead>\n",
       "  <tbody>\n",
       "    <tr>\n",
       "      <th>0</th>\n",
       "      <td>1</td>\n",
       "      <td>Stuning even for the non-gamer: This sound tra...</td>\n",
       "      <td>80</td>\n",
       "      <td>stuning even for the nongamer this sound track...</td>\n",
       "      <td>stuning even nongamer sound track wa beautiful...</td>\n",
       "      <td>80</td>\n",
       "      <td>47</td>\n",
       "    </tr>\n",
       "    <tr>\n",
       "      <th>1</th>\n",
       "      <td>1</td>\n",
       "      <td>The best soundtrack ever to anything.: I'm rea...</td>\n",
       "      <td>97</td>\n",
       "      <td>the best soundtrack ever to anything im readin...</td>\n",
       "      <td>best soundtrack ever anything im reading lot r...</td>\n",
       "      <td>97</td>\n",
       "      <td>50</td>\n",
       "    </tr>\n",
       "    <tr>\n",
       "      <th>2</th>\n",
       "      <td>1</td>\n",
       "      <td>Amazing!: This soundtrack is my favorite music...</td>\n",
       "      <td>129</td>\n",
       "      <td>amazing this soundtrack is my favorite music o...</td>\n",
       "      <td>amazing soundtrack favorite music time hand in...</td>\n",
       "      <td>128</td>\n",
       "      <td>76</td>\n",
       "    </tr>\n",
       "    <tr>\n",
       "      <th>3</th>\n",
       "      <td>1</td>\n",
       "      <td>Excellent Soundtrack: I truly like this soundt...</td>\n",
       "      <td>118</td>\n",
       "      <td>excellent soundtrack i truly like this soundtr...</td>\n",
       "      <td>excellent soundtrack truly like soundtrack enj...</td>\n",
       "      <td>116</td>\n",
       "      <td>73</td>\n",
       "    </tr>\n",
       "    <tr>\n",
       "      <th>4</th>\n",
       "      <td>1</td>\n",
       "      <td>Remember, Pull Your Jaw Off The Floor After He...</td>\n",
       "      <td>87</td>\n",
       "      <td>remember pull your jaw off the floor after hea...</td>\n",
       "      <td>remember pull jaw floor hearing youve played g...</td>\n",
       "      <td>87</td>\n",
       "      <td>51</td>\n",
       "    </tr>\n",
       "  </tbody>\n",
       "</table>\n",
       "</div>"
      ],
      "text/plain": [
       "   Target                                               Text  \\\n",
       "0       1  Stuning even for the non-gamer: This sound tra...   \n",
       "1       1  The best soundtrack ever to anything.: I'm rea...   \n",
       "2       1  Amazing!: This soundtrack is my favorite music...   \n",
       "3       1  Excellent Soundtrack: I truly like this soundt...   \n",
       "4       1  Remember, Pull Your Jaw Off The Floor After He...   \n",
       "\n",
       "   total_words_before_cleanup  \\\n",
       "0                          80   \n",
       "1                          97   \n",
       "2                         129   \n",
       "3                         118   \n",
       "4                          87   \n",
       "\n",
       "                                          clean_text  \\\n",
       "0  stuning even for the nongamer this sound track...   \n",
       "1  the best soundtrack ever to anything im readin...   \n",
       "2  amazing this soundtrack is my favorite music o...   \n",
       "3  excellent soundtrack i truly like this soundtr...   \n",
       "4  remember pull your jaw off the floor after hea...   \n",
       "\n",
       "                        clean_text_without_stopwords  total_words_clean_text  \\\n",
       "0  stuning even nongamer sound track wa beautiful...                      80   \n",
       "1  best soundtrack ever anything im reading lot r...                      97   \n",
       "2  amazing soundtrack favorite music time hand in...                     128   \n",
       "3  excellent soundtrack truly like soundtrack enj...                     116   \n",
       "4  remember pull jaw floor hearing youve played g...                      87   \n",
       "\n",
       "   total_words_clean_text_without_stopwords  \n",
       "0                                        47  \n",
       "1                                        50  \n",
       "2                                        76  \n",
       "3                                        73  \n",
       "4                                        51  "
      ]
     },
     "execution_count": 44,
     "metadata": {},
     "output_type": "execute_result"
    }
   ],
   "source": [
    "train_df.head()"
   ]
  },
  {
   "cell_type": "code",
   "execution_count": 45,
   "id": "70ea870b",
   "metadata": {},
   "outputs": [
    {
     "data": {
      "text/plain": [
       "count    100000.000000\n",
       "mean         79.530930\n",
       "std          43.101658\n",
       "min           4.000000\n",
       "25%          43.000000\n",
       "50%          72.000000\n",
       "75%         110.000000\n",
       "max         241.000000\n",
       "Name: total_words_clean_text, dtype: float64"
      ]
     },
     "execution_count": 45,
     "metadata": {},
     "output_type": "execute_result"
    }
   ],
   "source": [
    "train_df['total_words_clean_text'].describe()"
   ]
  },
  {
   "cell_type": "code",
   "execution_count": 46,
   "id": "ce9bd70b",
   "metadata": {},
   "outputs": [
    {
     "data": {
      "image/png": "[encoded data removed]",
      "text/plain": [
       "<Figure size 1000x600 with 2 Axes>"
      ]
     },
     "metadata": {},
     "output_type": "display_data"
    }
   ],
   "source": [
    "# Let us try to plot a kde to understand the distribution of words\n",
    "plt.figure(figsize=(10, 6), facecolor='black')\n",
    "plt.suptitle(\"Plot the frequency of words\", fontsize = 20, fontweight = 'bold')\n",
    "col = ['total_words_clean_text', 'total_words_clean_text_without_stopwords']\n",
    "\n",
    "for i in range(len(col)):\n",
    "    ax = plt.subplot(1, 2, i+1)\n",
    "    sns.kdeplot(train_df[train_df['Target'] == 0][col[i]], label = 'Negative', fill = True)\n",
    "    sns.kdeplot(train_df[train_df['Target'] == 1][col[i]], label = 'Positive', fill = True)\n",
    "    plt.legend()\n",
    "    ax.set_facecolor('black')\n",
    "    ax.xaxis.label.set_color('white')\n",
    "    ax.yaxis.label.set_color('white')\n",
    "    ax.tick_params(axis = 'x', colors = 'white')\n",
    "    ax.tick_params(axis = 'y', colors = 'white')"
   ]
  },
  {
   "cell_type": "markdown",
   "id": "928062ef",
   "metadata": {},
   "source": [
    "Observations from above kde\n",
    "1. When the stop words were not removed then our distribution was wider. This makes sense as well as there are lots of words. Peak is also not as high.\n",
    "2. when the stop words are removed then our distribution became narrower. This clearly shows that our stop words were removed. Peak also went higher for same reason as now we have more concentration of comments with word count between 30-80 words approximately. \n",
    "3. A word count of 50 is more characteristic of positive comments than of negative ones. "
   ]
  },
  {
   "cell_type": "code",
   "execution_count": 47,
   "id": "925de674",
   "metadata": {},
   "outputs": [
    {
     "data": {
      "image/png": "[encoded data removed]",
      "text/plain": [
       "<Figure size 1000x400 with 2 Axes>"
      ]
     },
     "metadata": {},
     "output_type": "display_data"
    }
   ],
   "source": [
    "# Let us plot blox plot to understand if word count can help decipher if the comment is negative or positive?\n",
    "\n",
    "plt.figure(figsize =(10, 4), facecolor='black')\n",
    "col = ['total_words_clean_text', 'total_words_clean_text_without_stopwords']\n",
    "plt.suptitle(\"Word count by target\", fontsize = 20, fontweight = 'bold')\n",
    "color = ['magenta', 'cyan']\n",
    "\n",
    "for i in range(len(col)):\n",
    "    ax = plt.subplot(1, 2, i+1)\n",
    "    sns.boxplot(data = train_df, x = 'Target', y = col[i], color = color[i])\n",
    "    plt.xlabel('Target')\n",
    "    plt.ylabel(f'Word count in {col[i]}')\n",
    "    ax.set_facecolor('black')\n",
    "    ax.xaxis.label.set_color('white')\n",
    "    ax.yaxis.label.set_color('white')\n",
    "    ax.tick_params(axis = 'x', colors = 'white')\n",
    "    ax.tick_params(axis = 'y', colors = 'white')"
   ]
  },
  {
   "cell_type": "markdown",
   "id": "4b9ad615",
   "metadata": {},
   "source": [
    "Observations of the box plot\n",
    "1. Lower rating has more outliers than higher rating. This can mean that if there are higher than ordinary number of words in a review then chances are that the review is with a lower rating.\n",
    "2. Both the word count with stop words and word count without stop words behave in a similar mannner with respect to the target variable. \n",
    "3. Both the word counts have median very close to one another. "
   ]
  },
  {
   "cell_type": "code",
   "execution_count": 48,
   "id": "8eba9fdd",
   "metadata": {},
   "outputs": [],
   "source": [
    "# Create a frequency distribution of words with respect to both the word counts\n",
    "from collections import Counter\n",
    "\n",
    "# for clean_text column\n",
    "total_words_clean_text_list = [word for comment in train_df['clean_text'] for word in comment.split()]\n",
    "most_common_words_clean_text = Counter(total_words_clean_text_list).most_common(25)\n",
    "top_25_total_words_clean_text_df = pd.DataFrame(most_common_words_clean_text, columns = ['word', 'count'])\n",
    "\n",
    "# for clean_text_without_stopwords column\n",
    "total_words_clean_text_without_stopwords_list = [word for comment in train_df['clean_text_without_stopwords'] for word in comment.split()]\n",
    "most_common_words_clean_text_without_stopwords = Counter(total_words_clean_text_without_stopwords_list).most_common(25)\n",
    "top_25_total_words_total_words_clean_text_without_stopwords_df = pd.DataFrame(most_common_words_clean_text_without_stopwords, columns = ['word', 'count'])"
   ]
  },
  {
   "cell_type": "code",
   "execution_count": 49,
   "id": "cabee813",
   "metadata": {},
   "outputs": [
    {
     "name": "stderr",
     "output_type": "stream",
     "text": [
      "C:\\Users\\RadhikaMaheshwari\\AppData\\Local\\Temp\\ipykernel_27384\\3578561623.py:7: FutureWarning: \n",
      "\n",
      "Passing `palette` without assigning `hue` is deprecated and will be removed in v0.14.0. Assign the `y` variable to `hue` and set `legend=False` for the same effect.\n",
      "\n",
      "  sns.barplot(data = top_25_total_words_clean_text_df,\n",
      "C:\\Users\\RadhikaMaheshwari\\AppData\\Local\\Temp\\ipykernel_27384\\3578561623.py:20: FutureWarning: \n",
      "\n",
      "Passing `palette` without assigning `hue` is deprecated and will be removed in v0.14.0. Assign the `y` variable to `hue` and set `legend=False` for the same effect.\n",
      "\n",
      "  sns.barplot(data = top_25_total_words_total_words_clean_text_without_stopwords_df,\n"
     ]
    },
    {
     "data": {
      "image/png": "[encoded data removed]",
      "text/plain": [
       "<Figure size 1200x800 with 2 Axes>"
      ]
     },
     "metadata": {},
     "output_type": "display_data"
    }
   ],
   "source": [
    "# Let us plot these top 25 words\n",
    "col = [top_25_total_words_clean_text_df, top_25_total_words_total_words_clean_text_without_stopwords_df]\n",
    "\n",
    "plt.figure(figsize = (12, 8), facecolor='black')\n",
    "\n",
    "ax = plt.subplot(1, 2, 1)\n",
    "sns.barplot(data = top_25_total_words_clean_text_df, \n",
    "            x = top_25_total_words_clean_text_df['count'], \n",
    "            y = top_25_total_words_clean_text_df['word'],\n",
    "            palette='husl')\n",
    "plt.xlabel('Target')\n",
    "plt.ylabel(f'Word count in top_25_total_words_clean_text_df')\n",
    "ax.set_facecolor('black')\n",
    "ax.xaxis.label.set_color('white')\n",
    "ax.yaxis.label.set_color('white')\n",
    "ax.tick_params(axis = 'x', colors = 'white')\n",
    "ax.tick_params(axis = 'y', colors = 'white')\n",
    "\n",
    "ax = plt.subplot(1, 2, 2)\n",
    "sns.barplot(data = top_25_total_words_total_words_clean_text_without_stopwords_df, \n",
    "            x = top_25_total_words_total_words_clean_text_without_stopwords_df['count'], \n",
    "            y = top_25_total_words_total_words_clean_text_without_stopwords_df['word'],\n",
    "            palette='husl')\n",
    "plt.xlabel('Target')\n",
    "plt.ylabel(f'Word count in top_25_total_words_total_words_clean_text_without_stopwords_df')\n",
    "ax.set_facecolor('black')\n",
    "ax.xaxis.label.set_color('white')\n",
    "ax.yaxis.label.set_color('white')\n",
    "ax.tick_params(axis = 'x', colors = 'white')\n",
    "ax.tick_params(axis = 'y', colors = 'white')"
   ]
  },
  {
   "cell_type": "markdown",
   "id": "ab1c0f29",
   "metadata": {},
   "source": [
    "Observations from the above Bar plots\n",
    "WRITE THEM\n"
   ]
  },
  {
   "cell_type": "markdown",
   "id": "2ed32599",
   "metadata": {},
   "source": [
    "# Separate dependent and independent variables"
   ]
  },
  {
   "cell_type": "code",
   "execution_count": 50,
   "id": "83b2cd98",
   "metadata": {},
   "outputs": [
    {
     "data": {
      "text/html": [
       "<div>\n",
       "<style scoped>\n",
       "    .dataframe tbody tr th:only-of-type {\n",
       "        vertical-align: middle;\n",
       "    }\n",
       "\n",
       "    .dataframe tbody tr th {\n",
       "        vertical-align: top;\n",
       "    }\n",
       "\n",
       "    .dataframe thead th {\n",
       "        text-align: right;\n",
       "    }\n",
       "</style>\n",
       "<table border=\"1\" class=\"dataframe\">\n",
       "  <thead>\n",
       "    <tr style=\"text-align: right;\">\n",
       "      <th></th>\n",
       "      <th>Target</th>\n",
       "      <th>Text</th>\n",
       "      <th>total_words_before_cleanup</th>\n",
       "      <th>clean_text</th>\n",
       "      <th>clean_text_without_stopwords</th>\n",
       "      <th>total_words_clean_text</th>\n",
       "      <th>total_words_clean_text_without_stopwords</th>\n",
       "    </tr>\n",
       "  </thead>\n",
       "  <tbody>\n",
       "    <tr>\n",
       "      <th>0</th>\n",
       "      <td>1</td>\n",
       "      <td>Stuning even for the non-gamer: This sound tra...</td>\n",
       "      <td>80</td>\n",
       "      <td>stuning even for the nongamer this sound track...</td>\n",
       "      <td>stuning even nongamer sound track wa beautiful...</td>\n",
       "      <td>80</td>\n",
       "      <td>47</td>\n",
       "    </tr>\n",
       "  </tbody>\n",
       "</table>\n",
       "</div>"
      ],
      "text/plain": [
       "   Target                                               Text  \\\n",
       "0       1  Stuning even for the non-gamer: This sound tra...   \n",
       "\n",
       "   total_words_before_cleanup  \\\n",
       "0                          80   \n",
       "\n",
       "                                          clean_text  \\\n",
       "0  stuning even for the nongamer this sound track...   \n",
       "\n",
       "                        clean_text_without_stopwords  total_words_clean_text  \\\n",
       "0  stuning even nongamer sound track wa beautiful...                      80   \n",
       "\n",
       "   total_words_clean_text_without_stopwords  \n",
       "0                                        47  "
      ]
     },
     "execution_count": 50,
     "metadata": {},
     "output_type": "execute_result"
    }
   ],
   "source": [
    "train_df.head(1)"
   ]
  },
  {
   "cell_type": "code",
   "execution_count": 51,
   "id": "adcc56f1",
   "metadata": {},
   "outputs": [],
   "source": [
    "# Let us first separate our dependent and independent features for clean_text\n",
    "train_df_clean_text_X = train_df[['clean_text', 'total_words_clean_text']]\n",
    "train_df_clean_text_y = train_df[['Target']]"
   ]
  },
  {
   "cell_type": "code",
   "execution_count": 52,
   "id": "db76e29d",
   "metadata": {},
   "outputs": [
    {
     "data": {
      "text/html": [
       "<div>\n",
       "<style scoped>\n",
       "    .dataframe tbody tr th:only-of-type {\n",
       "        vertical-align: middle;\n",
       "    }\n",
       "\n",
       "    .dataframe tbody tr th {\n",
       "        vertical-align: top;\n",
       "    }\n",
       "\n",
       "    .dataframe thead th {\n",
       "        text-align: right;\n",
       "    }\n",
       "</style>\n",
       "<table border=\"1\" class=\"dataframe\">\n",
       "  <thead>\n",
       "    <tr style=\"text-align: right;\">\n",
       "      <th></th>\n",
       "      <th>clean_text</th>\n",
       "      <th>total_words_clean_text</th>\n",
       "    </tr>\n",
       "  </thead>\n",
       "  <tbody>\n",
       "    <tr>\n",
       "      <th>0</th>\n",
       "      <td>stuning even for the nongamer this sound track...</td>\n",
       "      <td>80</td>\n",
       "    </tr>\n",
       "  </tbody>\n",
       "</table>\n",
       "</div>"
      ],
      "text/plain": [
       "                                          clean_text  total_words_clean_text\n",
       "0  stuning even for the nongamer this sound track...                      80"
      ]
     },
     "execution_count": 52,
     "metadata": {},
     "output_type": "execute_result"
    }
   ],
   "source": [
    "train_df_clean_text_X.head(1)"
   ]
  },
  {
   "cell_type": "code",
   "execution_count": 53,
   "id": "733f9eb6",
   "metadata": {},
   "outputs": [
    {
     "data": {
      "text/html": [
       "<div>\n",
       "<style scoped>\n",
       "    .dataframe tbody tr th:only-of-type {\n",
       "        vertical-align: middle;\n",
       "    }\n",
       "\n",
       "    .dataframe tbody tr th {\n",
       "        vertical-align: top;\n",
       "    }\n",
       "\n",
       "    .dataframe thead th {\n",
       "        text-align: right;\n",
       "    }\n",
       "</style>\n",
       "<table border=\"1\" class=\"dataframe\">\n",
       "  <thead>\n",
       "    <tr style=\"text-align: right;\">\n",
       "      <th></th>\n",
       "      <th>Target</th>\n",
       "    </tr>\n",
       "  </thead>\n",
       "  <tbody>\n",
       "    <tr>\n",
       "      <th>0</th>\n",
       "      <td>1</td>\n",
       "    </tr>\n",
       "  </tbody>\n",
       "</table>\n",
       "</div>"
      ],
      "text/plain": [
       "   Target\n",
       "0       1"
      ]
     },
     "execution_count": 53,
     "metadata": {},
     "output_type": "execute_result"
    }
   ],
   "source": [
    "train_df_clean_text_y.head(1)"
   ]
  },
  {
   "cell_type": "code",
   "execution_count": 54,
   "id": "6e32839f",
   "metadata": {},
   "outputs": [],
   "source": [
    "# Let us separate our dependent and independent features for clean_text_without_stopwords\n",
    "train_df_clean_text_without_stopwords_X = train_df[['clean_text_without_stopwords', 'total_words_clean_text_without_stopwords']]\n",
    "train_df_clean_text_without_stopwords_y = train_df[['Target']]"
   ]
  },
  {
   "cell_type": "code",
   "execution_count": 55,
   "id": "f140c90f",
   "metadata": {},
   "outputs": [
    {
     "data": {
      "text/html": [
       "<div>\n",
       "<style scoped>\n",
       "    .dataframe tbody tr th:only-of-type {\n",
       "        vertical-align: middle;\n",
       "    }\n",
       "\n",
       "    .dataframe tbody tr th {\n",
       "        vertical-align: top;\n",
       "    }\n",
       "\n",
       "    .dataframe thead th {\n",
       "        text-align: right;\n",
       "    }\n",
       "</style>\n",
       "<table border=\"1\" class=\"dataframe\">\n",
       "  <thead>\n",
       "    <tr style=\"text-align: right;\">\n",
       "      <th></th>\n",
       "      <th>clean_text_without_stopwords</th>\n",
       "      <th>total_words_clean_text_without_stopwords</th>\n",
       "    </tr>\n",
       "  </thead>\n",
       "  <tbody>\n",
       "    <tr>\n",
       "      <th>0</th>\n",
       "      <td>stuning even nongamer sound track wa beautiful...</td>\n",
       "      <td>47</td>\n",
       "    </tr>\n",
       "  </tbody>\n",
       "</table>\n",
       "</div>"
      ],
      "text/plain": [
       "                        clean_text_without_stopwords  \\\n",
       "0  stuning even nongamer sound track wa beautiful...   \n",
       "\n",
       "   total_words_clean_text_without_stopwords  \n",
       "0                                        47  "
      ]
     },
     "execution_count": 55,
     "metadata": {},
     "output_type": "execute_result"
    }
   ],
   "source": [
    "train_df_clean_text_without_stopwords_X.head(1)"
   ]
  },
  {
   "cell_type": "code",
   "execution_count": 56,
   "id": "6922b362",
   "metadata": {},
   "outputs": [
    {
     "data": {
      "text/html": [
       "<div>\n",
       "<style scoped>\n",
       "    .dataframe tbody tr th:only-of-type {\n",
       "        vertical-align: middle;\n",
       "    }\n",
       "\n",
       "    .dataframe tbody tr th {\n",
       "        vertical-align: top;\n",
       "    }\n",
       "\n",
       "    .dataframe thead th {\n",
       "        text-align: right;\n",
       "    }\n",
       "</style>\n",
       "<table border=\"1\" class=\"dataframe\">\n",
       "  <thead>\n",
       "    <tr style=\"text-align: right;\">\n",
       "      <th></th>\n",
       "      <th>Target</th>\n",
       "    </tr>\n",
       "  </thead>\n",
       "  <tbody>\n",
       "    <tr>\n",
       "      <th>0</th>\n",
       "      <td>1</td>\n",
       "    </tr>\n",
       "  </tbody>\n",
       "</table>\n",
       "</div>"
      ],
      "text/plain": [
       "   Target\n",
       "0       1"
      ]
     },
     "execution_count": 56,
     "metadata": {},
     "output_type": "execute_result"
    }
   ],
   "source": [
    "train_df_clean_text_without_stopwords_y.head(1)"
   ]
  },
  {
   "cell_type": "markdown",
   "id": "86ce8844",
   "metadata": {},
   "source": [
    "# Train test spit\n",
    "Important: We already have a train and test datasets separately. \n",
    "I am going to still do train test split to split the train dataset into train and validation datasets. This ensures that we have a mechanism to understand how our model will perform with new data. Once we are satisfied with the training and validation performance metrics then we will use the test dataset to do our predictions and keep evaluating the performance. "
   ]
  },
  {
   "cell_type": "code",
   "execution_count": 57,
   "id": "07641581",
   "metadata": {},
   "outputs": [],
   "source": [
    "# Splitting the train dataset into training and validation datasets\n",
    "from sklearn.model_selection import train_test_split\n",
    "# train test split for clean text\n",
    "X_train_clean_text, X_val_clean_text, y_train_clean_text, y_val_clean_text = train_test_split(train_df_clean_text_X, \n",
    "train_df_clean_text_y,\n",
    "test_size=0.30, \n",
    "random_state=42)\n",
    "\n",
    "# Train test split for clean_text_without_stopwords = \n",
    "X_train_clean_text_without_stopwords, X_val_clean_text_without_stopwords, y_train_clean_text_without_stopwords, y_val_clean_text_without_stopwords =  train_test_split(train_df_clean_text_without_stopwords_X,\n",
    "                 train_df_clean_text_without_stopwords_y,\n",
    "                 test_size=0.30,\n",
    "                 random_state=42)"
   ]
  },
  {
   "cell_type": "code",
   "execution_count": 58,
   "id": "ce104cd0",
   "metadata": {},
   "outputs": [
    {
     "name": "stdout",
     "output_type": "stream",
     "text": [
      "X_train_clean_text.shape - (70000, 2)\n",
      "X_val_clean_text.shape - (30000, 2)\n",
      "y_train_clean_text.shape - (70000, 1)\n",
      "y_val_clean_text.shape - (30000, 1)\n"
     ]
    }
   ],
   "source": [
    "print(f\"X_train_clean_text.shape - {X_train_clean_text.shape}\")\n",
    "print(f\"X_val_clean_text.shape - {X_val_clean_text.shape}\")\n",
    "print(f\"y_train_clean_text.shape - {y_train_clean_text.shape}\")\n",
    "print(f\"y_val_clean_text.shape - {y_val_clean_text.shape}\")"
   ]
  },
  {
   "cell_type": "code",
   "execution_count": 59,
   "id": "e9bd54b3",
   "metadata": {},
   "outputs": [
    {
     "name": "stdout",
     "output_type": "stream",
     "text": [
      "X_train_clean_text_without_stopwords.shape - (70000, 2)\n",
      "X_val_clean_text_without_stopwords.shape - (30000, 2)\n",
      "y_train_clean_text_without_stopwords.shape - (70000, 1)\n",
      "y_val_clean_text_without_stopwords.shape - (30000, 1)\n"
     ]
    }
   ],
   "source": [
    "print(f\"X_train_clean_text_without_stopwords.shape - {X_train_clean_text_without_stopwords.shape}\")\n",
    "print(f\"X_val_clean_text_without_stopwords.shape - {X_val_clean_text_without_stopwords.shape}\")\n",
    "print(f\"y_train_clean_text_without_stopwords.shape - {y_train_clean_text_without_stopwords.shape}\")\n",
    "print(f\"y_val_clean_text_without_stopwords.shape - {y_val_clean_text_without_stopwords.shape}\")"
   ]
  },
  {
   "cell_type": "markdown",
   "id": "8b2ce3de",
   "metadata": {},
   "source": [
    "It is important to do train validation split before we apply model building to avoid data leakage. "
   ]
  },
  {
   "cell_type": "markdown",
   "id": "93ec4ce6",
   "metadata": {},
   "source": [
    "# Bag of Words for clean_text"
   ]
  },
  {
   "cell_type": "code",
   "execution_count": 60,
   "id": "64c841df",
   "metadata": {},
   "outputs": [],
   "source": [
    "# Let us use Bag of Words to understand if we can predict the sentiment\n",
    "from sklearn.feature_extraction.text import CountVectorizer\n",
    "cv_default = CountVectorizer()\n",
    "cv_default_clean_text = cv_default.fit_transform(X_train_clean_text['clean_text'])"
   ]
  },
  {
   "cell_type": "code",
   "execution_count": 61,
   "id": "6d62ff75",
   "metadata": {},
   "outputs": [
    {
     "data": {
      "text/plain": [
       "(70000, 135202)"
      ]
     },
     "execution_count": 61,
     "metadata": {},
     "output_type": "execute_result"
    }
   ],
   "source": [
    "# Let us check the shape of the cv_default_clean_text\n",
    "cv_default_clean_text.shape"
   ]
  },
  {
   "cell_type": "code",
   "execution_count": 62,
   "id": "79f3860b",
   "metadata": {},
   "outputs": [],
   "source": [
    "# This means there are 2520000 rows and 1785512 is the vocab size created by Bag of Words."
   ]
  },
  {
   "cell_type": "code",
   "execution_count": 63,
   "id": "a894dac1",
   "metadata": {},
   "outputs": [
    {
     "data": {
      "text/plain": [
       "array(['00', '000', '00000000001', '0001', '00045', '001', '001past',\n",
       "       '002', '0020955707', '0023', '0025', '002literally', '003',\n",
       "       '003mm0012', '005', '0051mm002fast', '007', '0080', '00lyrics',\n",
       "       '00s', '01', '010', '010all', '010blue', '010flying', '010i',\n",
       "       '010your', '012', '013', '0130112518', '0130944106', '0148813910',\n",
       "       '016071', '018', '01fz', '01only', '02', '020', '027', '028',\n",
       "       '029', '03', '031402', '03609na', '039', '04', '040', '040302',\n",
       "       '045', '046'], dtype=object)"
      ]
     },
     "execution_count": 63,
     "metadata": {},
     "output_type": "execute_result"
    }
   ],
   "source": [
    "# Get the names of the features\n",
    "cv_default.get_feature_names_out()[:50]"
   ]
  },
  {
   "cell_type": "code",
   "execution_count": 64,
   "id": "fad59757",
   "metadata": {},
   "outputs": [
    {
     "data": {
      "text/plain": [
       "scipy.sparse._csr.csr_matrix"
      ]
     },
     "execution_count": 64,
     "metadata": {},
     "output_type": "execute_result"
    }
   ],
   "source": [
    "# Let us check the type of each row\n",
    "type(cv_default_clean_text[0])"
   ]
  },
  {
   "cell_type": "code",
   "execution_count": 65,
   "id": "4319654b",
   "metadata": {},
   "outputs": [
    {
     "data": {
      "text/plain": [
       "'intense chemical fume the fragrance on this product is egregiously intense in fact i tried to air twenty of them out in a closed room and the air in that room over a matter of day would make you light headed and naseus dont buy them '"
      ]
     },
     "execution_count": 65,
     "metadata": {},
     "output_type": "execute_result"
    }
   ],
   "source": [
    "X_train_clean_text['clean_text'].iloc[12]"
   ]
  },
  {
   "cell_type": "code",
   "execution_count": 66,
   "id": "9737f08b",
   "metadata": {},
   "outputs": [
    {
     "data": {
      "text/plain": [
       "[array(['air', 'and', 'buy', 'chemical', 'closed', 'day', 'dont',\n",
       "        'egregiously', 'fact', 'fragrance', 'fume', 'headed', 'in',\n",
       "        'intense', 'is', 'light', 'make', 'matter', 'naseus', 'of', 'on',\n",
       "        'out', 'over', 'product', 'room', 'that', 'the', 'them', 'this',\n",
       "        'to', 'tried', 'twenty', 'would', 'you'], dtype='<U196')]"
      ]
     },
     "execution_count": 66,
     "metadata": {},
     "output_type": "execute_result"
    }
   ],
   "source": [
    "# Vocab words back from the Count Vectorizer\n",
    "cv_default.inverse_transform(np.asarray(cv_default_clean_text[12].todense()))\n"
   ]
  },
  {
   "cell_type": "code",
   "execution_count": 67,
   "id": "20033b42",
   "metadata": {},
   "outputs": [],
   "source": [
    "# Let us transform the validation set as well.\n",
    "cv_default_val_clean_text = cv_default.transform(X_val_clean_text['clean_text'])"
   ]
  },
  {
   "cell_type": "markdown",
   "id": "4dc27aee",
   "metadata": {},
   "source": [
    "Let us build the model with \n",
    "- Only clean words but which contain stop words\n",
    "- Default configuration of Count Vectorizer"
   ]
  },
  {
   "cell_type": "markdown",
   "id": "f1463521",
   "metadata": {},
   "source": [
    "# Model Building for clean_text"
   ]
  },
  {
   "cell_type": "code",
   "execution_count": 68,
   "id": "977495fa",
   "metadata": {},
   "outputs": [
    {
     "name": "stdout",
     "output_type": "stream",
     "text": [
      "clean_text_train_score = 0.9776857142857143\n",
      "clean_text_val_score = 0.8837666666666667\n"
     ]
    }
   ],
   "source": [
    "import sys\n",
    "from sklearn.linear_model import LogisticRegression\n",
    "\n",
    "\n",
    "# Flatten the target variable as Scikit learn Logistic regression requires series and not dataframe.\n",
    "y_train_clean_text_flat = y_train_clean_text['Target']\n",
    "y_val_clean_text_flat = y_val_clean_text['Target']\n",
    "\n",
    "# Create and train the logistic regression model\n",
    "logistic_regression_clean_text_1 = LogisticRegression(solver = 'liblinear',\n",
    "                                                      random_state = 42)\n",
    "logistic_regression_clean_text_1.fit(cv_default_clean_text,\n",
    "                                     y_train_clean_text_flat)\n",
    "\n",
    "# Calculate scores. This is a balanced dataset so we can directly evaluate accuracy. \n",
    "clean_text_train_score = logistic_regression_clean_text_1.score(cv_default_clean_text,\n",
    "                                                                y_train_clean_text_flat)\n",
    "clean_text_val_score = logistic_regression_clean_text_1.score(cv_default_val_clean_text,\n",
    "                                                              y_val_clean_text_flat)\n",
    "\n",
    "print(f\"clean_text_train_score = {clean_text_train_score}\")\n",
    "print(f'clean_text_val_score = {clean_text_val_score}')\n"
   ]
  },
  {
   "cell_type": "code",
   "execution_count": null,
   "id": "6b059f7d",
   "metadata": {},
   "outputs": [],
   "source": []
  },
  {
   "cell_type": "code",
   "execution_count": 69,
   "id": "7b58a698",
   "metadata": {},
   "outputs": [
    {
     "name": "stdout",
     "output_type": "stream",
     "text": [
      "Fitting 3 folds for each of 16 candidates, totalling 48 fits\n"
     ]
    },
    {
     "data": {
      "text/html": [
       "<style>#sk-container-id-1 {\n",
       "  /* Definition of color scheme common for light and dark mode */\n",
       "  --sklearn-color-text: #000;\n",
       "  --sklearn-color-text-muted: #666;\n",
       "  --sklearn-color-line: gray;\n",
       "  /* Definition of color scheme for unfitted estimators */\n",
       "  --sklearn-color-unfitted-level-0: #fff5e6;\n",
       "  --sklearn-color-unfitted-level-1: #f6e4d2;\n",
       "  --sklearn-color-unfitted-level-2: #ffe0b3;\n",
       "  --sklearn-color-unfitted-level-3: chocolate;\n",
       "  /* Definition of color scheme for fitted estimators */\n",
       "  --sklearn-color-fitted-level-0: #f0f8ff;\n",
       "  --sklearn-color-fitted-level-1: #d4ebff;\n",
       "  --sklearn-color-fitted-level-2: #b3dbfd;\n",
       "  --sklearn-color-fitted-level-3: cornflowerblue;\n",
       "\n",
       "  /* Specific color for light theme */\n",
       "  --sklearn-color-text-on-default-background: var(--sg-text-color, var(--theme-code-foreground, var(--jp-content-font-color1, black)));\n",
       "  --sklearn-color-background: var(--sg-background-color, var(--theme-background, var(--jp-layout-color0, white)));\n",
       "  --sklearn-color-border-box: var(--sg-text-color, var(--theme-code-foreground, var(--jp-content-font-color1, black)));\n",
       "  --sklearn-color-icon: #696969;\n",
       "\n",
       "  @media (prefers-color-scheme: dark) {\n",
       "    /* Redefinition of color scheme for dark theme */\n",
       "    --sklearn-color-text-on-default-background: var(--sg-text-color, var(--theme-code-foreground, var(--jp-content-font-color1, white)));\n",
       "    --sklearn-color-background: var(--sg-background-color, var(--theme-background, var(--jp-layout-color0, #111)));\n",
       "    --sklearn-color-border-box: var(--sg-text-color, var(--theme-code-foreground, var(--jp-content-font-color1, white)));\n",
       "    --sklearn-color-icon: #878787;\n",
       "  }\n",
       "}\n",
       "\n",
       "#sk-container-id-1 {\n",
       "  color: var(--sklearn-color-text);\n",
       "}\n",
       "\n",
       "#sk-container-id-1 pre {\n",
       "  padding: 0;\n",
       "}\n",
       "\n",
       "#sk-container-id-1 input.sk-hidden--visually {\n",
       "  border: 0;\n",
       "  clip: rect(1px 1px 1px 1px);\n",
       "  clip: rect(1px, 1px, 1px, 1px);\n",
       "  height: 1px;\n",
       "  margin: -1px;\n",
       "  overflow: hidden;\n",
       "  padding: 0;\n",
       "  position: absolute;\n",
       "  width: 1px;\n",
       "}\n",
       "\n",
       "#sk-container-id-1 div.sk-dashed-wrapped {\n",
       "  border: 1px dashed var(--sklearn-color-line);\n",
       "  margin: 0 0.4em 0.5em 0.4em;\n",
       "  box-sizing: border-box;\n",
       "  padding-bottom: 0.4em;\n",
       "  background-color: var(--sklearn-color-background);\n",
       "}\n",
       "\n",
       "#sk-container-id-1 div.sk-container {\n",
       "  /* jupyter's `normalize.less` sets `[hidden] { display: none; }`\n",
       "     but bootstrap.min.css set `[hidden] { display: none !important; }`\n",
       "     so we also need the `!important` here to be able to override the\n",
       "     default hidden behavior on the sphinx rendered scikit-learn.org.\n",
       "     See: https://github.com/scikit-learn/scikit-learn/issues/21755 */\n",
       "  display: inline-block !important;\n",
       "  position: relative;\n",
       "}\n",
       "\n",
       "#sk-container-id-1 div.sk-text-repr-fallback {\n",
       "  display: none;\n",
       "}\n",
       "\n",
       "div.sk-parallel-item,\n",
       "div.sk-serial,\n",
       "div.sk-item {\n",
       "  /* draw centered vertical line to link estimators */\n",
       "  background-image: linear-gradient(var(--sklearn-color-text-on-default-background), var(--sklearn-color-text-on-default-background));\n",
       "  background-size: 2px 100%;\n",
       "  background-repeat: no-repeat;\n",
       "  background-position: center center;\n",
       "}\n",
       "\n",
       "/* Parallel-specific style estimator block */\n",
       "\n",
       "#sk-container-id-1 div.sk-parallel-item::after {\n",
       "  content: \"\";\n",
       "  width: 100%;\n",
       "  border-bottom: 2px solid var(--sklearn-color-text-on-default-background);\n",
       "  flex-grow: 1;\n",
       "}\n",
       "\n",
       "#sk-container-id-1 div.sk-parallel {\n",
       "  display: flex;\n",
       "  align-items: stretch;\n",
       "  justify-content: center;\n",
       "  background-color: var(--sklearn-color-background);\n",
       "  position: relative;\n",
       "}\n",
       "\n",
       "#sk-container-id-1 div.sk-parallel-item {\n",
       "  display: flex;\n",
       "  flex-direction: column;\n",
       "}\n",
       "\n",
       "#sk-container-id-1 div.sk-parallel-item:first-child::after {\n",
       "  align-self: flex-end;\n",
       "  width: 50%;\n",
       "}\n",
       "\n",
       "#sk-container-id-1 div.sk-parallel-item:last-child::after {\n",
       "  align-self: flex-start;\n",
       "  width: 50%;\n",
       "}\n",
       "\n",
       "#sk-container-id-1 div.sk-parallel-item:only-child::after {\n",
       "  width: 0;\n",
       "}\n",
       "\n",
       "/* Serial-specific style estimator block */\n",
       "\n",
       "#sk-container-id-1 div.sk-serial {\n",
       "  display: flex;\n",
       "  flex-direction: column;\n",
       "  align-items: center;\n",
       "  background-color: var(--sklearn-color-background);\n",
       "  padding-right: 1em;\n",
       "  padding-left: 1em;\n",
       "}\n",
       "\n",
       "\n",
       "/* Toggleable style: style used for estimator/Pipeline/ColumnTransformer box that is\n",
       "clickable and can be expanded/collapsed.\n",
       "- Pipeline and ColumnTransformer use this feature and define the default style\n",
       "- Estimators will overwrite some part of the style using the `sk-estimator` class\n",
       "*/\n",
       "\n",
       "/* Pipeline and ColumnTransformer style (default) */\n",
       "\n",
       "#sk-container-id-1 div.sk-toggleable {\n",
       "  /* Default theme specific background. It is overwritten whether we have a\n",
       "  specific estimator or a Pipeline/ColumnTransformer */\n",
       "  background-color: var(--sklearn-color-background);\n",
       "}\n",
       "\n",
       "/* Toggleable label */\n",
       "#sk-container-id-1 label.sk-toggleable__label {\n",
       "  cursor: pointer;\n",
       "  display: flex;\n",
       "  width: 100%;\n",
       "  margin-bottom: 0;\n",
       "  padding: 0.5em;\n",
       "  box-sizing: border-box;\n",
       "  text-align: center;\n",
       "  align-items: start;\n",
       "  justify-content: space-between;\n",
       "  gap: 0.5em;\n",
       "}\n",
       "\n",
       "#sk-container-id-1 label.sk-toggleable__label .caption {\n",
       "  font-size: 0.6rem;\n",
       "  font-weight: lighter;\n",
       "  color: var(--sklearn-color-text-muted);\n",
       "}\n",
       "\n",
       "#sk-container-id-1 label.sk-toggleable__label-arrow:before {\n",
       "  /* Arrow on the left of the label */\n",
       "  content: \"▸\";\n",
       "  float: left;\n",
       "  margin-right: 0.25em;\n",
       "  color: var(--sklearn-color-icon);\n",
       "}\n",
       "\n",
       "#sk-container-id-1 label.sk-toggleable__label-arrow:hover:before {\n",
       "  color: var(--sklearn-color-text);\n",
       "}\n",
       "\n",
       "/* Toggleable content - dropdown */\n",
       "\n",
       "#sk-container-id-1 div.sk-toggleable__content {\n",
       "  display: none;\n",
       "  text-align: left;\n",
       "  /* unfitted */\n",
       "  background-color: var(--sklearn-color-unfitted-level-0);\n",
       "}\n",
       "\n",
       "#sk-container-id-1 div.sk-toggleable__content.fitted {\n",
       "  /* fitted */\n",
       "  background-color: var(--sklearn-color-fitted-level-0);\n",
       "}\n",
       "\n",
       "#sk-container-id-1 div.sk-toggleable__content pre {\n",
       "  margin: 0.2em;\n",
       "  border-radius: 0.25em;\n",
       "  color: var(--sklearn-color-text);\n",
       "  /* unfitted */\n",
       "  background-color: var(--sklearn-color-unfitted-level-0);\n",
       "}\n",
       "\n",
       "#sk-container-id-1 div.sk-toggleable__content.fitted pre {\n",
       "  /* unfitted */\n",
       "  background-color: var(--sklearn-color-fitted-level-0);\n",
       "}\n",
       "\n",
       "#sk-container-id-1 input.sk-toggleable__control:checked~div.sk-toggleable__content {\n",
       "  /* Expand drop-down */\n",
       "  display: block;\n",
       "  width: 100%;\n",
       "  overflow: visible;\n",
       "}\n",
       "\n",
       "#sk-container-id-1 input.sk-toggleable__control:checked~label.sk-toggleable__label-arrow:before {\n",
       "  content: \"▾\";\n",
       "}\n",
       "\n",
       "/* Pipeline/ColumnTransformer-specific style */\n",
       "\n",
       "#sk-container-id-1 div.sk-label input.sk-toggleable__control:checked~label.sk-toggleable__label {\n",
       "  color: var(--sklearn-color-text);\n",
       "  background-color: var(--sklearn-color-unfitted-level-2);\n",
       "}\n",
       "\n",
       "#sk-container-id-1 div.sk-label.fitted input.sk-toggleable__control:checked~label.sk-toggleable__label {\n",
       "  background-color: var(--sklearn-color-fitted-level-2);\n",
       "}\n",
       "\n",
       "/* Estimator-specific style */\n",
       "\n",
       "/* Colorize estimator box */\n",
       "#sk-container-id-1 div.sk-estimator input.sk-toggleable__control:checked~label.sk-toggleable__label {\n",
       "  /* unfitted */\n",
       "  background-color: var(--sklearn-color-unfitted-level-2);\n",
       "}\n",
       "\n",
       "#sk-container-id-1 div.sk-estimator.fitted input.sk-toggleable__control:checked~label.sk-toggleable__label {\n",
       "  /* fitted */\n",
       "  background-color: var(--sklearn-color-fitted-level-2);\n",
       "}\n",
       "\n",
       "#sk-container-id-1 div.sk-label label.sk-toggleable__label,\n",
       "#sk-container-id-1 div.sk-label label {\n",
       "  /* The background is the default theme color */\n",
       "  color: var(--sklearn-color-text-on-default-background);\n",
       "}\n",
       "\n",
       "/* On hover, darken the color of the background */\n",
       "#sk-container-id-1 div.sk-label:hover label.sk-toggleable__label {\n",
       "  color: var(--sklearn-color-text);\n",
       "  background-color: var(--sklearn-color-unfitted-level-2);\n",
       "}\n",
       "\n",
       "/* Label box, darken color on hover, fitted */\n",
       "#sk-container-id-1 div.sk-label.fitted:hover label.sk-toggleable__label.fitted {\n",
       "  color: var(--sklearn-color-text);\n",
       "  background-color: var(--sklearn-color-fitted-level-2);\n",
       "}\n",
       "\n",
       "/* Estimator label */\n",
       "\n",
       "#sk-container-id-1 div.sk-label label {\n",
       "  font-family: monospace;\n",
       "  font-weight: bold;\n",
       "  display: inline-block;\n",
       "  line-height: 1.2em;\n",
       "}\n",
       "\n",
       "#sk-container-id-1 div.sk-label-container {\n",
       "  text-align: center;\n",
       "}\n",
       "\n",
       "/* Estimator-specific */\n",
       "#sk-container-id-1 div.sk-estimator {\n",
       "  font-family: monospace;\n",
       "  border: 1px dotted var(--sklearn-color-border-box);\n",
       "  border-radius: 0.25em;\n",
       "  box-sizing: border-box;\n",
       "  margin-bottom: 0.5em;\n",
       "  /* unfitted */\n",
       "  background-color: var(--sklearn-color-unfitted-level-0);\n",
       "}\n",
       "\n",
       "#sk-container-id-1 div.sk-estimator.fitted {\n",
       "  /* fitted */\n",
       "  background-color: var(--sklearn-color-fitted-level-0);\n",
       "}\n",
       "\n",
       "/* on hover */\n",
       "#sk-container-id-1 div.sk-estimator:hover {\n",
       "  /* unfitted */\n",
       "  background-color: var(--sklearn-color-unfitted-level-2);\n",
       "}\n",
       "\n",
       "#sk-container-id-1 div.sk-estimator.fitted:hover {\n",
       "  /* fitted */\n",
       "  background-color: var(--sklearn-color-fitted-level-2);\n",
       "}\n",
       "\n",
       "/* Specification for estimator info (e.g. \"i\" and \"?\") */\n",
       "\n",
       "/* Common style for \"i\" and \"?\" */\n",
       "\n",
       ".sk-estimator-doc-link,\n",
       "a:link.sk-estimator-doc-link,\n",
       "a:visited.sk-estimator-doc-link {\n",
       "  float: right;\n",
       "  font-size: smaller;\n",
       "  line-height: 1em;\n",
       "  font-family: monospace;\n",
       "  background-color: var(--sklearn-color-background);\n",
       "  border-radius: 1em;\n",
       "  height: 1em;\n",
       "  width: 1em;\n",
       "  text-decoration: none !important;\n",
       "  margin-left: 0.5em;\n",
       "  text-align: center;\n",
       "  /* unfitted */\n",
       "  border: var(--sklearn-color-unfitted-level-1) 1pt solid;\n",
       "  color: var(--sklearn-color-unfitted-level-1);\n",
       "}\n",
       "\n",
       ".sk-estimator-doc-link.fitted,\n",
       "a:link.sk-estimator-doc-link.fitted,\n",
       "a:visited.sk-estimator-doc-link.fitted {\n",
       "  /* fitted */\n",
       "  border: var(--sklearn-color-fitted-level-1) 1pt solid;\n",
       "  color: var(--sklearn-color-fitted-level-1);\n",
       "}\n",
       "\n",
       "/* On hover */\n",
       "div.sk-estimator:hover .sk-estimator-doc-link:hover,\n",
       ".sk-estimator-doc-link:hover,\n",
       "div.sk-label-container:hover .sk-estimator-doc-link:hover,\n",
       ".sk-estimator-doc-link:hover {\n",
       "  /* unfitted */\n",
       "  background-color: var(--sklearn-color-unfitted-level-3);\n",
       "  color: var(--sklearn-color-background);\n",
       "  text-decoration: none;\n",
       "}\n",
       "\n",
       "div.sk-estimator.fitted:hover .sk-estimator-doc-link.fitted:hover,\n",
       ".sk-estimator-doc-link.fitted:hover,\n",
       "div.sk-label-container:hover .sk-estimator-doc-link.fitted:hover,\n",
       ".sk-estimator-doc-link.fitted:hover {\n",
       "  /* fitted */\n",
       "  background-color: var(--sklearn-color-fitted-level-3);\n",
       "  color: var(--sklearn-color-background);\n",
       "  text-decoration: none;\n",
       "}\n",
       "\n",
       "/* Span, style for the box shown on hovering the info icon */\n",
       ".sk-estimator-doc-link span {\n",
       "  display: none;\n",
       "  z-index: 9999;\n",
       "  position: relative;\n",
       "  font-weight: normal;\n",
       "  right: .2ex;\n",
       "  padding: .5ex;\n",
       "  margin: .5ex;\n",
       "  width: min-content;\n",
       "  min-width: 20ex;\n",
       "  max-width: 50ex;\n",
       "  color: var(--sklearn-color-text);\n",
       "  box-shadow: 2pt 2pt 4pt #999;\n",
       "  /* unfitted */\n",
       "  background: var(--sklearn-color-unfitted-level-0);\n",
       "  border: .5pt solid var(--sklearn-color-unfitted-level-3);\n",
       "}\n",
       "\n",
       ".sk-estimator-doc-link.fitted span {\n",
       "  /* fitted */\n",
       "  background: var(--sklearn-color-fitted-level-0);\n",
       "  border: var(--sklearn-color-fitted-level-3);\n",
       "}\n",
       "\n",
       ".sk-estimator-doc-link:hover span {\n",
       "  display: block;\n",
       "}\n",
       "\n",
       "/* \"?\"-specific style due to the `<a>` HTML tag */\n",
       "\n",
       "#sk-container-id-1 a.estimator_doc_link {\n",
       "  float: right;\n",
       "  font-size: 1rem;\n",
       "  line-height: 1em;\n",
       "  font-family: monospace;\n",
       "  background-color: var(--sklearn-color-background);\n",
       "  border-radius: 1rem;\n",
       "  height: 1rem;\n",
       "  width: 1rem;\n",
       "  text-decoration: none;\n",
       "  /* unfitted */\n",
       "  color: var(--sklearn-color-unfitted-level-1);\n",
       "  border: var(--sklearn-color-unfitted-level-1) 1pt solid;\n",
       "}\n",
       "\n",
       "#sk-container-id-1 a.estimator_doc_link.fitted {\n",
       "  /* fitted */\n",
       "  border: var(--sklearn-color-fitted-level-1) 1pt solid;\n",
       "  color: var(--sklearn-color-fitted-level-1);\n",
       "}\n",
       "\n",
       "/* On hover */\n",
       "#sk-container-id-1 a.estimator_doc_link:hover {\n",
       "  /* unfitted */\n",
       "  background-color: var(--sklearn-color-unfitted-level-3);\n",
       "  color: var(--sklearn-color-background);\n",
       "  text-decoration: none;\n",
       "}\n",
       "\n",
       "#sk-container-id-1 a.estimator_doc_link.fitted:hover {\n",
       "  /* fitted */\n",
       "  background-color: var(--sklearn-color-fitted-level-3);\n",
       "}\n",
       "\n",
       ".estimator-table summary {\n",
       "    padding: .5rem;\n",
       "    font-family: monospace;\n",
       "    cursor: pointer;\n",
       "}\n",
       "\n",
       ".estimator-table details[open] {\n",
       "    padding-left: 0.1rem;\n",
       "    padding-right: 0.1rem;\n",
       "    padding-bottom: 0.3rem;\n",
       "}\n",
       "\n",
       ".estimator-table .parameters-table {\n",
       "    margin-left: auto !important;\n",
       "    margin-right: auto !important;\n",
       "}\n",
       "\n",
       ".estimator-table .parameters-table tr:nth-child(odd) {\n",
       "    background-color: #fff;\n",
       "}\n",
       "\n",
       ".estimator-table .parameters-table tr:nth-child(even) {\n",
       "    background-color: #f6f6f6;\n",
       "}\n",
       "\n",
       ".estimator-table .parameters-table tr:hover {\n",
       "    background-color: #e0e0e0;\n",
       "}\n",
       "\n",
       ".estimator-table table td {\n",
       "    border: 1px solid rgba(106, 105, 104, 0.232);\n",
       "}\n",
       "\n",
       ".user-set td {\n",
       "    color:rgb(255, 94, 0);\n",
       "    text-align: left;\n",
       "}\n",
       "\n",
       ".user-set td.value pre {\n",
       "    color:rgb(255, 94, 0) !important;\n",
       "    background-color: transparent !important;\n",
       "}\n",
       "\n",
       ".default td {\n",
       "    color: black;\n",
       "    text-align: left;\n",
       "}\n",
       "\n",
       ".user-set td i,\n",
       ".default td i {\n",
       "    color: black;\n",
       "}\n",
       "\n",
       ".copy-paste-icon {\n",
       "    background-image: url(data:image/svg+xml;base64,PHN2ZyB4bWxucz0iaHR0cDovL3d3dy53My5vcmcvMjAwMC9zdmciIHZpZXdCb3g9IjAgMCA0NDggNTEyIj48IS0tIUZvbnQgQXdlc29tZSBGcmVlIDYuNy4yIGJ5IEBmb250YXdlc29tZSAtIGh0dHBzOi8vZm9udGF3ZXNvbWUuY29tIExpY2Vuc2UgLSBodHRwczovL2ZvbnRhd2Vzb21lLmNvbS9saWNlbnNlL2ZyZWUgQ29weXJpZ2h0IDIwMjUgRm9udGljb25zLCBJbmMuLS0+PHBhdGggZD0iTTIwOCAwTDMzMi4xIDBjMTIuNyAwIDI0LjkgNS4xIDMzLjkgMTQuMWw2Ny45IDY3LjljOSA5IDE0LjEgMjEuMiAxNC4xIDMzLjlMNDQ4IDMzNmMwIDI2LjUtMjEuNSA0OC00OCA0OGwtMTkyIDBjLTI2LjUgMC00OC0yMS41LTQ4LTQ4bDAtMjg4YzAtMjYuNSAyMS41LTQ4IDQ4LTQ4ek00OCAxMjhsODAgMCAwIDY0LTY0IDAgMCAyNTYgMTkyIDAgMC0zMiA2NCAwIDAgNDhjMCAyNi41LTIxLjUgNDgtNDggNDhMNDggNTEyYy0yNi41IDAtNDgtMjEuNS00OC00OEwwIDE3NmMwLTI2LjUgMjEuNS00OCA0OC00OHoiLz48L3N2Zz4=);\n",
       "    background-repeat: no-repeat;\n",
       "    background-size: 14px 14px;\n",
       "    background-position: 0;\n",
       "    display: inline-block;\n",
       "    width: 14px;\n",
       "    height: 14px;\n",
       "    cursor: pointer;\n",
       "}\n",
       "</style><body><div id=\"sk-container-id-1\" class=\"sk-top-container\"><div class=\"sk-text-repr-fallback\"><pre>GridSearchCV(cv=3,\n",
       "             estimator=Pipeline(steps=[(&#x27;preprocessor&#x27;,\n",
       "                                        ColumnTransformer(transformers=[(&#x27;text_features&#x27;,\n",
       "                                                                         CountVectorizer(),\n",
       "                                                                         &#x27;clean_text&#x27;),\n",
       "                                                                        (&#x27;numerical_features&#x27;,\n",
       "                                                                         StandardScaler(),\n",
       "                                                                         [&#x27;total_words_clean_text&#x27;])])),\n",
       "                                       (&#x27;classifier&#x27;,\n",
       "                                        LogisticRegression(random_state=42,\n",
       "                                                           solver=&#x27;liblinear&#x27;))]),\n",
       "             n_jobs=-1,\n",
       "             param_grid={&#x27;classifier__C&#x27;: [0.1, 1.0],\n",
       "                         &#x27;classifier__penalty&#x27;: [&#x27;l1&#x27;, &#x27;l2&#x27;],\n",
       "                         &#x27;preprocessor__text_features__max_features&#x27;: [None,\n",
       "                                                                       10000],\n",
       "                         &#x27;preprocessor__text_features__ngram_range&#x27;: [(1, 1),\n",
       "                                                                      (1, 3)]},\n",
       "             verbose=1)</pre><b>In a Jupyter environment, please rerun this cell to show the HTML representation or trust the notebook. <br />On GitHub, the HTML representation is unable to render, please try loading this page with nbviewer.org.</b></div><div class=\"sk-container\" hidden><div class=\"sk-item sk-dashed-wrapped\"><div class=\"sk-label-container\"><div class=\"sk-label fitted sk-toggleable\"><input class=\"sk-toggleable__control sk-hidden--visually\" id=\"sk-estimator-id-1\" type=\"checkbox\" ><label for=\"sk-estimator-id-1\" class=\"sk-toggleable__label fitted sk-toggleable__label-arrow\"><div><div>GridSearchCV</div></div><div><a class=\"sk-estimator-doc-link fitted\" rel=\"noreferrer\" target=\"_blank\" href=\"https://scikit-learn.org/1.7/modules/generated/sklearn.model_selection.GridSearchCV.html\">?<span>Documentation for GridSearchCV</span></a><span class=\"sk-estimator-doc-link fitted\">i<span>Fitted</span></span></div></label><div class=\"sk-toggleable__content fitted\" data-param-prefix=\"\">\n",
       "        <div class=\"estimator-table\">\n",
       "            <details>\n",
       "                <summary>Parameters</summary>\n",
       "                <table class=\"parameters-table\">\n",
       "                  <tbody>\n",
       "                    \n",
       "        <tr class=\"user-set\">\n",
       "            <td><i class=\"copy-paste-icon\"\n",
       "                 onclick=\"copyToClipboard('estimator',\n",
       "                          this.parentElement.nextElementSibling)\"\n",
       "            ></i></td>\n",
       "            <td class=\"param\">estimator&nbsp;</td>\n",
       "            <td class=\"value\">Pipeline(step...liblinear&#x27;))])</td>\n",
       "        </tr>\n",
       "    \n",
       "\n",
       "        <tr class=\"user-set\">\n",
       "            <td><i class=\"copy-paste-icon\"\n",
       "                 onclick=\"copyToClipboard('param_grid',\n",
       "                          this.parentElement.nextElementSibling)\"\n",
       "            ></i></td>\n",
       "            <td class=\"param\">param_grid&nbsp;</td>\n",
       "            <td class=\"value\">{&#x27;classifier__C&#x27;: [0.1, 1.0], &#x27;classifier__penalty&#x27;: [&#x27;l1&#x27;, &#x27;l2&#x27;], &#x27;preprocessor__text_features__max_features&#x27;: [None, 10000], &#x27;preprocessor__text_features__ngram_range&#x27;: [(1, ...), (1, ...)]}</td>\n",
       "        </tr>\n",
       "    \n",
       "\n",
       "        <tr class=\"default\">\n",
       "            <td><i class=\"copy-paste-icon\"\n",
       "                 onclick=\"copyToClipboard('scoring',\n",
       "                          this.parentElement.nextElementSibling)\"\n",
       "            ></i></td>\n",
       "            <td class=\"param\">scoring&nbsp;</td>\n",
       "            <td class=\"value\">None</td>\n",
       "        </tr>\n",
       "    \n",
       "\n",
       "        <tr class=\"user-set\">\n",
       "            <td><i class=\"copy-paste-icon\"\n",
       "                 onclick=\"copyToClipboard('n_jobs',\n",
       "                          this.parentElement.nextElementSibling)\"\n",
       "            ></i></td>\n",
       "            <td class=\"param\">n_jobs&nbsp;</td>\n",
       "            <td class=\"value\">-1</td>\n",
       "        </tr>\n",
       "    \n",
       "\n",
       "        <tr class=\"default\">\n",
       "            <td><i class=\"copy-paste-icon\"\n",
       "                 onclick=\"copyToClipboard('refit',\n",
       "                          this.parentElement.nextElementSibling)\"\n",
       "            ></i></td>\n",
       "            <td class=\"param\">refit&nbsp;</td>\n",
       "            <td class=\"value\">True</td>\n",
       "        </tr>\n",
       "    \n",
       "\n",
       "        <tr class=\"user-set\">\n",
       "            <td><i class=\"copy-paste-icon\"\n",
       "                 onclick=\"copyToClipboard('cv',\n",
       "                          this.parentElement.nextElementSibling)\"\n",
       "            ></i></td>\n",
       "            <td class=\"param\">cv&nbsp;</td>\n",
       "            <td class=\"value\">3</td>\n",
       "        </tr>\n",
       "    \n",
       "\n",
       "        <tr class=\"user-set\">\n",
       "            <td><i class=\"copy-paste-icon\"\n",
       "                 onclick=\"copyToClipboard('verbose',\n",
       "                          this.parentElement.nextElementSibling)\"\n",
       "            ></i></td>\n",
       "            <td class=\"param\">verbose&nbsp;</td>\n",
       "            <td class=\"value\">1</td>\n",
       "        </tr>\n",
       "    \n",
       "\n",
       "        <tr class=\"default\">\n",
       "            <td><i class=\"copy-paste-icon\"\n",
       "                 onclick=\"copyToClipboard('pre_dispatch',\n",
       "                          this.parentElement.nextElementSibling)\"\n",
       "            ></i></td>\n",
       "            <td class=\"param\">pre_dispatch&nbsp;</td>\n",
       "            <td class=\"value\">&#x27;2*n_jobs&#x27;</td>\n",
       "        </tr>\n",
       "    \n",
       "\n",
       "        <tr class=\"default\">\n",
       "            <td><i class=\"copy-paste-icon\"\n",
       "                 onclick=\"copyToClipboard('error_score',\n",
       "                          this.parentElement.nextElementSibling)\"\n",
       "            ></i></td>\n",
       "            <td class=\"param\">error_score&nbsp;</td>\n",
       "            <td class=\"value\">nan</td>\n",
       "        </tr>\n",
       "    \n",
       "\n",
       "        <tr class=\"default\">\n",
       "            <td><i class=\"copy-paste-icon\"\n",
       "                 onclick=\"copyToClipboard('return_train_score',\n",
       "                          this.parentElement.nextElementSibling)\"\n",
       "            ></i></td>\n",
       "            <td class=\"param\">return_train_score&nbsp;</td>\n",
       "            <td class=\"value\">False</td>\n",
       "        </tr>\n",
       "    \n",
       "                  </tbody>\n",
       "                </table>\n",
       "            </details>\n",
       "        </div>\n",
       "    </div></div></div><div class=\"sk-parallel\"><div class=\"sk-parallel-item\"><div class=\"sk-item\"><div class=\"sk-label-container\"><div class=\"sk-label fitted sk-toggleable\"><input class=\"sk-toggleable__control sk-hidden--visually\" id=\"sk-estimator-id-2\" type=\"checkbox\" ><label for=\"sk-estimator-id-2\" class=\"sk-toggleable__label fitted sk-toggleable__label-arrow\"><div><div>best_estimator_: Pipeline</div></div></label><div class=\"sk-toggleable__content fitted\" data-param-prefix=\"best_estimator___\"></div></div><div class=\"sk-serial\"><div class=\"sk-item\"><div class=\"sk-serial\"><div class=\"sk-item sk-dashed-wrapped\"><div class=\"sk-label-container\"><div class=\"sk-label fitted sk-toggleable\"><input class=\"sk-toggleable__control sk-hidden--visually\" id=\"sk-estimator-id-3\" type=\"checkbox\" ><label for=\"sk-estimator-id-3\" class=\"sk-toggleable__label fitted sk-toggleable__label-arrow\"><div><div>preprocessor: ColumnTransformer</div></div><div><a class=\"sk-estimator-doc-link fitted\" rel=\"noreferrer\" target=\"_blank\" href=\"https://scikit-learn.org/1.7/modules/generated/sklearn.compose.ColumnTransformer.html\">?<span>Documentation for preprocessor: ColumnTransformer</span></a></div></label><div class=\"sk-toggleable__content fitted\" data-param-prefix=\"best_estimator___preprocessor__\">\n",
       "        <div class=\"estimator-table\">\n",
       "            <details>\n",
       "                <summary>Parameters</summary>\n",
       "                <table class=\"parameters-table\">\n",
       "                  <tbody>\n",
       "                    \n",
       "        <tr class=\"user-set\">\n",
       "            <td><i class=\"copy-paste-icon\"\n",
       "                 onclick=\"copyToClipboard('transformers',\n",
       "                          this.parentElement.nextElementSibling)\"\n",
       "            ></i></td>\n",
       "            <td class=\"param\">transformers&nbsp;</td>\n",
       "            <td class=\"value\">[(&#x27;text_features&#x27;, ...), (&#x27;numerical_features&#x27;, ...)]</td>\n",
       "        </tr>\n",
       "    \n",
       "\n",
       "        <tr class=\"default\">\n",
       "            <td><i class=\"copy-paste-icon\"\n",
       "                 onclick=\"copyToClipboard('remainder',\n",
       "                          this.parentElement.nextElementSibling)\"\n",
       "            ></i></td>\n",
       "            <td class=\"param\">remainder&nbsp;</td>\n",
       "            <td class=\"value\">&#x27;drop&#x27;</td>\n",
       "        </tr>\n",
       "    \n",
       "\n",
       "        <tr class=\"default\">\n",
       "            <td><i class=\"copy-paste-icon\"\n",
       "                 onclick=\"copyToClipboard('sparse_threshold',\n",
       "                          this.parentElement.nextElementSibling)\"\n",
       "            ></i></td>\n",
       "            <td class=\"param\">sparse_threshold&nbsp;</td>\n",
       "            <td class=\"value\">0.3</td>\n",
       "        </tr>\n",
       "    \n",
       "\n",
       "        <tr class=\"default\">\n",
       "            <td><i class=\"copy-paste-icon\"\n",
       "                 onclick=\"copyToClipboard('n_jobs',\n",
       "                          this.parentElement.nextElementSibling)\"\n",
       "            ></i></td>\n",
       "            <td class=\"param\">n_jobs&nbsp;</td>\n",
       "            <td class=\"value\">None</td>\n",
       "        </tr>\n",
       "    \n",
       "\n",
       "        <tr class=\"default\">\n",
       "            <td><i class=\"copy-paste-icon\"\n",
       "                 onclick=\"copyToClipboard('transformer_weights',\n",
       "                          this.parentElement.nextElementSibling)\"\n",
       "            ></i></td>\n",
       "            <td class=\"param\">transformer_weights&nbsp;</td>\n",
       "            <td class=\"value\">None</td>\n",
       "        </tr>\n",
       "    \n",
       "\n",
       "        <tr class=\"default\">\n",
       "            <td><i class=\"copy-paste-icon\"\n",
       "                 onclick=\"copyToClipboard('verbose',\n",
       "                          this.parentElement.nextElementSibling)\"\n",
       "            ></i></td>\n",
       "            <td class=\"param\">verbose&nbsp;</td>\n",
       "            <td class=\"value\">False</td>\n",
       "        </tr>\n",
       "    \n",
       "\n",
       "        <tr class=\"default\">\n",
       "            <td><i class=\"copy-paste-icon\"\n",
       "                 onclick=\"copyToClipboard('verbose_feature_names_out',\n",
       "                          this.parentElement.nextElementSibling)\"\n",
       "            ></i></td>\n",
       "            <td class=\"param\">verbose_feature_names_out&nbsp;</td>\n",
       "            <td class=\"value\">True</td>\n",
       "        </tr>\n",
       "    \n",
       "\n",
       "        <tr class=\"default\">\n",
       "            <td><i class=\"copy-paste-icon\"\n",
       "                 onclick=\"copyToClipboard('force_int_remainder_cols',\n",
       "                          this.parentElement.nextElementSibling)\"\n",
       "            ></i></td>\n",
       "            <td class=\"param\">force_int_remainder_cols&nbsp;</td>\n",
       "            <td class=\"value\">&#x27;deprecated&#x27;</td>\n",
       "        </tr>\n",
       "    \n",
       "                  </tbody>\n",
       "                </table>\n",
       "            </details>\n",
       "        </div>\n",
       "    </div></div></div><div class=\"sk-parallel\"><div class=\"sk-parallel-item\"><div class=\"sk-item\"><div class=\"sk-label-container\"><div class=\"sk-label fitted sk-toggleable\"><input class=\"sk-toggleable__control sk-hidden--visually\" id=\"sk-estimator-id-4\" type=\"checkbox\" ><label for=\"sk-estimator-id-4\" class=\"sk-toggleable__label fitted sk-toggleable__label-arrow\"><div><div>text_features</div></div></label><div class=\"sk-toggleable__content fitted\" data-param-prefix=\"best_estimator___preprocessor__text_features__\"><pre>clean_text</pre></div></div></div><div class=\"sk-serial\"><div class=\"sk-item\"><div class=\"sk-estimator fitted sk-toggleable\"><input class=\"sk-toggleable__control sk-hidden--visually\" id=\"sk-estimator-id-5\" type=\"checkbox\" ><label for=\"sk-estimator-id-5\" class=\"sk-toggleable__label fitted sk-toggleable__label-arrow\"><div><div>CountVectorizer</div></div><div><a class=\"sk-estimator-doc-link fitted\" rel=\"noreferrer\" target=\"_blank\" href=\"https://scikit-learn.org/1.7/modules/generated/sklearn.feature_extraction.text.CountVectorizer.html\">?<span>Documentation for CountVectorizer</span></a></div></label><div class=\"sk-toggleable__content fitted\" data-param-prefix=\"best_estimator___preprocessor__text_features__\">\n",
       "        <div class=\"estimator-table\">\n",
       "            <details>\n",
       "                <summary>Parameters</summary>\n",
       "                <table class=\"parameters-table\">\n",
       "                  <tbody>\n",
       "                    \n",
       "        <tr class=\"default\">\n",
       "            <td><i class=\"copy-paste-icon\"\n",
       "                 onclick=\"copyToClipboard('input',\n",
       "                          this.parentElement.nextElementSibling)\"\n",
       "            ></i></td>\n",
       "            <td class=\"param\">input&nbsp;</td>\n",
       "            <td class=\"value\">&#x27;content&#x27;</td>\n",
       "        </tr>\n",
       "    \n",
       "\n",
       "        <tr class=\"default\">\n",
       "            <td><i class=\"copy-paste-icon\"\n",
       "                 onclick=\"copyToClipboard('encoding',\n",
       "                          this.parentElement.nextElementSibling)\"\n",
       "            ></i></td>\n",
       "            <td class=\"param\">encoding&nbsp;</td>\n",
       "            <td class=\"value\">&#x27;utf-8&#x27;</td>\n",
       "        </tr>\n",
       "    \n",
       "\n",
       "        <tr class=\"default\">\n",
       "            <td><i class=\"copy-paste-icon\"\n",
       "                 onclick=\"copyToClipboard('decode_error',\n",
       "                          this.parentElement.nextElementSibling)\"\n",
       "            ></i></td>\n",
       "            <td class=\"param\">decode_error&nbsp;</td>\n",
       "            <td class=\"value\">&#x27;strict&#x27;</td>\n",
       "        </tr>\n",
       "    \n",
       "\n",
       "        <tr class=\"default\">\n",
       "            <td><i class=\"copy-paste-icon\"\n",
       "                 onclick=\"copyToClipboard('strip_accents',\n",
       "                          this.parentElement.nextElementSibling)\"\n",
       "            ></i></td>\n",
       "            <td class=\"param\">strip_accents&nbsp;</td>\n",
       "            <td class=\"value\">None</td>\n",
       "        </tr>\n",
       "    \n",
       "\n",
       "        <tr class=\"default\">\n",
       "            <td><i class=\"copy-paste-icon\"\n",
       "                 onclick=\"copyToClipboard('lowercase',\n",
       "                          this.parentElement.nextElementSibling)\"\n",
       "            ></i></td>\n",
       "            <td class=\"param\">lowercase&nbsp;</td>\n",
       "            <td class=\"value\">True</td>\n",
       "        </tr>\n",
       "    \n",
       "\n",
       "        <tr class=\"default\">\n",
       "            <td><i class=\"copy-paste-icon\"\n",
       "                 onclick=\"copyToClipboard('preprocessor',\n",
       "                          this.parentElement.nextElementSibling)\"\n",
       "            ></i></td>\n",
       "            <td class=\"param\">preprocessor&nbsp;</td>\n",
       "            <td class=\"value\">None</td>\n",
       "        </tr>\n",
       "    \n",
       "\n",
       "        <tr class=\"default\">\n",
       "            <td><i class=\"copy-paste-icon\"\n",
       "                 onclick=\"copyToClipboard('tokenizer',\n",
       "                          this.parentElement.nextElementSibling)\"\n",
       "            ></i></td>\n",
       "            <td class=\"param\">tokenizer&nbsp;</td>\n",
       "            <td class=\"value\">None</td>\n",
       "        </tr>\n",
       "    \n",
       "\n",
       "        <tr class=\"default\">\n",
       "            <td><i class=\"copy-paste-icon\"\n",
       "                 onclick=\"copyToClipboard('stop_words',\n",
       "                          this.parentElement.nextElementSibling)\"\n",
       "            ></i></td>\n",
       "            <td class=\"param\">stop_words&nbsp;</td>\n",
       "            <td class=\"value\">None</td>\n",
       "        </tr>\n",
       "    \n",
       "\n",
       "        <tr class=\"default\">\n",
       "            <td><i class=\"copy-paste-icon\"\n",
       "                 onclick=\"copyToClipboard('token_pattern',\n",
       "                          this.parentElement.nextElementSibling)\"\n",
       "            ></i></td>\n",
       "            <td class=\"param\">token_pattern&nbsp;</td>\n",
       "            <td class=\"value\">&#x27;(?u)\\\\b\\\\w\\\\w+\\\\b&#x27;</td>\n",
       "        </tr>\n",
       "    \n",
       "\n",
       "        <tr class=\"user-set\">\n",
       "            <td><i class=\"copy-paste-icon\"\n",
       "                 onclick=\"copyToClipboard('ngram_range',\n",
       "                          this.parentElement.nextElementSibling)\"\n",
       "            ></i></td>\n",
       "            <td class=\"param\">ngram_range&nbsp;</td>\n",
       "            <td class=\"value\">(1, ...)</td>\n",
       "        </tr>\n",
       "    \n",
       "\n",
       "        <tr class=\"default\">\n",
       "            <td><i class=\"copy-paste-icon\"\n",
       "                 onclick=\"copyToClipboard('analyzer',\n",
       "                          this.parentElement.nextElementSibling)\"\n",
       "            ></i></td>\n",
       "            <td class=\"param\">analyzer&nbsp;</td>\n",
       "            <td class=\"value\">&#x27;word&#x27;</td>\n",
       "        </tr>\n",
       "    \n",
       "\n",
       "        <tr class=\"default\">\n",
       "            <td><i class=\"copy-paste-icon\"\n",
       "                 onclick=\"copyToClipboard('max_df',\n",
       "                          this.parentElement.nextElementSibling)\"\n",
       "            ></i></td>\n",
       "            <td class=\"param\">max_df&nbsp;</td>\n",
       "            <td class=\"value\">1.0</td>\n",
       "        </tr>\n",
       "    \n",
       "\n",
       "        <tr class=\"default\">\n",
       "            <td><i class=\"copy-paste-icon\"\n",
       "                 onclick=\"copyToClipboard('min_df',\n",
       "                          this.parentElement.nextElementSibling)\"\n",
       "            ></i></td>\n",
       "            <td class=\"param\">min_df&nbsp;</td>\n",
       "            <td class=\"value\">1</td>\n",
       "        </tr>\n",
       "    \n",
       "\n",
       "        <tr class=\"default\">\n",
       "            <td><i class=\"copy-paste-icon\"\n",
       "                 onclick=\"copyToClipboard('max_features',\n",
       "                          this.parentElement.nextElementSibling)\"\n",
       "            ></i></td>\n",
       "            <td class=\"param\">max_features&nbsp;</td>\n",
       "            <td class=\"value\">None</td>\n",
       "        </tr>\n",
       "    \n",
       "\n",
       "        <tr class=\"default\">\n",
       "            <td><i class=\"copy-paste-icon\"\n",
       "                 onclick=\"copyToClipboard('vocabulary',\n",
       "                          this.parentElement.nextElementSibling)\"\n",
       "            ></i></td>\n",
       "            <td class=\"param\">vocabulary&nbsp;</td>\n",
       "            <td class=\"value\">None</td>\n",
       "        </tr>\n",
       "    \n",
       "\n",
       "        <tr class=\"default\">\n",
       "            <td><i class=\"copy-paste-icon\"\n",
       "                 onclick=\"copyToClipboard('binary',\n",
       "                          this.parentElement.nextElementSibling)\"\n",
       "            ></i></td>\n",
       "            <td class=\"param\">binary&nbsp;</td>\n",
       "            <td class=\"value\">False</td>\n",
       "        </tr>\n",
       "    \n",
       "\n",
       "        <tr class=\"default\">\n",
       "            <td><i class=\"copy-paste-icon\"\n",
       "                 onclick=\"copyToClipboard('dtype',\n",
       "                          this.parentElement.nextElementSibling)\"\n",
       "            ></i></td>\n",
       "            <td class=\"param\">dtype&nbsp;</td>\n",
       "            <td class=\"value\">&lt;class &#x27;numpy.int64&#x27;&gt;</td>\n",
       "        </tr>\n",
       "    \n",
       "                  </tbody>\n",
       "                </table>\n",
       "            </details>\n",
       "        </div>\n",
       "    </div></div></div></div></div></div><div class=\"sk-parallel-item\"><div class=\"sk-item\"><div class=\"sk-label-container\"><div class=\"sk-label fitted sk-toggleable\"><input class=\"sk-toggleable__control sk-hidden--visually\" id=\"sk-estimator-id-6\" type=\"checkbox\" ><label for=\"sk-estimator-id-6\" class=\"sk-toggleable__label fitted sk-toggleable__label-arrow\"><div><div>numerical_features</div></div></label><div class=\"sk-toggleable__content fitted\" data-param-prefix=\"best_estimator___preprocessor__numerical_features__\"><pre>[&#x27;total_words_clean_text&#x27;]</pre></div></div></div><div class=\"sk-serial\"><div class=\"sk-item\"><div class=\"sk-estimator fitted sk-toggleable\"><input class=\"sk-toggleable__control sk-hidden--visually\" id=\"sk-estimator-id-7\" type=\"checkbox\" ><label for=\"sk-estimator-id-7\" class=\"sk-toggleable__label fitted sk-toggleable__label-arrow\"><div><div>StandardScaler</div></div><div><a class=\"sk-estimator-doc-link fitted\" rel=\"noreferrer\" target=\"_blank\" href=\"https://scikit-learn.org/1.7/modules/generated/sklearn.preprocessing.StandardScaler.html\">?<span>Documentation for StandardScaler</span></a></div></label><div class=\"sk-toggleable__content fitted\" data-param-prefix=\"best_estimator___preprocessor__numerical_features__\">\n",
       "        <div class=\"estimator-table\">\n",
       "            <details>\n",
       "                <summary>Parameters</summary>\n",
       "                <table class=\"parameters-table\">\n",
       "                  <tbody>\n",
       "                    \n",
       "        <tr class=\"default\">\n",
       "            <td><i class=\"copy-paste-icon\"\n",
       "                 onclick=\"copyToClipboard('copy',\n",
       "                          this.parentElement.nextElementSibling)\"\n",
       "            ></i></td>\n",
       "            <td class=\"param\">copy&nbsp;</td>\n",
       "            <td class=\"value\">True</td>\n",
       "        </tr>\n",
       "    \n",
       "\n",
       "        <tr class=\"default\">\n",
       "            <td><i class=\"copy-paste-icon\"\n",
       "                 onclick=\"copyToClipboard('with_mean',\n",
       "                          this.parentElement.nextElementSibling)\"\n",
       "            ></i></td>\n",
       "            <td class=\"param\">with_mean&nbsp;</td>\n",
       "            <td class=\"value\">True</td>\n",
       "        </tr>\n",
       "    \n",
       "\n",
       "        <tr class=\"default\">\n",
       "            <td><i class=\"copy-paste-icon\"\n",
       "                 onclick=\"copyToClipboard('with_std',\n",
       "                          this.parentElement.nextElementSibling)\"\n",
       "            ></i></td>\n",
       "            <td class=\"param\">with_std&nbsp;</td>\n",
       "            <td class=\"value\">True</td>\n",
       "        </tr>\n",
       "    \n",
       "                  </tbody>\n",
       "                </table>\n",
       "            </details>\n",
       "        </div>\n",
       "    </div></div></div></div></div></div></div></div><div class=\"sk-item\"><div class=\"sk-estimator fitted sk-toggleable\"><input class=\"sk-toggleable__control sk-hidden--visually\" id=\"sk-estimator-id-8\" type=\"checkbox\" ><label for=\"sk-estimator-id-8\" class=\"sk-toggleable__label fitted sk-toggleable__label-arrow\"><div><div>LogisticRegression</div></div><div><a class=\"sk-estimator-doc-link fitted\" rel=\"noreferrer\" target=\"_blank\" href=\"https://scikit-learn.org/1.7/modules/generated/sklearn.linear_model.LogisticRegression.html\">?<span>Documentation for LogisticRegression</span></a></div></label><div class=\"sk-toggleable__content fitted\" data-param-prefix=\"best_estimator___classifier__\">\n",
       "        <div class=\"estimator-table\">\n",
       "            <details>\n",
       "                <summary>Parameters</summary>\n",
       "                <table class=\"parameters-table\">\n",
       "                  <tbody>\n",
       "                    \n",
       "        <tr class=\"default\">\n",
       "            <td><i class=\"copy-paste-icon\"\n",
       "                 onclick=\"copyToClipboard('penalty',\n",
       "                          this.parentElement.nextElementSibling)\"\n",
       "            ></i></td>\n",
       "            <td class=\"param\">penalty&nbsp;</td>\n",
       "            <td class=\"value\">&#x27;l2&#x27;</td>\n",
       "        </tr>\n",
       "    \n",
       "\n",
       "        <tr class=\"default\">\n",
       "            <td><i class=\"copy-paste-icon\"\n",
       "                 onclick=\"copyToClipboard('dual',\n",
       "                          this.parentElement.nextElementSibling)\"\n",
       "            ></i></td>\n",
       "            <td class=\"param\">dual&nbsp;</td>\n",
       "            <td class=\"value\">False</td>\n",
       "        </tr>\n",
       "    \n",
       "\n",
       "        <tr class=\"default\">\n",
       "            <td><i class=\"copy-paste-icon\"\n",
       "                 onclick=\"copyToClipboard('tol',\n",
       "                          this.parentElement.nextElementSibling)\"\n",
       "            ></i></td>\n",
       "            <td class=\"param\">tol&nbsp;</td>\n",
       "            <td class=\"value\">0.0001</td>\n",
       "        </tr>\n",
       "    \n",
       "\n",
       "        <tr class=\"default\">\n",
       "            <td><i class=\"copy-paste-icon\"\n",
       "                 onclick=\"copyToClipboard('C',\n",
       "                          this.parentElement.nextElementSibling)\"\n",
       "            ></i></td>\n",
       "            <td class=\"param\">C&nbsp;</td>\n",
       "            <td class=\"value\">1.0</td>\n",
       "        </tr>\n",
       "    \n",
       "\n",
       "        <tr class=\"default\">\n",
       "            <td><i class=\"copy-paste-icon\"\n",
       "                 onclick=\"copyToClipboard('fit_intercept',\n",
       "                          this.parentElement.nextElementSibling)\"\n",
       "            ></i></td>\n",
       "            <td class=\"param\">fit_intercept&nbsp;</td>\n",
       "            <td class=\"value\">True</td>\n",
       "        </tr>\n",
       "    \n",
       "\n",
       "        <tr class=\"default\">\n",
       "            <td><i class=\"copy-paste-icon\"\n",
       "                 onclick=\"copyToClipboard('intercept_scaling',\n",
       "                          this.parentElement.nextElementSibling)\"\n",
       "            ></i></td>\n",
       "            <td class=\"param\">intercept_scaling&nbsp;</td>\n",
       "            <td class=\"value\">1</td>\n",
       "        </tr>\n",
       "    \n",
       "\n",
       "        <tr class=\"default\">\n",
       "            <td><i class=\"copy-paste-icon\"\n",
       "                 onclick=\"copyToClipboard('class_weight',\n",
       "                          this.parentElement.nextElementSibling)\"\n",
       "            ></i></td>\n",
       "            <td class=\"param\">class_weight&nbsp;</td>\n",
       "            <td class=\"value\">None</td>\n",
       "        </tr>\n",
       "    \n",
       "\n",
       "        <tr class=\"user-set\">\n",
       "            <td><i class=\"copy-paste-icon\"\n",
       "                 onclick=\"copyToClipboard('random_state',\n",
       "                          this.parentElement.nextElementSibling)\"\n",
       "            ></i></td>\n",
       "            <td class=\"param\">random_state&nbsp;</td>\n",
       "            <td class=\"value\">42</td>\n",
       "        </tr>\n",
       "    \n",
       "\n",
       "        <tr class=\"user-set\">\n",
       "            <td><i class=\"copy-paste-icon\"\n",
       "                 onclick=\"copyToClipboard('solver',\n",
       "                          this.parentElement.nextElementSibling)\"\n",
       "            ></i></td>\n",
       "            <td class=\"param\">solver&nbsp;</td>\n",
       "            <td class=\"value\">&#x27;liblinear&#x27;</td>\n",
       "        </tr>\n",
       "    \n",
       "\n",
       "        <tr class=\"default\">\n",
       "            <td><i class=\"copy-paste-icon\"\n",
       "                 onclick=\"copyToClipboard('max_iter',\n",
       "                          this.parentElement.nextElementSibling)\"\n",
       "            ></i></td>\n",
       "            <td class=\"param\">max_iter&nbsp;</td>\n",
       "            <td class=\"value\">100</td>\n",
       "        </tr>\n",
       "    \n",
       "\n",
       "        <tr class=\"default\">\n",
       "            <td><i class=\"copy-paste-icon\"\n",
       "                 onclick=\"copyToClipboard('multi_class',\n",
       "                          this.parentElement.nextElementSibling)\"\n",
       "            ></i></td>\n",
       "            <td class=\"param\">multi_class&nbsp;</td>\n",
       "            <td class=\"value\">&#x27;deprecated&#x27;</td>\n",
       "        </tr>\n",
       "    \n",
       "\n",
       "        <tr class=\"default\">\n",
       "            <td><i class=\"copy-paste-icon\"\n",
       "                 onclick=\"copyToClipboard('verbose',\n",
       "                          this.parentElement.nextElementSibling)\"\n",
       "            ></i></td>\n",
       "            <td class=\"param\">verbose&nbsp;</td>\n",
       "            <td class=\"value\">0</td>\n",
       "        </tr>\n",
       "    \n",
       "\n",
       "        <tr class=\"default\">\n",
       "            <td><i class=\"copy-paste-icon\"\n",
       "                 onclick=\"copyToClipboard('warm_start',\n",
       "                          this.parentElement.nextElementSibling)\"\n",
       "            ></i></td>\n",
       "            <td class=\"param\">warm_start&nbsp;</td>\n",
       "            <td class=\"value\">False</td>\n",
       "        </tr>\n",
       "    \n",
       "\n",
       "        <tr class=\"default\">\n",
       "            <td><i class=\"copy-paste-icon\"\n",
       "                 onclick=\"copyToClipboard('n_jobs',\n",
       "                          this.parentElement.nextElementSibling)\"\n",
       "            ></i></td>\n",
       "            <td class=\"param\">n_jobs&nbsp;</td>\n",
       "            <td class=\"value\">None</td>\n",
       "        </tr>\n",
       "    \n",
       "\n",
       "        <tr class=\"default\">\n",
       "            <td><i class=\"copy-paste-icon\"\n",
       "                 onclick=\"copyToClipboard('l1_ratio',\n",
       "                          this.parentElement.nextElementSibling)\"\n",
       "            ></i></td>\n",
       "            <td class=\"param\">l1_ratio&nbsp;</td>\n",
       "            <td class=\"value\">None</td>\n",
       "        </tr>\n",
       "    \n",
       "                  </tbody>\n",
       "                </table>\n",
       "            </details>\n",
       "        </div>\n",
       "    </div></div></div></div></div></div></div></div></div></div></div></div><script>function copyToClipboard(text, element) {\n",
       "    // Get the parameter prefix from the closest toggleable content\n",
       "    const toggleableContent = element.closest('.sk-toggleable__content');\n",
       "    const paramPrefix = toggleableContent ? toggleableContent.dataset.paramPrefix : '';\n",
       "    const fullParamName = paramPrefix ? `${paramPrefix}${text}` : text;\n",
       "\n",
       "    const originalStyle = element.style;\n",
       "    const computedStyle = window.getComputedStyle(element);\n",
       "    const originalWidth = computedStyle.width;\n",
       "    const originalHTML = element.innerHTML.replace('Copied!', '');\n",
       "\n",
       "    navigator.clipboard.writeText(fullParamName)\n",
       "        .then(() => {\n",
       "            element.style.width = originalWidth;\n",
       "            element.style.color = 'green';\n",
       "            element.innerHTML = \"Copied!\";\n",
       "\n",
       "            setTimeout(() => {\n",
       "                element.innerHTML = originalHTML;\n",
       "                element.style = originalStyle;\n",
       "            }, 2000);\n",
       "        })\n",
       "        .catch(err => {\n",
       "            console.error('Failed to copy:', err);\n",
       "            element.style.color = 'red';\n",
       "            element.innerHTML = \"Failed!\";\n",
       "            setTimeout(() => {\n",
       "                element.innerHTML = originalHTML;\n",
       "                element.style = originalStyle;\n",
       "            }, 2000);\n",
       "        });\n",
       "    return false;\n",
       "}\n",
       "\n",
       "document.querySelectorAll('.fa-regular.fa-copy').forEach(function(element) {\n",
       "    const toggleableContent = element.closest('.sk-toggleable__content');\n",
       "    const paramPrefix = toggleableContent ? toggleableContent.dataset.paramPrefix : '';\n",
       "    const paramName = element.parentElement.nextElementSibling.textContent.trim();\n",
       "    const fullParamName = paramPrefix ? `${paramPrefix}${paramName}` : paramName;\n",
       "\n",
       "    element.setAttribute('title', fullParamName);\n",
       "});\n",
       "</script></body>"
      ],
      "text/plain": [
       "GridSearchCV(cv=3,\n",
       "             estimator=Pipeline(steps=[('preprocessor',\n",
       "                                        ColumnTransformer(transformers=[('text_features',\n",
       "                                                                         CountVectorizer(),\n",
       "                                                                         'clean_text'),\n",
       "                                                                        ('numerical_features',\n",
       "                                                                         StandardScaler(),\n",
       "                                                                         ['total_words_clean_text'])])),\n",
       "                                       ('classifier',\n",
       "                                        LogisticRegression(random_state=42,\n",
       "                                                           solver='liblinear'))]),\n",
       "             n_jobs=-1,\n",
       "             param_grid={'classifier__C': [0.1, 1.0],\n",
       "                         'classifier__penalty': ['l1', 'l2'],\n",
       "                         'preprocessor__text_features__max_features': [None,\n",
       "                                                                       10000],\n",
       "                         'preprocessor__text_features__ngram_range': [(1, 1),\n",
       "                                                                      (1, 3)]},\n",
       "             verbose=1)"
      ]
     },
     "execution_count": 69,
     "metadata": {},
     "output_type": "execute_result"
    }
   ],
   "source": [
    "#############################################################################\n",
    "# USing both the features\n",
    "from sklearn.compose import ColumnTransformer\n",
    "from sklearn.preprocessing import StandardScaler\n",
    "from sklearn.pipeline import Pipeline\n",
    "from sklearn.model_selection import GridSearchCV\n",
    "preprocessor_1 = ColumnTransformer([\n",
    "    ('text_features', CountVectorizer(), 'clean_text'),\n",
    "    ('numerical_features', StandardScaler(), ['total_words_clean_text'])\n",
    "], remainder='drop')\n",
    "\n",
    "pipeline1 = Pipeline([\n",
    "    ('preprocessor', preprocessor_1),\n",
    "    ('classifier', LogisticRegression(solver = 'liblinear', random_state = 42))\n",
    "])\n",
    "\n",
    "param_grid = {\n",
    "    # Text vectorizer parameters\n",
    "    'preprocessor__text_features__max_features': [None, 10000],\n",
    "    'preprocessor__text_features__ngram_range': [(1, 1), (1, 3)],\n",
    "    # Classifier parameters\n",
    "    'classifier__C': [0.1, 1.0],\n",
    "    'classifier__penalty': ['l1', 'l2']\n",
    "}\n",
    "\n",
    "logistic_regression_gridsearchcv = GridSearchCV(\n",
    "    estimator=pipeline1,\n",
    "    param_grid=param_grid,\n",
    "    cv = 3,\n",
    "    n_jobs = -1,\n",
    "    verbose = 1\n",
    ")\n",
    "\n",
    "\n",
    "logistic_regression_gridsearchcv.fit(X_train_clean_text, y_train_clean_text_flat)"
   ]
  },
  {
   "cell_type": "code",
   "execution_count": 70,
   "id": "9070e51c",
   "metadata": {},
   "outputs": [
    {
     "name": "stdout",
     "output_type": "stream",
     "text": [
      "GRIDSEARCHCV RESULTS ANALYSIS\n",
      "==================================================\n",
      "WHAT BEST_SCORE_ MEANS:\n",
      "   Best CV Score: 0.9064\n",
      "   ↳ This is the AVERAGE accuracy across 5 folds for the BEST parameter combination\n",
      "   ↳ It's the highest cross-validation score achieved among all 54 parameter combinations\n",
      "\n",
      "WHAT BEST_PARAMS_ MEANS:\n",
      "   classifier__C: 1.0\n",
      "   classifier__penalty: l2\n",
      "   preprocessor__text_features__max_features: None\n",
      "   preprocessor__text_features__ngram_range: (1, 3)\n",
      "   ↳ These are the parameter values that achieved the best_score_\n",
      "\n",
      "WHAT BEST_INDEX_ MEANS:\n",
      "   Best Index: 13\n",
      "   ↳ This is the position (0-53) of the best combination in the search space\n",
      "\n",
      "HOW BEST_SCORE_ IS CALCULATED:\n",
      "   For the winning parameter combination:\n",
      "   1. Model trained on Fold 1 (80%) → tested on Fold 1 (20%) → Score 1\n",
      "   2. Model trained on Fold 2 (80%) → tested on Fold 2 (20%) → Score 2\n",
      "   3. Model trained on Fold 3 (80%) → tested on Fold 3 (20%) → Score 3\n",
      "   4. Model trained on Fold 4 (80%) → tested on Fold 4 (20%) → Score 4\n",
      "   5. Model trained on Fold 5 (80%) → tested on Fold 5 (20%) → Score 5\n",
      "   best_score_ = Average(Score1, Score2, Score3, Score4, Score5) = 0.9064\n",
      "\n",
      "INTERPRETATION:\n",
      "EXCELLENT performance (>90%)\n",
      "   This means on average, the model correctly classifies 90.6% of reviews\n"
     ]
    }
   ],
   "source": [
    "# 🎯 Understanding GridSearchCV Results\n",
    "print(\"GRIDSEARCHCV RESULTS ANALYSIS\")\n",
    "print(\"=\"*50)\n",
    "\n",
    "print(\"WHAT BEST_SCORE_ MEANS:\")\n",
    "print(f\"   Best CV Score: {logistic_regression_gridsearchcv.best_score_:.4f}\")\n",
    "print(\"   ↳ This is the AVERAGE accuracy across 5 folds for the BEST parameter combination\")\n",
    "print(\"   ↳ It's the highest cross-validation score achieved among all 54 parameter combinations\")\n",
    "print()\n",
    "\n",
    "print(\"WHAT BEST_PARAMS_ MEANS:\")\n",
    "best_params = logistic_regression_gridsearchcv.best_params_\n",
    "for param, value in best_params.items():\n",
    "    print(f\"   {param}: {value}\")\n",
    "print(\"   ↳ These are the parameter values that achieved the best_score_\")\n",
    "print()\n",
    "\n",
    "print(\"WHAT BEST_INDEX_ MEANS:\")\n",
    "print(f\"   Best Index: {logistic_regression_gridsearchcv.best_index_}\")\n",
    "print(\"   ↳ This is the position (0-53) of the best combination in the search space\")\n",
    "print()\n",
    "\n",
    "print(\"HOW BEST_SCORE_ IS CALCULATED:\")\n",
    "print(\"   For the winning parameter combination:\")\n",
    "print(\"   1. Model trained on Fold 1 (80%) → tested on Fold 1 (20%) → Score 1\")\n",
    "print(\"   2. Model trained on Fold 2 (80%) → tested on Fold 2 (20%) → Score 2\") \n",
    "print(\"   3. Model trained on Fold 3 (80%) → tested on Fold 3 (20%) → Score 3\")\n",
    "print(\"   4. Model trained on Fold 4 (80%) → tested on Fold 4 (20%) → Score 4\")\n",
    "print(\"   5. Model trained on Fold 5 (80%) → tested on Fold 5 (20%) → Score 5\")\n",
    "print(f\"   best_score_ = Average(Score1, Score2, Score3, Score4, Score5) = {logistic_regression_gridsearchcv.best_score_:.4f}\")\n",
    "print()\n",
    "\n",
    "print(\"INTERPRETATION:\")\n",
    "if logistic_regression_gridsearchcv.best_score_ > 0.90:\n",
    "    print(\"EXCELLENT performance (>90%)\")\n",
    "elif logistic_regression_gridsearchcv.best_score_ > 0.85:\n",
    "    print(\"VERY GOOD performance (85-90%)\")\n",
    "elif logistic_regression_gridsearchcv.best_score_ > 0.80:\n",
    "    print(\"GOOD performance (80-85%)\")\n",
    "else:\n",
    "    print(\"Could be better (<80%)\")\n",
    "\n",
    "print(f\"   This means on average, the model correctly classifies {logistic_regression_gridsearchcv.best_score_*100:.1f}% of reviews\")"
   ]
  },
  {
   "cell_type": "code",
   "execution_count": 71,
   "id": "61ed9339",
   "metadata": {},
   "outputs": [],
   "source": [
    "from sklearn.metrics import confusion_matrix, recall_score, precision_score, accuracy_score"
   ]
  },
  {
   "cell_type": "code",
   "execution_count": null,
   "id": "847b9336",
   "metadata": {},
   "outputs": [],
   "source": []
  },
  {
   "cell_type": "code",
   "execution_count": 72,
   "id": "9c85fcfd",
   "metadata": {},
   "outputs": [
    {
     "name": "stdout",
     "output_type": "stream",
     "text": [
      "\n",
      "============================================================\n",
      "FINAL MODEL EVALUATION\n",
      "============================================================\n",
      "SCORE COMPARISON:\n",
      "   Cross-Validation Score (best_score_): 0.9064\n",
      "   Validation Set Score:                  0.9148\n",
      " Recall Score Train= 1.0\n",
      " Recall Score Val= 0.9175894926603142\n",
      " Precision Score Train= 1.0\n",
      " Recall Score Val= 0.9178258629572386\n",
      " Accuracy Score Train= 1.0\n",
      " Accuracy Score Val= 0.9148\n",
      "SCORE DIFFERENCE ANALYSIS:\n",
      "   Difference: +0.0084 - EXCELLENT! Very consistent performance\n",
      "\n",
      "WHAT THIS MEANS:\n",
      "   - best_score_ = Average performance across 5 different train/val splits\n",
      "   - validation score = Performance on your specific validation set\n",
      "   - Small difference = Model generalizes well to unseen data\n",
      "   - Large negative difference = Model might be overfitting\n",
      "\n",
      "BOTTOM LINE:\n",
      "   Your model achieves ~91.5% accuracy on new, unseen data\n",
      "   This is excellent for sentiment analysis!\n"
     ]
    }
   ],
   "source": [
    "# 🔍 Model Performance Evaluation\n",
    "print(\"\\n\" + \"=\"*60)\n",
    "print(\"FINAL MODEL EVALUATION\")\n",
    "print(\"=\"*60)\n",
    "\n",
    "# Get the best model and evaluate on validation set\n",
    "best_model = logistic_regression_gridsearchcv.best_estimator_\n",
    "train_predictions = best_model.predict(X_train_clean_text)\n",
    "val_predictions = best_model.predict(X_val_clean_text)\n",
    "\n",
    "recall_score_train = recall_score(y_train_clean_text_flat,\n",
    "                                                         train_predictions)\n",
    "recall_score_val = recall_score(y_val_clean_text_flat,\n",
    "                                val_predictions)\n",
    "precision_score_train = precision_score(y_train_clean_text_flat,\n",
    "                                                         train_predictions)\n",
    "precision_score_val = precision_score(y_val_clean_text_flat,\n",
    "                                val_predictions)\n",
    "\n",
    "accuracy_score_train = accuracy_score(y_train_clean_text_flat,\n",
    "                                                         train_predictions)\n",
    "accuracy_score_val = accuracy_score(y_val_clean_text_flat,\n",
    "                                val_predictions)\n",
    "\n",
    "val_score = best_model.score(X_val_clean_text, y_val_clean_text_flat)\n",
    "\n",
    "\n",
    "print(\"SCORE COMPARISON:\")\n",
    "print(f\"   Cross-Validation Score (best_score_): {logistic_regression_gridsearchcv.best_score_:.4f}\")\n",
    "print(f\"   Validation Set Score:                  {val_score:.4f}\")\n",
    "print(f' Recall Score Train= {recall_score_train}')\n",
    "print(f' Recall Score Val= {recall_score_val}')\n",
    "print(f' Precision Score Train= {precision_score_train}')\n",
    "print(f' Recall Score Val= {precision_score_val}')\n",
    "print(f' Accuracy Score Train= {accuracy_score_train}')\n",
    "print(f' Accuracy Score Val= {accuracy_score_val}')\n",
    "\n",
    "difference = val_score - logistic_regression_gridsearchcv.best_score_\n",
    "print(\"SCORE DIFFERENCE ANALYSIS:\")\n",
    "if abs(difference) < 0.01:\n",
    "    print(f\"   Difference: {difference:+.4f} - EXCELLENT! Very consistent performance\")\n",
    "elif abs(difference) < 0.02:\n",
    "    print(f\"   Difference: {difference:+.4f} - GOOD! Reasonably consistent\")\n",
    "elif difference < -0.02:\n",
    "    print(f\"   Difference: {difference:+.4f} - Possible overfitting to CV folds\")\n",
    "else:\n",
    "    print(f\"   Difference: {difference:+.4f} - Validation set easier than CV average\")\n",
    "\n",
    "print()\n",
    "print(\"WHAT THIS MEANS:\")\n",
    "print(\"   - best_score_ = Average performance across 5 different train/val splits\")\n",
    "print(\"   - validation score = Performance on your specific validation set\")\n",
    "print(\"   - Small difference = Model generalizes well to unseen data\")\n",
    "print(\"   - Large negative difference = Model might be overfitting\")\n",
    "\n",
    "print(f\"\\nBOTTOM LINE:\")\n",
    "print(f\"   Your model achieves ~{val_score*100:.1f}% accuracy on new, unseen data\")\n",
    "print(f\"   This is {'excellent' if val_score > 0.90 else 'very good' if val_score > 0.85 else 'good' if val_score > 0.80 else 'decent'} for sentiment analysis!\")"
   ]
  },
  {
   "cell_type": "markdown",
   "id": "ec9f4df8",
   "metadata": {},
   "source": [
    "# ML Flow Implementation"
   ]
  },
  {
   "cell_type": "code",
   "execution_count": 76,
   "id": "bfa60e88",
   "metadata": {},
   "outputs": [
    {
     "ename": "ModuleNotFoundError",
     "evalue": "No module named 'dagshub'",
     "output_type": "error",
     "traceback": [
      "\u001b[31m---------------------------------------------------------------------------\u001b[39m",
      "\u001b[31mModuleNotFoundError\u001b[39m                       Traceback (most recent call last)",
      "\u001b[36mCell\u001b[39m\u001b[36m \u001b[39m\u001b[32mIn[76]\u001b[39m\u001b[32m, line 1\u001b[39m\n\u001b[32m----> \u001b[39m\u001b[32m1\u001b[39m \u001b[38;5;28;01mimport\u001b[39;00m\u001b[38;5;250m \u001b[39m\u001b[34;01mdagshub\u001b[39;00m\n",
      "\u001b[31mModuleNotFoundError\u001b[39m: No module named 'dagshub'"
     ]
    }
   ],
   "source": [
    "import dagshub"
   ]
  },
  {
   "cell_type": "code",
   "execution_count": null,
   "id": "518a17d1",
   "metadata": {},
   "outputs": [],
   "source": [
    "import mlflow\n",
    "import mlflow.sklearn\n",
    "from mlflow.tracking import MlflowClient\n",
    "import os\n",
    "import dagshub\n",
    "dagshub.init(repo_owner='Radhika5062', repo_name='all_in_one_sentiment_analysis', mlflow=True)\n"
   ]
  },
  {
   "cell_type": "code",
   "execution_count": null,
   "id": "eaef8b44",
   "metadata": {},
   "outputs": [],
   "source": []
  },
  {
   "cell_type": "code",
   "execution_count": null,
   "id": "d03d9b8c",
   "metadata": {},
   "outputs": [],
   "source": [
    "# Setup ML Flow tracking\n",
    "mlflow.set_experiment(\"Sentiment_Analysis_Amazon_Reviews_100000\")\n",
    "\n",
    "# Tracking logistic_regression_clean_text_without_stopwords_grcv\n",
    "with mlflow.start_run(run_name = 'logistic_regression_gridsearchcv') as run:\n",
    "    mlflow.log_param('model_type', 'Logistic Regression with Grid Search CV')\n",
    "    mlflow.log_param('text_peprocessing', 'clean_text')\n",
    "    mlflow.log_param('cv_folds', 3)\n",
    "    mlflow.log_param('dataset_size', len(X_train_clean_text))\n",
    "    # Text Vectorization details\n",
    "    mlflow.log_param('vocab_size', len(best_model.named_steps['preprocessor'].named_transformers_['text_features'].vocabulary_))\n",
    "    mlflow.log_param('vectorizer_type', 'CountVectorizer')\n",
    "    # Log all best hyperparameters\n",
    "    mlflow.log_param('train_test_split_ratio', '0.30')\n",
    "    mlflow.log_param('random_state', '42')\n",
    "    mlflow.log_param('solver', 'liblinear')\n",
    "    mlflow.log_param('features_used', 'text + word_count')\n",
    "    mlflow.log_params(logistic_regression_gridsearchcv.best_params_)\n",
    "    mlflow.log_metric('train_accuracy',accuracy_score_train)\n",
    "    mlflow.log_metric('train_recall', recall_score_train)\n",
    "    mlflow.log_metric('train_precision', precision_score_train )\n",
    "    mlflow.log_metric('validation_accuracy', accuracy_score_val)\n",
    "    mlflow.log_metric('validation_recall', recall_score_val)\n",
    "    mlflow.log_metric('validation_precision', precision_score_val)\n",
    "    \n",
    "\n"
   ]
  },
  {
   "cell_type": "code",
   "execution_count": null,
   "id": "e6c50bab",
   "metadata": {},
   "outputs": [],
   "source": [
    "def calculate_metrics(y_pred, y_true):\n",
    "    recallScore = recall_score(y_true, y_pred)\n",
    "    precisionScore = precision_score(y_true, y_pred)\n",
    "    accuracyScore = accuracy_score(y_true, y_pred)\n",
    "    return recallScore, precisionScore, accuracyScore\n"
   ]
  },
  {
   "cell_type": "markdown",
   "id": "c625c04d",
   "metadata": {},
   "source": [
    "# Bag of Words for clean_text_without_stopwords"
   ]
  },
  {
   "cell_type": "code",
   "execution_count": null,
   "id": "d0927110",
   "metadata": {},
   "outputs": [],
   "source": [
    "# Do the same as above but using pipeline and we are going to use the total words feature as well\n",
    "y_train_clean_text_without_stopwords_flat = y_train_clean_text_without_stopwords['Target']\n",
    "preprocessor_2 = ColumnTransformer(\n",
    "    [\n",
    "        ('text_features', CountVectorizer(), 'clean_text_without_stopwords'),\n",
    "        ('numerical_features', StandardScaler(), ['total_words_clean_text_without_stopwords'])\n",
    "    ], remainder ='drop'\n",
    ")\n",
    "\n",
    "pipeline_2 = Pipeline(\n",
    "    [\n",
    "        ('preprocessor', preprocessor_2),\n",
    "        ('classifier', LogisticRegression(solver = 'liblinear', random_state=42))\n",
    "    ]\n",
    ")\n",
    "\n",
    "logistic_regression_clean_text_without_stopwords_grcv = GridSearchCV(estimator = pipeline_2\n",
    "                                                                     , param_grid = param_grid\n",
    "                                                                     , cv = 3\n",
    "                                                                     , n_jobs = -1\n",
    "                                                                     , verbose = 2)\n",
    "\n",
    "logistic_regression_clean_text_without_stopwords_grcv.fit(X_train_clean_text_without_stopwords, y_train_clean_text_without_stopwords_flat)"
   ]
  },
  {
   "cell_type": "code",
   "execution_count": null,
   "id": "3823c1e3",
   "metadata": {},
   "outputs": [],
   "source": [
    "\n",
    "\n",
    "# Tracking logistic_regression_clean_text_without_stopwords_grcv\n",
    "with mlflow.start_run(run_name = 'logistic_regression_clean_text_without_stopwords_grcv') as run:\n",
    "    mlflow.log_param('model_type', 'Logistic Regression with Grid Searcg CV')\n",
    "    mlflow.log_param('text_peprocessing', 'clean_text_without_stopwords')\n",
    "    mlflow.log_param('cv_folds', 5)\n",
    "    mlflow.log_param('dataset_size', len(X_train_clean_text_without_stopwords))\n",
    "    mlflow.log_param('vocab_size', )\n",
    "\n"
   ]
  },
  {
   "cell_type": "code",
   "execution_count": null,
   "id": "6a3e4faa",
   "metadata": {},
   "outputs": [],
   "source": [
    "\n"
   ]
  }
 ],
 "metadata": {
  "kernelspec": {
   "display_name": "Python 3",
   "language": "python",
   "name": "python3"
  },
  "language_info": {
   "codemirror_mode": {
    "name": "ipython",
    "version": 3
   },
   "file_extension": ".py",
   "mimetype": "text/x-python",
   "name": "python",
   "nbconvert_exporter": "python",
   "pygments_lexer": "ipython3",
   "version": "3.13.2"
  }
 },
 "nbformat": 4,
 "nbformat_minor": 5
}
